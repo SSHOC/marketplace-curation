{
 "cells": [
  {
   "cell_type": "markdown",
   "id": "2c0b7590",
   "metadata": {},
   "source": [
    "# Notebook 4.4 - Actors curation: delete actors not associated to any item\n",
    "\n",
    "This notebook helps moderators to curate Actors with no items in the SSH Open Marketplace. \n",
    "\n",
    "This notebook is composed of n sections:\n",
    "\n",
    "0. Requirements to run this notebook\n",
    "1. Get all Actors from the MP dataset \n",
    "2. Find Actors not associated to any item\n",
    "3. Delete Actors not associated to any item"
   ]
  },
  {
   "cell_type": "markdown",
   "id": "703ee392",
   "metadata": {},
   "source": [
    "## 0 Requirements to run this notebook\n",
    "\n",
    "This section gives all the relevant information to \"interact\" with the MP data.\n",
    "\n",
    "### 0.1 libraries\n",
    "*There are a number of external libraries needed to run the notebook* \n"
   ]
  },
  {
   "cell_type": "code",
   "execution_count": null,
   "id": "96d0d763",
   "metadata": {},
   "outputs": [],
   "source": [
    "import pandas as pd #to manage dataframes\n",
    "\n",
    "import numpy as np #to manage json objects\n",
    "#import the MarketPlace Library \n",
    "from sshmarketplacelib import MPData as mpd\n",
    "from sshmarketplacelib import  eval as eva, helper as hel"
   ]
  },
  {
   "cell_type": "code",
   "execution_count": null,
   "id": "8ef1c4df",
   "metadata": {},
   "outputs": [],
   "source": [
    "mpdata = mpd()\n",
    "utils=hel.Util()\n",
    "check=eva.URLCheck()"
   ]
  },
  {
   "cell_type": "markdown",
   "id": "9450dd20",
   "metadata": {},
   "source": [
    "## 1. Get actors"
   ]
  },
  {
   "cell_type": "code",
   "execution_count": null,
   "id": "3335b0d9",
   "metadata": {},
   "outputs": [],
   "source": [
    "df_tool_flat =mpdata.getMPItems (\"toolsandservices\", True)\n",
    "df_publication_flat =mpdata.getMPItems (\"publications\", True)\n",
    "df_trainingmaterials_flat =mpdata.getMPItems (\"trainingmaterials\", True)\n",
    "df_workflows_flat =mpdata.getMPItems (\"workflows\", True)\n",
    "df_datasets_flat =mpdata.getMPItems (\"datasets\", True)"
   ]
  },
  {
   "cell_type": "code",
   "execution_count": null,
   "id": "4923284d",
   "metadata": {},
   "outputs": [],
   "source": [
    "df_actors_flat =mpdata.getMPItems (\"actors\", False)"
   ]
  },
  {
   "cell_type": "markdown",
   "id": "7e86ac77",
   "metadata": {},
   "source": [
    "Remove spaces from Actor names"
   ]
  },
  {
   "cell_type": "code",
   "execution_count": null,
   "id": "0baf9b96",
   "metadata": {},
   "outputs": [],
   "source": [
    "df_actors_flat['norm_name']=df_actors_flat['name'].apply(lambda y: (' ').join(y.split()) if type(y)==str else y)\n",
    "df_actors_flat_no_duplicates=df_actors_flat.sort_values('name').drop_duplicates(subset=['id'], keep='first', ignore_index=True)\n",
    "\n",
    "print(f'Number of actors: {df_actors_flat.shape[0]}')"
   ]
  },
  {
   "cell_type": "markdown",
   "id": "558ef331",
   "metadata": {},
   "source": [
    "Reduce the number of Actors to inspect by finding those that do not have associated items in the current data set"
   ]
  },
  {
   "cell_type": "code",
   "execution_count": null,
   "id": "dd7c0a1b",
   "metadata": {},
   "outputs": [],
   "source": [
    "df_contrib=utils.getContributors()\n",
    "df_no=df_actors_flat.merge(df_contrib['actor.id'], left_on='id', right_on='actor.id', how = 'outer' ,indicator=True).loc[lambda x : x['_merge']=='left_only']\n",
    "df_no.sort_values('name').shape[0]"
   ]
  },
  {
   "cell_type": "markdown",
   "id": "2fbd2eec",
   "metadata": {},
   "source": [
    "### 2 Find actors not associated to any item\n",
    "The code below search for Actors not associated to any item using the API entry:\n",
    "\n",
    "    /api/actors/{id}?items=true\n"
   ]
  },
  {
   "cell_type": "code",
   "execution_count": null,
   "id": "3b6b842c",
   "metadata": {},
   "outputs": [],
   "source": [
    "df_actors_ei=pd.DataFrame()\n",
    "tot=0\n",
    "print ('Start...')\n",
    "for mytindex, mytrow in df_no.iterrows():\n",
    "    actitems=mpdata.getItemsforActor(str(mytrow.id).replace('.0',''))\n",
    "    if (actitems.empty):\n",
    "        tot=tot+1\n",
    "        if (tot % 100 ==0):\n",
    "            print (f'found {tot} actors,...')\n",
    "        #print (f'{mytrow.id}, {mytrow[\"norm_name\"]}')\n",
    "        new_df = pd.DataFrame([mytrow])\n",
    "        df_actors_ei=pd.concat([df_actors_ei, new_df])\n",
    "       \n",
    "print(f'Number of actors not associated to items: {tot}')"
   ]
  },
  {
   "cell_type": "code",
   "execution_count": null,
   "id": "e6402905",
   "metadata": {},
   "outputs": [],
   "source": [
    "#df_actors_ei.to_pickle('data/actors_no_items.pickle')\n",
    "#df_actors_ei = pd.read_pickle('data/actors_no_items.pickle')"
   ]
  },
  {
   "cell_type": "code",
   "execution_count": null,
   "id": "eb696f36",
   "metadata": {},
   "outputs": [],
   "source": [
    "df_actors_ei.sort_values('id').iloc[-6:]"
   ]
  },
  {
   "cell_type": "markdown",
   "id": "799b6eec",
   "metadata": {},
   "source": [
    "### 3 Delete actors never associated to any item\n",
    "\n",
    "_WARNING: some Actors may be no deleted since they may be associated to deleted items or affiliated to other Actors, in those cases a '500' status is returned. This is a known issue, will be fixed._"
   ]
  },
  {
   "cell_type": "code",
   "execution_count": null,
   "id": "d59a32a8",
   "metadata": {},
   "outputs": [],
   "source": [
    "for niindex,nirow in df_actors_ei.sort_values('id').iterrows():\n",
    "    mpdata.deleteItem('actors', str(nirow.id).replace('.0',''))"
   ]
  },
  {
   "cell_type": "code",
   "execution_count": null,
   "id": "ca429055",
   "metadata": {},
   "outputs": [],
   "source": []
  }
 ],
 "metadata": {
  "kernelspec": {
   "display_name": "Python 3 (ipykernel)",
   "language": "python",
   "name": "python3"
  },
  "language_info": {
   "codemirror_mode": {
    "name": "ipython",
    "version": 3
   },
   "file_extension": ".py",
   "mimetype": "text/x-python",
   "name": "python",
   "nbconvert_exporter": "python",
   "pygments_lexer": "ipython3",
   "version": "3.11.1"
  }
 },
 "nbformat": 4,
 "nbformat_minor": 5
}
