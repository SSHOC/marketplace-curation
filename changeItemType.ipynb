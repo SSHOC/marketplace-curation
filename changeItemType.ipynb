{
 "cells": [
  {
   "cell_type": "markdown",
   "id": "596fa063",
   "metadata": {},
   "source": [
    "## Item type change in the SSH Open Marketplace\n",
    "\n",
    "This notebook supports the change of item type in the SSH Open Marketplace.\n",
    "As it is not possible to directly change the type of an item (i.e. turning a tool into a dataset for ex.), this notebook follows a three steps approach:\n",
    "1. retrieve the existing item for which a chaneg of type is needed\n",
    "2. create a new item with the correct type\n",
    "3. delete the initial item\n"
   ]
  },
  {
   "cell_type": "code",
   "execution_count": null,
   "id": "c5e8aee7",
   "metadata": {},
   "outputs": [],
   "source": [
    "import json\n",
    "import requests\n",
    "#import pandas as pd\n",
    "from sshmarketplacelib import MPData as mpd\n",
    "from sshmarketplacelib import helper as hel"
   ]
  },
  {
   "cell_type": "code",
   "execution_count": null,
   "id": "ddd614d4",
   "metadata": {},
   "outputs": [],
   "source": [
    "mpdata = mpd()\n",
    "utils=hel.Util()"
   ]
  },
  {
   "cell_type": "markdown",
   "id": "4ac8aea5",
   "metadata": {},
   "source": [
    "### 1. Get item body, based on its category and persistentID"
   ]
  },
  {
   "cell_type": "code",
   "execution_count": null,
   "id": "ff64d04c",
   "metadata": {},
   "outputs": [],
   "source": [
    "#get the existing item for which a change of type is needed\n",
    "\n",
    "baseUrlAPI = 'https://marketplace-api.sshopencloud.eu/api/' #depending on the MP instance you want to work with \n",
    "    #prod = https://marketplace-api.sshopencloud.eu/api/\n",
    "    #stage = https://sshoc-marketplace-api-stage.acdh-dev.oeaw.ac.at/api/\n",
    "\n",
    "category = 'training-materials/' #depending on the initial type\n",
    "    # 'tools-services/'\n",
    "    # 'training-materials/'\n",
    "    # 'publications/'\n",
    "    # 'datasets/'\n",
    "\n",
    "#add persistentID\n",
    "ID =''\n",
    "\n",
    "requestURL = baseUrlAPI+category+ID\n",
    "request = requests.get(requestURL).json()\n",
    "#print(request)"
   ]
  },
  {
   "cell_type": "markdown",
   "id": "cb535e1f",
   "metadata": {},
   "source": [
    "### 2. POST a new item, with a new category and the body retrieved above"
   ]
  },
  {
   "cell_type": "code",
   "execution_count": null,
   "id": "04990ebd",
   "metadata": {},
   "outputs": [],
   "source": [
    "#POST the new item - same JSON, change item type\n",
    "\n",
    "bearer=mpdata.checkCredentials()\n",
    "headers = {'Authorization':bearer}\n",
    "\n",
    "post_headers = {'Content-type': 'application/json', 'Authorization':bearer}\n",
    "\n",
    "changeCategory = 'tools-services' #depending on the initial type\n",
    "    # 'tools-services/'\n",
    "    # 'training-materials/'\n",
    "    # 'publications/'\n",
    "    # 'datasets/'\n",
    "\n",
    "post_url = baseUrlAPI+changeCategory\n",
    "post_body=request\n",
    "body=json.dumps(post_body)\n",
    "post_result=requests.post(post_url, data=body, headers=post_headers) \n",
    "print(post_result)"
   ]
  },
  {
   "cell_type": "markdown",
   "id": "2b0f3d79",
   "metadata": {},
   "source": [
    "### 3. DELETE the initial item"
   ]
  },
  {
   "cell_type": "code",
   "execution_count": null,
   "id": "e1a66328",
   "metadata": {},
   "outputs": [],
   "source": [
    "#DELETE initial item\n",
    "\n",
    "urlItemToDelete = baseUrlAPI+category+ID\n",
    "delete_item = requests.delete(urlItemToDelete, headers=headers)\n",
    "print(delete_item)"
   ]
  },
  {
   "cell_type": "code",
   "execution_count": null,
   "id": "f0ac7298",
   "metadata": {},
   "outputs": [],
   "source": []
  }
 ],
 "metadata": {
  "kernelspec": {
   "display_name": "Python 3 (ipykernel)",
   "language": "python",
   "name": "python3"
  },
  "language_info": {
   "codemirror_mode": {
    "name": "ipython",
    "version": 3
   },
   "file_extension": ".py",
   "mimetype": "text/x-python",
   "name": "python",
   "nbconvert_exporter": "python",
   "pygments_lexer": "ipython3",
   "version": "3.8.18"
  }
 },
 "nbformat": 4,
 "nbformat_minor": 5
}
