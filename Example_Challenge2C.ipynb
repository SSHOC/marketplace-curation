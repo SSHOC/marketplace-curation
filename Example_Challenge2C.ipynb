{
 "cells": [
  {
   "cell_type": "markdown",
   "id": "94bd8285",
   "metadata": {},
   "source": [
    "# Challenge 2C - Reuse the SSH Open Marketplace data using the Application Programming Interface (API)\n",
    "\n",
    "This notebook provide examples of the Python API used to access the SSH Open Marketplace dataset. \n",
    "\n"
   ]
  },
  {
   "cell_type": "markdown",
   "id": "0e6eda23",
   "metadata": {},
   "source": [
    "#### Libraries needed to run the notebook."
   ]
  },
  {
   "cell_type": "code",
   "execution_count": null,
   "id": "a9798a4a",
   "metadata": {},
   "outputs": [],
   "source": [
    "import pandas as pd #to manage dataframes\n",
    "from sshmarketplacelib import MPData as mpd\n",
    "from sshmarketplacelib import  eval as eva, helper as hel\n",
    "mpdata = mpd()"
   ]
  },
  {
   "cell_type": "markdown",
   "id": "fdfb90c6",
   "metadata": {},
   "source": [
    "#### The function *getMPItems* is used to download the data from the MP dataset. \n",
    "\n"
   ]
  },
  {
   "cell_type": "code",
   "execution_count": null,
   "id": "cc321bf8",
   "metadata": {},
   "outputs": [],
   "source": [
    "help(mpdata.getMPItems)"
   ]
  },
  {
   "cell_type": "markdown",
   "id": "3eec8c8e",
   "metadata": {},
   "source": [
    "#### Download the *tools or services* items"
   ]
  },
  {
   "cell_type": "code",
   "execution_count": null,
   "id": "55ebfcfb",
   "metadata": {},
   "outputs": [],
   "source": [
    "df_tool_flat =mpdata.getMPItems (\"toolsandservices\", True)"
   ]
  },
  {
   "cell_type": "markdown",
   "id": "06730feb",
   "metadata": {},
   "source": [
    "#### Show data frame info"
   ]
  },
  {
   "cell_type": "code",
   "execution_count": null,
   "id": "ae1900fc",
   "metadata": {},
   "outputs": [],
   "source": [
    "df_tool_flat.info()"
   ]
  },
  {
   "cell_type": "code",
   "execution_count": null,
   "id": "670f0c6d",
   "metadata": {},
   "outputs": [],
   "source": [
    "df_tool_flat[['label', 'category', 'description', 'accessibleAt', 'source.label']].tail()"
   ]
  },
  {
   "cell_type": "markdown",
   "id": "4578ef4f",
   "metadata": {},
   "source": [
    "#### Get properties"
   ]
  },
  {
   "cell_type": "code",
   "execution_count": null,
   "id": "cd7a48ac",
   "metadata": {},
   "outputs": [],
   "source": [
    "utils=hel.Util()\n",
    "df_tool_properties=utils.getProperties(df_tool_flat)"
   ]
  },
  {
   "cell_type": "code",
   "execution_count": null,
   "id": "818eb87b",
   "metadata": {},
   "outputs": [],
   "source": [
    "df_tool_properties.info()"
   ]
  },
  {
   "cell_type": "code",
   "execution_count": null,
   "id": "b5a6a4dd",
   "metadata": {},
   "outputs": [],
   "source": [
    "df_tool_properties[['category', 'label', 'source.label', 'type.label', 'concept.label', 'value']].tail()"
   ]
  },
  {
   "cell_type": "code",
   "execution_count": null,
   "id": "ce2c68b1",
   "metadata": {},
   "outputs": [],
   "source": []
  }
 ],
 "metadata": {
  "kernelspec": {
   "display_name": "Python 3 (ipykernel)",
   "language": "python",
   "name": "python3"
  },
  "language_info": {
   "codemirror_mode": {
    "name": "ipython",
    "version": 3
   },
   "file_extension": ".py",
   "mimetype": "text/x-python",
   "name": "python",
   "nbconvert_exporter": "python",
   "pygments_lexer": "ipython3",
   "version": "3.10.0"
  }
 },
 "nbformat": 4,
 "nbformat_minor": 5
}
