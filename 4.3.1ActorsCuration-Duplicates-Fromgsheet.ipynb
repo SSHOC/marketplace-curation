{
 "cells": [
  {
   "cell_type": "markdown",
   "id": "2c0b7590",
   "metadata": {},
   "source": [
    "# Notebook 4.3.1 - Actors curation: merge duplicates\n",
    "\n",
    "This notebook reads the list of possibly duplicated actors from a [gsheet](https://docs.google.com/spreadsheets/d/1Sio4kP641gpcHZ9Bbix_JneTNyI5AfjKl5KTigr8z2E/edit#gid=1476321643) and merges actors explictly marked as duplicates. \n",
    "\n",
    "This notebook is composed of n sections:\n",
    "\n",
    "0. Requirements to run this notebook\n",
    "1. Get information from the Google sheet and select actors to be merged\n",
    "2. Merge all selected actors"
   ]
  },
  {
   "cell_type": "markdown",
   "id": "703ee392",
   "metadata": {},
   "source": [
    "## 0 Requirements to run this notebook\n",
    "\n",
    "This section gives all the relevant information to \"interact\" with the MP data.\n",
    "\n",
    "### 0.1 libraries\n",
    "\n",
    "*Below the libraries import needed to run this notebook*"
   ]
  },
  {
   "cell_type": "code",
   "execution_count": null,
   "id": "96d0d763",
   "metadata": {},
   "outputs": [],
   "source": [
    "import pandas as pd #to manage dataframes\n",
    "\n",
    "#import the MarketPlace Library \n",
    "from sshmarketplacelib import MPData as mpd\n",
    "from sshmarketplacelib import  eval as eva, helper as hel"
   ]
  },
  {
   "cell_type": "code",
   "execution_count": null,
   "id": "8ef1c4df",
   "metadata": {},
   "outputs": [],
   "source": [
    "mpdata = mpd()\n",
    "utils=hel.Util()\n",
    "check=eva.URLCheck()"
   ]
  },
  {
   "cell_type": "markdown",
   "id": "9450dd20",
   "metadata": {},
   "source": [
    "## 1. Get actors\n",
    "\n",
    "Load actors from the gsheet"
   ]
  },
  {
   "cell_type": "code",
   "execution_count": null,
   "id": "4923284d",
   "metadata": {},
   "outputs": [],
   "source": [
    "sheet_id = '1Sio4kP641gpcHZ9Bbix_JneTNyI5AfjKl5KTigr8z2E'\n",
    "sheet_name = 'duplicatedactors'\n",
    "url = f'https://docs.google.com/spreadsheets/d/{sheet_id}/gviz/tq?tqx=out:csv&sheet={sheet_name}'\n",
    "\n",
    "#print (url)\n",
    "\n",
    "df_actors=pd.read_csv(url)"
   ]
  },
  {
   "cell_type": "code",
   "execution_count": null,
   "id": "bcb4abf3",
   "metadata": {},
   "outputs": [],
   "source": [
    "df_actors.head()"
   ]
  },
  {
   "cell_type": "markdown",
   "id": "4be2fa2b",
   "metadata": {},
   "source": [
    "Select actors to be merged, i.e. those actors having value 'Y' in the column 'Items to merge'"
   ]
  },
  {
   "cell_type": "code",
   "execution_count": null,
   "id": "7b5c352e",
   "metadata": {},
   "outputs": [],
   "source": [
    "df_actors_to_be_merged=df_actors[df_actors['Items to merge']=='Y']\n",
    "df_actors_to_be_merged['idstomerge']=df_actors_to_be_merged['idstobemerged'].apply(lambda y: y[1:-1].split(sep=', '))\n",
    "df_actors_to_be_merged.head()"
   ]
  },
  {
   "cell_type": "code",
   "execution_count": null,
   "id": "7f1cc144",
   "metadata": {},
   "outputs": [],
   "source": [
    "type(df_actors_to_be_merged.iloc[0].idstomerge)"
   ]
  },
  {
   "cell_type": "markdown",
   "id": "7be46185",
   "metadata": {},
   "source": [
    "### 2 Merge duplicated actors\n",
    "\n",
    "The function <i>postMergedActors </i> uses the API entry: <i>(POST) /api/actors/{id}/merge</i> to automatically merge the actors contained in the dataframe actorwebsite_tomerge."
   ]
  },
  {
   "cell_type": "code",
   "execution_count": null,
   "id": "fbb1a9a2",
   "metadata": {},
   "outputs": [],
   "source": [
    "for item in df_actors_to_be_merged.itertuples():\n",
    "    #print(item.idstomerge[0], \", \".join(str (e) for e in item.idstomerge[1:]))\n",
    "    mpdata.postMergedActors(str(item.idstomerge[0]), \", \".join(str (e) for e in item.idstomerge[1:]))"
   ]
  },
  {
   "cell_type": "markdown",
   "id": "f4a3e71f",
   "metadata": {},
   "source": [
    "## 2.1 Reload the actor from MP"
   ]
  },
  {
   "cell_type": "code",
   "execution_count": null,
   "id": "c1522af4",
   "metadata": {},
   "outputs": [],
   "source": [
    "df_actors_flat_new =mpdata.getMPItems (\"actors\", True)"
   ]
  },
  {
   "cell_type": "code",
   "execution_count": null,
   "id": "257afa98",
   "metadata": {},
   "outputs": [],
   "source": []
  },
  {
   "cell_type": "code",
   "execution_count": null,
   "id": "0a6f3deb",
   "metadata": {},
   "outputs": [],
   "source": []
  }
 ],
 "metadata": {
  "kernelspec": {
   "display_name": "Python 3 (ipykernel)",
   "language": "python",
   "name": "python3"
  },
  "language_info": {
   "codemirror_mode": {
    "name": "ipython",
    "version": 3
   },
   "file_extension": ".py",
   "mimetype": "text/x-python",
   "name": "python",
   "nbconvert_exporter": "python",
   "pygments_lexer": "ipython3",
   "version": "3.11.1"
  }
 },
 "nbformat": 4,
 "nbformat_minor": 5
}
