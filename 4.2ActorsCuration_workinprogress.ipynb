{
 "cells": [
  {
   "cell_type": "markdown",
   "id": "8f2d3d46",
   "metadata": {},
   "source": [
    "# Notebook 4.2 - Actors curation\n",
    "\n",
    "This notebook gather several checks that can be run together or independently of each other. The set of these checks helps moderators to improve the actor attributes in the SSH Open Marketplace. \n",
    "\n",
    "This notebook is composed of 6 sections:\n",
    "\n",
    "0. Requirements to run this notebook\n",
    "1. Get actors \n",
    "2. Multiple actor names\n",
    "3. Check Actors not associated to any items\n",
    "4. Duplicated actors \n",
    "    4.1 Get duplicates for actors\n",
    "    4.2 Compare duplicated actors\n",
    "    4.3 Get duplicated actors that are associated to dataset items\n",
    "    4.4 Merge duplicated actors\n",
    "5. Check actor.website URL Status\n"
   ]
  },
  {
   "cell_type": "markdown",
   "id": "fc003625",
   "metadata": {},
   "source": [
    "## 0 Requirements to run this notebook\n",
    "\n",
    "This section gives all the relevant information to \"interact\" with the MP data.\n",
    "\n",
    "### 0.1 libraries\n",
    "*There are a number of external libraries needed to run the notebook* \n",
    "\n",
    "*Furthermore, a dedicated SSH Open Marketplace library - sshmarketplacelib - with customised functions has been created and can be imported using the python import commands.* \n",
    "\n",
    "*Below the libraries import needed to run this notebook*"
   ]
  },
  {
   "cell_type": "code",
   "execution_count": 1,
   "id": "5238cce1",
   "metadata": {},
   "outputs": [],
   "source": [
    "import pandas as pd #to manage dataframes\n",
    "import matplotlib.pyplot as plt #to create histograms and images\n",
    "import seaborn as sns #to create histograms and images\n",
    "import numpy as np #to manage json objects\n",
    "#import the MarketPlace Library \n",
    "from sshmarketplacelib import MPData as mpd\n",
    "from sshmarketplacelib import  eval as eva, helper as hel"
   ]
  },
  {
   "cell_type": "code",
   "execution_count": 2,
   "id": "ee2b15cb",
   "metadata": {},
   "outputs": [],
   "source": [
    "mpdata = mpd()\n",
    "utils=hel.Util()\n",
    "check=eva.URLCheck()"
   ]
  },
  {
   "cell_type": "code",
   "execution_count": 3,
   "id": "786dcab0",
   "metadata": {
    "scrolled": true
   },
   "outputs": [
    {
     "name": "stdout",
     "output_type": "stream",
     "text": [
      "getting data from local repository...\n",
      "getting data from local repository...\n",
      "getting data from local repository...\n",
      "getting data from local repository...\n",
      "getting data from local repository...\n"
     ]
    }
   ],
   "source": [
    "df_tool_flat =mpdata.getMPItems (\"toolsandservices\", True)\n",
    "df_publication_flat =mpdata.getMPItems (\"publications\", True)\n",
    "df_trainingmaterials_flat =mpdata.getMPItems (\"trainingmaterials\", True)\n",
    "df_workflows_flat =mpdata.getMPItems (\"workflows\", True)\n",
    "df_datasets_flat =mpdata.getMPItems (\"datasets\", True)"
   ]
  },
  {
   "cell_type": "markdown",
   "id": "f5f3d4b3",
   "metadata": {},
   "source": [
    "## 1. Get actors"
   ]
  },
  {
   "cell_type": "code",
   "execution_count": 4,
   "id": "ba4453af",
   "metadata": {},
   "outputs": [
    {
     "name": "stdout",
     "output_type": "stream",
     "text": [
      "getting data from local repository...\n"
     ]
    }
   ],
   "source": [
    "df_actors_flat =mpdata.getMPItems (\"actors\", True)"
   ]
  },
  {
   "cell_type": "code",
   "execution_count": 5,
   "id": "5fd4107c",
   "metadata": {},
   "outputs": [
    {
     "data": {
      "text/html": [
       "<div>\n",
       "<style scoped>\n",
       "    .dataframe tbody tr th:only-of-type {\n",
       "        vertical-align: middle;\n",
       "    }\n",
       "\n",
       "    .dataframe tbody tr th {\n",
       "        vertical-align: top;\n",
       "    }\n",
       "\n",
       "    .dataframe thead th {\n",
       "        text-align: right;\n",
       "    }\n",
       "</style>\n",
       "<table border=\"1\" class=\"dataframe\">\n",
       "  <thead>\n",
       "    <tr style=\"text-align: right;\">\n",
       "      <th></th>\n",
       "      <th>id</th>\n",
       "      <th>name</th>\n",
       "      <th>externalIds</th>\n",
       "      <th>affiliations</th>\n",
       "      <th>website</th>\n",
       "    </tr>\n",
       "  </thead>\n",
       "  <tbody>\n",
       "    <tr>\n",
       "      <th>8977</th>\n",
       "      <td>8062</td>\n",
       "      <td>Zong Peng</td>\n",
       "      <td>[{'identifierService': {'code': 'DBLP', 'label...</td>\n",
       "      <td>[]</td>\n",
       "      <td>NaN</td>\n",
       "    </tr>\n",
       "    <tr>\n",
       "      <th>8978</th>\n",
       "      <td>2029</td>\n",
       "      <td>Zoomify Inc.</td>\n",
       "      <td>[{'identifierService': {'code': 'SourceActorId...</td>\n",
       "      <td>[]</td>\n",
       "      <td>NaN</td>\n",
       "    </tr>\n",
       "    <tr>\n",
       "      <th>8979</th>\n",
       "      <td>218</td>\n",
       "      <td>Zoomify Inc.</td>\n",
       "      <td>[]</td>\n",
       "      <td>[]</td>\n",
       "      <td>NaN</td>\n",
       "    </tr>\n",
       "    <tr>\n",
       "      <th>8980</th>\n",
       "      <td>1590</td>\n",
       "      <td>Zoppi Angela</td>\n",
       "      <td>[]</td>\n",
       "      <td>[]</td>\n",
       "      <td>NaN</td>\n",
       "    </tr>\n",
       "    <tr>\n",
       "      <th>8981</th>\n",
       "      <td>7819</td>\n",
       "      <td>Zsófia Fellegi</td>\n",
       "      <td>[{'identifierService': {'code': 'DBLP', 'label...</td>\n",
       "      <td>[]</td>\n",
       "      <td>NaN</td>\n",
       "    </tr>\n",
       "  </tbody>\n",
       "</table>\n",
       "</div>"
      ],
      "text/plain": [
       "        id            name                                        externalIds  \\\n",
       "8977  8062       Zong Peng  [{'identifierService': {'code': 'DBLP', 'label...   \n",
       "8978  2029    Zoomify Inc.  [{'identifierService': {'code': 'SourceActorId...   \n",
       "8979   218    Zoomify Inc.                                                 []   \n",
       "8980  1590    Zoppi Angela                                                 []   \n",
       "8981  7819  Zsófia Fellegi  [{'identifierService': {'code': 'DBLP', 'label...   \n",
       "\n",
       "     affiliations website  \n",
       "8977           []     NaN  \n",
       "8978           []     NaN  \n",
       "8979           []     NaN  \n",
       "8980           []     NaN  \n",
       "8981           []     NaN  "
      ]
     },
     "execution_count": 5,
     "metadata": {},
     "output_type": "execute_result"
    }
   ],
   "source": [
    "df_actors_flat.tail()"
   ]
  },
  {
   "cell_type": "markdown",
   "id": "5686811a",
   "metadata": {},
   "source": [
    "## 2. Multiple actor names\n",
    "\n",
    "Identify multivalue actors\n",
    "\n",
    "This section of the notebook inspects actors names and provide a list (csv export downloaded in the `data` folder) of actors and the associated items that have a comma in the actor.name field. Other separators such as ; / - could also be used to inspect and clean the actor.name fields.\n"
   ]
  },
  {
   "cell_type": "code",
   "execution_count": 6,
   "id": "f2e66617",
   "metadata": {},
   "outputs": [
    {
     "name": "stdout",
     "output_type": "stream",
     "text": [
      "Loading Actors for toolsandservices\n",
      "Loading Actors for publications\n",
      "Loading Actors for trainingmaterials\n",
      "Loading Actors for workflows\n",
      "Loading Actors for datasets\n",
      "keyword dataset is not present\n",
      "concepts dataset is not present\n"
     ]
    },
    {
     "data": {
      "text/html": [
       "<div>\n",
       "<style scoped>\n",
       "    .dataframe tbody tr th:only-of-type {\n",
       "        vertical-align: middle;\n",
       "    }\n",
       "\n",
       "    .dataframe tbody tr th {\n",
       "        vertical-align: top;\n",
       "    }\n",
       "\n",
       "    .dataframe thead th {\n",
       "        text-align: right;\n",
       "    }\n",
       "</style>\n",
       "<table border=\"1\" class=\"dataframe\">\n",
       "  <thead>\n",
       "    <tr style=\"text-align: right;\">\n",
       "      <th></th>\n",
       "      <th>label</th>\n",
       "      <th>persistentId</th>\n",
       "      <th>category</th>\n",
       "      <th>actor.id</th>\n",
       "      <th>actor.name</th>\n",
       "      <th>actor.externalIds</th>\n",
       "      <th>actor.affiliations</th>\n",
       "      <th>role.code</th>\n",
       "      <th>role.label</th>\n",
       "      <th>role.ord</th>\n",
       "      <th>actor.website</th>\n",
       "    </tr>\n",
       "  </thead>\n",
       "  <tbody>\n",
       "    <tr>\n",
       "      <th>0</th>\n",
       "      <td>140kit</td>\n",
       "      <td>SIU1nO</td>\n",
       "      <td>tool-or-service</td>\n",
       "      <td>2224</td>\n",
       "      <td>Ian Pearce, Devin Gaffney</td>\n",
       "      <td>[{'identifierService': {'code': 'SourceActorId...</td>\n",
       "      <td>[]</td>\n",
       "      <td>creator</td>\n",
       "      <td>Creator</td>\n",
       "      <td>3</td>\n",
       "      <td>NaN</td>\n",
       "    </tr>\n",
       "    <tr>\n",
       "      <th>6</th>\n",
       "      <td>Abbot</td>\n",
       "      <td>MXsRM1</td>\n",
       "      <td>tool-or-service</td>\n",
       "      <td>2584</td>\n",
       "      <td>Brian Pytlik-Zillig, Stephen Ramsay, and Marti...</td>\n",
       "      <td>[{'identifierService': {'code': 'SourceActorId...</td>\n",
       "      <td>[]</td>\n",
       "      <td>creator</td>\n",
       "      <td>Creator</td>\n",
       "      <td>3</td>\n",
       "      <td>http://www.monkproject.org/</td>\n",
       "    </tr>\n",
       "    <tr>\n",
       "      <th>7</th>\n",
       "      <td>ABFREQ</td>\n",
       "      <td>LtXDGc</td>\n",
       "      <td>tool-or-service</td>\n",
       "      <td>2042</td>\n",
       "      <td>Alastair McKinnon, McGill University</td>\n",
       "      <td>[{'identifierService': {'code': 'SourceActorId...</td>\n",
       "      <td>[]</td>\n",
       "      <td>creator</td>\n",
       "      <td>Creator</td>\n",
       "      <td>3</td>\n",
       "      <td>NaN</td>\n",
       "    </tr>\n",
       "    <tr>\n",
       "      <th>24</th>\n",
       "      <td>A-frame</td>\n",
       "      <td>2zIseh</td>\n",
       "      <td>tool-or-service</td>\n",
       "      <td>2524</td>\n",
       "      <td>Diego Marcos, Don McCurdy, &amp; Kevin Ngo</td>\n",
       "      <td>[{'identifierService': {'code': 'SourceActorId...</td>\n",
       "      <td>[]</td>\n",
       "      <td>creator</td>\n",
       "      <td>Creator</td>\n",
       "      <td>3</td>\n",
       "      <td>NaN</td>\n",
       "    </tr>\n",
       "    <tr>\n",
       "      <th>35</th>\n",
       "      <td>ALGOL</td>\n",
       "      <td>YKv47J</td>\n",
       "      <td>tool-or-service</td>\n",
       "      <td>2343</td>\n",
       "      <td>Bauer, Bottenbruch, Rutishauser, Samelson, Bac...</td>\n",
       "      <td>[{'identifierService': {'code': 'SourceActorId...</td>\n",
       "      <td>[]</td>\n",
       "      <td>creator</td>\n",
       "      <td>Creator</td>\n",
       "      <td>3</td>\n",
       "      <td>NaN</td>\n",
       "    </tr>\n",
       "  </tbody>\n",
       "</table>\n",
       "</div>"
      ],
      "text/plain": [
       "      label persistentId         category  actor.id  \\\n",
       "0    140kit       SIU1nO  tool-or-service      2224   \n",
       "6     Abbot       MXsRM1  tool-or-service      2584   \n",
       "7    ABFREQ       LtXDGc  tool-or-service      2042   \n",
       "24  A-frame       2zIseh  tool-or-service      2524   \n",
       "35    ALGOL       YKv47J  tool-or-service      2343   \n",
       "\n",
       "                                           actor.name  \\\n",
       "0                           Ian Pearce, Devin Gaffney   \n",
       "6   Brian Pytlik-Zillig, Stephen Ramsay, and Marti...   \n",
       "7                Alastair McKinnon, McGill University   \n",
       "24             Diego Marcos, Don McCurdy, & Kevin Ngo   \n",
       "35  Bauer, Bottenbruch, Rutishauser, Samelson, Bac...   \n",
       "\n",
       "                                    actor.externalIds actor.affiliations  \\\n",
       "0   [{'identifierService': {'code': 'SourceActorId...                 []   \n",
       "6   [{'identifierService': {'code': 'SourceActorId...                 []   \n",
       "7   [{'identifierService': {'code': 'SourceActorId...                 []   \n",
       "24  [{'identifierService': {'code': 'SourceActorId...                 []   \n",
       "35  [{'identifierService': {'code': 'SourceActorId...                 []   \n",
       "\n",
       "   role.code role.label  role.ord                actor.website  \n",
       "0    creator    Creator         3                          NaN  \n",
       "6    creator    Creator         3  http://www.monkproject.org/  \n",
       "7    creator    Creator         3                          NaN  \n",
       "24   creator    Creator         3                          NaN  \n",
       "35   creator    Creator         3                          NaN  "
      ]
     },
     "execution_count": 6,
     "metadata": {},
     "output_type": "execute_result"
    }
   ],
   "source": [
    "#extcontr_ei_df=extcontr_df[extcontr_df['actor.externalIds'].notnull()]\n",
    "extcontr_df=utils.getContributors()\n",
    "extcontr_ei_df=extcontr_df[extcontr_df['actor.name'].str.contains(\",\")]\n",
    "extcontr_ei_df.head()"
   ]
  },
  {
   "cell_type": "code",
   "execution_count": 7,
   "id": "2cd54601",
   "metadata": {},
   "outputs": [],
   "source": [
    "# extcontr_ei_df['eilen'] = extcontr_ei_df['actor.externalIds'].apply(lambda y: len(y))"
   ]
  },
  {
   "cell_type": "code",
   "execution_count": 8,
   "id": "86e33808",
   "metadata": {},
   "outputs": [],
   "source": [
    "#items= pd.json_normalize(data=extcontr_ei_df, record_path='actor.affiliations', meta=['label', 'persistentId', 'category'])"
   ]
  },
  {
   "cell_type": "code",
   "execution_count": 9,
   "id": "5cc7024f",
   "metadata": {},
   "outputs": [
    {
     "data": {
      "text/plain": [
       "(321, 11)"
      ]
     },
     "execution_count": 9,
     "metadata": {},
     "output_type": "execute_result"
    }
   ],
   "source": [
    "extcontr_ei_df.shape"
   ]
  },
  {
   "cell_type": "code",
   "execution_count": 10,
   "id": "551ea777",
   "metadata": {},
   "outputs": [
    {
     "data": {
      "text/plain": [
       "[{'identifierService': {'code': 'SourceActorId',\n",
       "   'label': 'Source ActorId',\n",
       "   'ord': 7,\n",
       "   'urlTemplate': ''},\n",
       "  'identifier': '1-36fbe0d84d048a42c2c4e12f6f89467d24a57ad671acaef81c708c6ee6e134e9'}]"
      ]
     },
     "execution_count": 10,
     "metadata": {},
     "output_type": "execute_result"
    }
   ],
   "source": [
    "extcontr_ei_df.iloc[0]['actor.externalIds']"
   ]
  },
  {
   "cell_type": "code",
   "execution_count": 11,
   "id": "7901ceeb",
   "metadata": {},
   "outputs": [],
   "source": [
    "extcontr_nd_df=extcontr_df.drop_duplicates(subset=['actor.name', 'persistentId'], keep='first', inplace=False, ignore_index=True)\n"
   ]
  },
  {
   "cell_type": "code",
   "execution_count": 12,
   "id": "66f3ec64",
   "metadata": {},
   "outputs": [
    {
     "data": {
      "text/plain": [
       "(11701, 11)"
      ]
     },
     "execution_count": 12,
     "metadata": {},
     "output_type": "execute_result"
    }
   ],
   "source": [
    "extcontr_df.shape"
   ]
  },
  {
   "cell_type": "code",
   "execution_count": 13,
   "id": "fcb209cb",
   "metadata": {},
   "outputs": [
    {
     "data": {
      "text/plain": [
       "(319, 11)"
      ]
     },
     "execution_count": 13,
     "metadata": {},
     "output_type": "execute_result"
    }
   ],
   "source": [
    "extcontr_ei_df=extcontr_nd_df[extcontr_nd_df['actor.name'].str.contains(\",\")]\n",
    "extcontr_ei_df.shape"
   ]
  },
  {
   "cell_type": "code",
   "execution_count": 14,
   "id": "7719b165",
   "metadata": {},
   "outputs": [],
   "source": [
    "extcontr_ei_df.sort_values('persistentId').to_csv(path_or_buf='data/commaactors.csv', sep=',', index=False)"
   ]
  },
  {
   "cell_type": "markdown",
   "id": "bc5c964b",
   "metadata": {},
   "source": [
    "## 3. Check Actors not associated to any items"
   ]
  },
  {
   "cell_type": "code",
   "execution_count": 15,
   "id": "ebd5da15",
   "metadata": {},
   "outputs": [
    {
     "name": "stdout",
     "output_type": "stream",
     "text": [
      "Loading Actors for toolsandservices\n",
      "Loading Actors for publications\n",
      "Loading Actors for trainingmaterials\n",
      "Loading Actors for workflows\n",
      "Loading Actors for datasets\n",
      "keyword dataset is not present\n",
      "concepts dataset is not present\n"
     ]
    },
    {
     "data": {
      "text/html": [
       "<div>\n",
       "<style scoped>\n",
       "    .dataframe tbody tr th:only-of-type {\n",
       "        vertical-align: middle;\n",
       "    }\n",
       "\n",
       "    .dataframe tbody tr th {\n",
       "        vertical-align: top;\n",
       "    }\n",
       "\n",
       "    .dataframe thead th {\n",
       "        text-align: right;\n",
       "    }\n",
       "</style>\n",
       "<table border=\"1\" class=\"dataframe\">\n",
       "  <thead>\n",
       "    <tr style=\"text-align: right;\">\n",
       "      <th></th>\n",
       "      <th>id</th>\n",
       "      <th>name</th>\n",
       "      <th>externalIds</th>\n",
       "      <th>affiliations</th>\n",
       "      <th>website</th>\n",
       "      <th>actor.id</th>\n",
       "      <th>_merge</th>\n",
       "    </tr>\n",
       "  </thead>\n",
       "  <tbody>\n",
       "    <tr>\n",
       "      <th>2361</th>\n",
       "      <td>3318.0</td>\n",
       "      <td>\\n                        Costas\\n            ...</td>\n",
       "      <td>[{'identifierService': {'code': 'SourceActorId...</td>\n",
       "      <td>[]</td>\n",
       "      <td>NaN</td>\n",
       "      <td>NaN</td>\n",
       "      <td>left_only</td>\n",
       "    </tr>\n",
       "    <tr>\n",
       "      <th>3521</th>\n",
       "      <td>3317.0</td>\n",
       "      <td>\\n                        Emilie\\n            ...</td>\n",
       "      <td>[{'identifierService': {'code': 'SourceActorId...</td>\n",
       "      <td>[]</td>\n",
       "      <td>NaN</td>\n",
       "      <td>NaN</td>\n",
       "      <td>left_only</td>\n",
       "    </tr>\n",
       "    <tr>\n",
       "      <th>4048</th>\n",
       "      <td>3311.0</td>\n",
       "      <td>\\n                        FEETK\\n             ...</td>\n",
       "      <td>[{'identifierService': {'code': 'SourceActorId...</td>\n",
       "      <td>[]</td>\n",
       "      <td>NaN</td>\n",
       "      <td>NaN</td>\n",
       "      <td>left_only</td>\n",
       "    </tr>\n",
       "    <tr>\n",
       "      <th>7623</th>\n",
       "      <td>3312.0</td>\n",
       "      <td>\\n                        Maastricht Universit...</td>\n",
       "      <td>[{'identifierService': {'code': 'SourceActorId...</td>\n",
       "      <td>[]</td>\n",
       "      <td>NaN</td>\n",
       "      <td>NaN</td>\n",
       "      <td>left_only</td>\n",
       "    </tr>\n",
       "    <tr>\n",
       "      <th>8091</th>\n",
       "      <td>3316.0</td>\n",
       "      <td>\\n                        Martina\\n           ...</td>\n",
       "      <td>[{'identifierService': {'code': 'SourceActorId...</td>\n",
       "      <td>[]</td>\n",
       "      <td>NaN</td>\n",
       "      <td>NaN</td>\n",
       "      <td>left_only</td>\n",
       "    </tr>\n",
       "  </tbody>\n",
       "</table>\n",
       "</div>"
      ],
      "text/plain": [
       "          id                                               name  \\\n",
       "2361  3318.0  \\n                        Costas\\n            ...   \n",
       "3521  3317.0  \\n                        Emilie\\n            ...   \n",
       "4048  3311.0  \\n                        FEETK\\n             ...   \n",
       "7623  3312.0  \\n                        Maastricht Universit...   \n",
       "8091  3316.0  \\n                        Martina\\n           ...   \n",
       "\n",
       "                                            externalIds affiliations website  \\\n",
       "2361  [{'identifierService': {'code': 'SourceActorId...           []     NaN   \n",
       "3521  [{'identifierService': {'code': 'SourceActorId...           []     NaN   \n",
       "4048  [{'identifierService': {'code': 'SourceActorId...           []     NaN   \n",
       "7623  [{'identifierService': {'code': 'SourceActorId...           []     NaN   \n",
       "8091  [{'identifierService': {'code': 'SourceActorId...           []     NaN   \n",
       "\n",
       "      actor.id     _merge  \n",
       "2361       NaN  left_only  \n",
       "3521       NaN  left_only  \n",
       "4048       NaN  left_only  \n",
       "7623       NaN  left_only  \n",
       "8091       NaN  left_only  "
      ]
     },
     "execution_count": 15,
     "metadata": {},
     "output_type": "execute_result"
    }
   ],
   "source": [
    "df_contrib=utils.getContributors()\n",
    "df_noitems=df_actors_flat.merge(df_contrib['actor.id'], left_on='id', right_on='actor.id', how = 'outer' ,indicator=True).loc[lambda x : x['_merge']=='left_only']\n",
    "df_noitems.sort_values('name').head()"
   ]
  },
  {
   "cell_type": "code",
   "execution_count": 16,
   "id": "91fb6ee3",
   "metadata": {},
   "outputs": [
    {
     "data": {
      "text/plain": [
       "(2211, 7)"
      ]
     },
     "execution_count": 16,
     "metadata": {},
     "output_type": "execute_result"
    }
   ],
   "source": [
    "df_noitems.sort_values('name').shape"
   ]
  },
  {
   "cell_type": "code",
   "execution_count": 17,
   "id": "d09cf19e",
   "metadata": {},
   "outputs": [
    {
     "data": {
      "text/plain": [
       "(577, 8)"
      ]
     },
     "execution_count": 17,
     "metadata": {},
     "output_type": "execute_result"
    }
   ],
   "source": [
    "filter_attribute='name'\n",
    "df_actor_noitems_duplicates=utils.getDuplicates(df_noitems, filter_attribute)\n",
    "df_actor_noitems_duplicates.shape"
   ]
  },
  {
   "cell_type": "code",
   "execution_count": 18,
   "id": "0be57f28",
   "metadata": {
    "scrolled": true
   },
   "outputs": [
    {
     "data": {
      "text/html": [
       "<div>\n",
       "<style scoped>\n",
       "    .dataframe tbody tr th:only-of-type {\n",
       "        vertical-align: middle;\n",
       "    }\n",
       "\n",
       "    .dataframe tbody tr th {\n",
       "        vertical-align: top;\n",
       "    }\n",
       "\n",
       "    .dataframe thead th {\n",
       "        text-align: right;\n",
       "    }\n",
       "</style>\n",
       "<table border=\"1\" class=\"dataframe\">\n",
       "  <thead>\n",
       "    <tr style=\"text-align: right;\">\n",
       "      <th></th>\n",
       "      <th>MPUrl</th>\n",
       "      <th>id</th>\n",
       "      <th>name</th>\n",
       "      <th>externalIds</th>\n",
       "      <th>affiliations</th>\n",
       "      <th>website</th>\n",
       "      <th>actor.id</th>\n",
       "      <th>_merge</th>\n",
       "    </tr>\n",
       "  </thead>\n",
       "  <tbody>\n",
       "    <tr>\n",
       "      <th>57</th>\n",
       "      <td>actors/3020.0</td>\n",
       "      <td>3020.0</td>\n",
       "      <td>Adam Crymble</td>\n",
       "      <td>[{'identifierService': {'code': 'GitHub', 'lab...</td>\n",
       "      <td>[{'id': 2902, 'name': 'University College Lond...</td>\n",
       "      <td>http://adamcrymble.org</td>\n",
       "      <td>NaN</td>\n",
       "      <td>left_only</td>\n",
       "    </tr>\n",
       "    <tr>\n",
       "      <th>58</th>\n",
       "      <td>actors/3020.0</td>\n",
       "      <td>3020.0</td>\n",
       "      <td>Adam Crymble</td>\n",
       "      <td>[{'identifierService': {'code': 'GitHub', 'lab...</td>\n",
       "      <td>[{'id': 2902, 'name': 'University College Lond...</td>\n",
       "      <td>http://adamcrymble.org</td>\n",
       "      <td>NaN</td>\n",
       "      <td>left_only</td>\n",
       "    </tr>\n",
       "    <tr>\n",
       "      <th>200</th>\n",
       "      <td>actors/1017.0</td>\n",
       "      <td>1017.0</td>\n",
       "      <td>Alan MacEachern</td>\n",
       "      <td>[]</td>\n",
       "      <td>[{'id': 665, 'name': 'Northwestern University,...</td>\n",
       "      <td>NaN</td>\n",
       "      <td>NaN</td>\n",
       "      <td>left_only</td>\n",
       "    </tr>\n",
       "    <tr>\n",
       "      <th>201</th>\n",
       "      <td>actors/2938.0</td>\n",
       "      <td>2938.0</td>\n",
       "      <td>Alan MacEachern</td>\n",
       "      <td>[{'identifierService': {'code': 'SourceActorId...</td>\n",
       "      <td>[]</td>\n",
       "      <td>NaN</td>\n",
       "      <td>NaN</td>\n",
       "      <td>left_only</td>\n",
       "    </tr>\n",
       "    <tr>\n",
       "      <th>283</th>\n",
       "      <td>actors/192.0</td>\n",
       "      <td>192.0</td>\n",
       "      <td>Alexander Prokhorenko</td>\n",
       "      <td>[]</td>\n",
       "      <td>[]</td>\n",
       "      <td>https://twitter.com/iwhite</td>\n",
       "      <td>NaN</td>\n",
       "      <td>left_only</td>\n",
       "    </tr>\n",
       "    <tr>\n",
       "      <th>...</th>\n",
       "      <td>...</td>\n",
       "      <td>...</td>\n",
       "      <td>...</td>\n",
       "      <td>...</td>\n",
       "      <td>...</td>\n",
       "      <td>...</td>\n",
       "      <td>...</td>\n",
       "      <td>...</td>\n",
       "    </tr>\n",
       "    <tr>\n",
       "      <th>13816</th>\n",
       "      <td>actors/2169.0</td>\n",
       "      <td>2169.0</td>\n",
       "      <td>ZappTek</td>\n",
       "      <td>[{'identifierService': {'code': 'SourceActorId...</td>\n",
       "      <td>[]</td>\n",
       "      <td>http://www.zapptek.com</td>\n",
       "      <td>NaN</td>\n",
       "      <td>left_only</td>\n",
       "    </tr>\n",
       "    <tr>\n",
       "      <th>13817</th>\n",
       "      <td>actors/346.0</td>\n",
       "      <td>346.0</td>\n",
       "      <td>ZappTek</td>\n",
       "      <td>[]</td>\n",
       "      <td>[]</td>\n",
       "      <td>http://www.zapptek.com</td>\n",
       "      <td>NaN</td>\n",
       "      <td>left_only</td>\n",
       "    </tr>\n",
       "    <tr>\n",
       "      <th>13848</th>\n",
       "      <td>actors/3042.0</td>\n",
       "      <td>3042.0</td>\n",
       "      <td>Zoe LeBlanc</td>\n",
       "      <td>[{'identifierService': {'code': 'SourceActorId...</td>\n",
       "      <td>[{'id': 2921, 'name': 'Princeton University, U...</td>\n",
       "      <td>http://zoeleblanc.com</td>\n",
       "      <td>NaN</td>\n",
       "      <td>left_only</td>\n",
       "    </tr>\n",
       "    <tr>\n",
       "      <th>13849</th>\n",
       "      <td>actors/3089.0</td>\n",
       "      <td>3089.0</td>\n",
       "      <td>Zoe LeBlanc</td>\n",
       "      <td>[{'identifierService': {'code': 'GitHub', 'lab...</td>\n",
       "      <td>[{'id': 2921, 'name': 'Princeton University, U...</td>\n",
       "      <td>http://zoeleblanc.com</td>\n",
       "      <td>NaN</td>\n",
       "      <td>left_only</td>\n",
       "    </tr>\n",
       "    <tr>\n",
       "      <th>13851</th>\n",
       "      <td>actors/1106.0</td>\n",
       "      <td>1106.0</td>\n",
       "      <td>Zoe LeBlanc</td>\n",
       "      <td>[{'identifierService': {'code': 'GitHub', 'lab...</td>\n",
       "      <td>[{'id': 162, 'name': 'Princeton University, Go...</td>\n",
       "      <td>http://zoeleblanc.com</td>\n",
       "      <td>NaN</td>\n",
       "      <td>left_only</td>\n",
       "    </tr>\n",
       "  </tbody>\n",
       "</table>\n",
       "<p>577 rows × 8 columns</p>\n",
       "</div>"
      ],
      "text/plain": [
       "               MPUrl      id                   name  \\\n",
       "57     actors/3020.0  3020.0           Adam Crymble   \n",
       "58     actors/3020.0  3020.0           Adam Crymble   \n",
       "200    actors/1017.0  1017.0        Alan MacEachern   \n",
       "201    actors/2938.0  2938.0        Alan MacEachern   \n",
       "283     actors/192.0   192.0  Alexander Prokhorenko   \n",
       "...              ...     ...                    ...   \n",
       "13816  actors/2169.0  2169.0                ZappTek   \n",
       "13817   actors/346.0   346.0                ZappTek   \n",
       "13848  actors/3042.0  3042.0            Zoe LeBlanc   \n",
       "13849  actors/3089.0  3089.0            Zoe LeBlanc   \n",
       "13851  actors/1106.0  1106.0            Zoe LeBlanc   \n",
       "\n",
       "                                             externalIds  \\\n",
       "57     [{'identifierService': {'code': 'GitHub', 'lab...   \n",
       "58     [{'identifierService': {'code': 'GitHub', 'lab...   \n",
       "200                                                   []   \n",
       "201    [{'identifierService': {'code': 'SourceActorId...   \n",
       "283                                                   []   \n",
       "...                                                  ...   \n",
       "13816  [{'identifierService': {'code': 'SourceActorId...   \n",
       "13817                                                 []   \n",
       "13848  [{'identifierService': {'code': 'SourceActorId...   \n",
       "13849  [{'identifierService': {'code': 'GitHub', 'lab...   \n",
       "13851  [{'identifierService': {'code': 'GitHub', 'lab...   \n",
       "\n",
       "                                            affiliations  \\\n",
       "57     [{'id': 2902, 'name': 'University College Lond...   \n",
       "58     [{'id': 2902, 'name': 'University College Lond...   \n",
       "200    [{'id': 665, 'name': 'Northwestern University,...   \n",
       "201                                                   []   \n",
       "283                                                   []   \n",
       "...                                                  ...   \n",
       "13816                                                 []   \n",
       "13817                                                 []   \n",
       "13848  [{'id': 2921, 'name': 'Princeton University, U...   \n",
       "13849  [{'id': 2921, 'name': 'Princeton University, U...   \n",
       "13851  [{'id': 162, 'name': 'Princeton University, Go...   \n",
       "\n",
       "                          website  actor.id     _merge  \n",
       "57         http://adamcrymble.org       NaN  left_only  \n",
       "58         http://adamcrymble.org       NaN  left_only  \n",
       "200                           NaN       NaN  left_only  \n",
       "201                           NaN       NaN  left_only  \n",
       "283    https://twitter.com/iwhite       NaN  left_only  \n",
       "...                           ...       ...        ...  \n",
       "13816      http://www.zapptek.com       NaN  left_only  \n",
       "13817      http://www.zapptek.com       NaN  left_only  \n",
       "13848       http://zoeleblanc.com       NaN  left_only  \n",
       "13849       http://zoeleblanc.com       NaN  left_only  \n",
       "13851       http://zoeleblanc.com       NaN  left_only  \n",
       "\n",
       "[577 rows x 8 columns]"
      ]
     },
     "execution_count": 18,
     "metadata": {},
     "output_type": "execute_result"
    }
   ],
   "source": [
    "df_actor_noitems_duplicates"
   ]
  },
  {
   "cell_type": "markdown",
   "id": "cd987e87",
   "metadata": {},
   "source": [
    "## 4. Duplicated actors\n",
    "    4.1 Get duplicates for actors\n",
    "    4.2 Compare duplicated actors\n",
    "    4.3 Get duplicated actors that are associated to dataset items\n",
    "    4.4 Merge duplicated actors"
   ]
  },
  {
   "cell_type": "markdown",
   "id": "8ab0b31c",
   "metadata": {},
   "source": [
    "### 4.1 Get duplicates for actors"
   ]
  },
  {
   "cell_type": "code",
   "execution_count": 19,
   "id": "f1e55157",
   "metadata": {},
   "outputs": [],
   "source": [
    "utils=hel.Util()\n",
    "filter_attribute='name, website'\n",
    "df_actor_duplicates=utils.getDuplicates(df_actors_flat, filter_attribute)\n",
    "dupl_actor_website=df_actor_duplicates[df_actor_duplicates['website'].notnull()].sort_values('name')"
   ]
  },
  {
   "cell_type": "code",
   "execution_count": 20,
   "id": "51aae339",
   "metadata": {},
   "outputs": [
    {
     "name": "stdout",
     "output_type": "stream",
     "text": [
      "Using the attribute(s) \"name, website\" as filter, there are: 715 duplicated actors\n"
     ]
    }
   ],
   "source": [
    "print (f'Using the attribute(s) \"{filter_attribute}\" as filter, there are: {dupl_actor_website.shape[0]} duplicated actors')"
   ]
  },
  {
   "cell_type": "code",
   "execution_count": 21,
   "id": "9b7fe8af",
   "metadata": {
    "scrolled": true
   },
   "outputs": [],
   "source": [
    "dupl_actor_website=df_actor_duplicates[df_actor_duplicates['website'].notnull()].sort_values('name')"
   ]
  },
  {
   "cell_type": "markdown",
   "id": "0138c5c8",
   "metadata": {},
   "source": [
    "### 4.2 Compare duplicated actors"
   ]
  },
  {
   "cell_type": "code",
   "execution_count": 22,
   "id": "f17ac21d",
   "metadata": {},
   "outputs": [],
   "source": [
    "#id of duplicated actors\n",
    "ids=[426, 2258]\n",
    "compareitems=df_actor_duplicates[df_actor_duplicates.id.isin(ids)]"
   ]
  },
  {
   "cell_type": "code",
   "execution_count": 23,
   "id": "a7ce3cc0",
   "metadata": {},
   "outputs": [],
   "source": [
    "css_equal=\"font-size:1.5rem; border: 2px solid silver;background-color: white; padding: 10px 20px\"\n",
    "css_diff=\"background-color: lightyellow;  font-size:1.5rem; border: 2px solid silver; padding: 10px 20px\""
   ]
  },
  {
   "cell_type": "code",
   "execution_count": 24,
   "id": "49c40bec",
   "metadata": {},
   "outputs": [
    {
     "data": {
      "text/html": [
       "<style type=\"text/css\">\n",
       "#T_bed90_row0_col0, #T_bed90_row0_col1, #T_bed90_row1_col0, #T_bed90_row1_col1, #T_bed90_row3_col0, #T_bed90_row3_col1, #T_bed90_row4_col0, #T_bed90_row4_col1 {\n",
       "  background-color: lightyellow;\n",
       "  font-size: 1.5rem;\n",
       "  border: 2px solid silver;\n",
       "  padding: 10px 20px;\n",
       "}\n",
       "#T_bed90_row2_col0, #T_bed90_row2_col1, #T_bed90_row5_col0, #T_bed90_row5_col1 {\n",
       "  font-size: 1.5rem;\n",
       "  border: 2px solid silver;\n",
       "  background-color: white;\n",
       "  padding: 10px 20px;\n",
       "}\n",
       "</style>\n",
       "<table id=\"T_bed90_\">\n",
       "  <thead>\n",
       "    <tr>\n",
       "      <th class=\"blank level0\" >&nbsp;</th>\n",
       "      <th class=\"col_heading level0 col0\" >3602</th>\n",
       "      <th class=\"col_heading level0 col1\" >3603</th>\n",
       "    </tr>\n",
       "  </thead>\n",
       "  <tbody>\n",
       "    <tr>\n",
       "      <th id=\"T_bed90_level0_row0\" class=\"row_heading level0 row0\" >MPUrl</th>\n",
       "      <td id=\"T_bed90_row0_col0\" class=\"data row0 col0\" >actors/426</td>\n",
       "      <td id=\"T_bed90_row0_col1\" class=\"data row0 col1\" >actors/2258</td>\n",
       "    </tr>\n",
       "    <tr>\n",
       "      <th id=\"T_bed90_level0_row1\" class=\"row_heading level0 row1\" >id</th>\n",
       "      <td id=\"T_bed90_row1_col0\" class=\"data row1 col0\" >426</td>\n",
       "      <td id=\"T_bed90_row1_col1\" class=\"data row1 col1\" >2258</td>\n",
       "    </tr>\n",
       "    <tr>\n",
       "      <th id=\"T_bed90_level0_row2\" class=\"row_heading level0 row2\" >name</th>\n",
       "      <td id=\"T_bed90_row2_col0\" class=\"data row2 col0\" > Jan Aarts, Hans van Halteren and Nelleke Oostdijk, University of Nijmegen</td>\n",
       "      <td id=\"T_bed90_row2_col1\" class=\"data row2 col1\" > Jan Aarts, Hans van Halteren and Nelleke Oostdijk, University of Nijmegen</td>\n",
       "    </tr>\n",
       "    <tr>\n",
       "      <th id=\"T_bed90_level0_row3\" class=\"row_heading level0 row3\" >externalIds</th>\n",
       "      <td id=\"T_bed90_row3_col0\" class=\"data row3 col0\" >[]</td>\n",
       "      <td id=\"T_bed90_row3_col1\" class=\"data row3 col1\" >[{'identifierService': {'code': 'SourceActorId', 'label': 'Source ActorId', 'ord': 7, 'urlTemplate': ''}, 'identifier': '1-385568d7ab786ea0f0d6f35a7a73e948f7fdcee7346c95991e4085525eec52c2'}]</td>\n",
       "    </tr>\n",
       "    <tr>\n",
       "      <th id=\"T_bed90_level0_row4\" class=\"row_heading level0 row4\" >affiliations</th>\n",
       "      <td id=\"T_bed90_row4_col0\" class=\"data row4 col0\" >[]</td>\n",
       "      <td id=\"T_bed90_row4_col1\" class=\"data row4 col1\" >[]</td>\n",
       "    </tr>\n",
       "    <tr>\n",
       "      <th id=\"T_bed90_level0_row5\" class=\"row_heading level0 row5\" >website</th>\n",
       "      <td id=\"T_bed90_row5_col0\" class=\"data row5 col0\" >nan</td>\n",
       "      <td id=\"T_bed90_row5_col1\" class=\"data row5 col1\" >nan</td>\n",
       "    </tr>\n",
       "  </tbody>\n",
       "</table>\n"
      ],
      "text/plain": [
       "<pandas.io.formats.style.Styler at 0x1206e1750>"
      ]
     },
     "execution_count": 24,
     "metadata": {},
     "output_type": "execute_result"
    }
   ],
   "source": [
    "#view items\n",
    "showdiff = compareitems.T.style.apply(lambda x: [css_equal if ((len(utils.lists_to_list(x.values))==1) ) else css_diff for i in x],\n",
    "                    axis=1)\n",
    "showdiff"
   ]
  },
  {
   "cell_type": "markdown",
   "id": "c97aec85",
   "metadata": {},
   "source": [
    "### 4.3 Get duplicated actors that are associated to dataset items\n",
    "\n",
    "The function __getDuplicatedActorsWithItems(df_actor_duplicates, props)__ returns those actors that are duplicated according to the filter defined in the *props* and that are associated to one or more items in the MP dataset.  \n",
    "The function returns two dataframe as result."
   ]
  },
  {
   "cell_type": "code",
   "execution_count": 25,
   "id": "b35bc79b",
   "metadata": {},
   "outputs": [
    {
     "name": "stdout",
     "output_type": "stream",
     "text": [
      "Loading Actors for toolsandservices\n",
      "Loading Actors for publications\n",
      "Loading Actors for trainingmaterials\n",
      "Loading Actors for workflows\n",
      "Loading Actors for datasets\n",
      "keyword dataset is not present\n",
      "concepts dataset is not present\n"
     ]
    },
    {
     "data": {
      "text/html": [
       "<div>\n",
       "<style scoped>\n",
       "    .dataframe tbody tr th:only-of-type {\n",
       "        vertical-align: middle;\n",
       "    }\n",
       "\n",
       "    .dataframe tbody tr th {\n",
       "        vertical-align: top;\n",
       "    }\n",
       "\n",
       "    .dataframe thead th {\n",
       "        text-align: right;\n",
       "    }\n",
       "</style>\n",
       "<table border=\"1\" class=\"dataframe\">\n",
       "  <thead>\n",
       "    <tr style=\"text-align: right;\">\n",
       "      <th></th>\n",
       "      <th>isDuplicated</th>\n",
       "      <th>MPUrl</th>\n",
       "      <th>id</th>\n",
       "      <th>name</th>\n",
       "      <th>externalIds</th>\n",
       "      <th>affiliations</th>\n",
       "      <th>website</th>\n",
       "      <th>role.label</th>\n",
       "      <th>persistentId</th>\n",
       "      <th>label</th>\n",
       "      <th>category</th>\n",
       "      <th>item</th>\n",
       "    </tr>\n",
       "  </thead>\n",
       "  <tbody>\n",
       "    <tr>\n",
       "      <th>0</th>\n",
       "      <td>yes</td>\n",
       "      <td>actors/4689</td>\n",
       "      <td>4689</td>\n",
       "      <td>Agiatis Benardou</td>\n",
       "      <td>[{'identifierService': {'code': 'DBLP', 'label...</td>\n",
       "      <td>[]</td>\n",
       "      <td>NaN</td>\n",
       "      <td>Author</td>\n",
       "      <td>dyFa95</td>\n",
       "      <td>Are we there yet? Functionalities, synergies a...</td>\n",
       "      <td>publication</td>\n",
       "      <td>publication/dyFa95</td>\n",
       "    </tr>\n",
       "    <tr>\n",
       "      <th>1</th>\n",
       "      <td>yes</td>\n",
       "      <td>actors/4689</td>\n",
       "      <td>4689</td>\n",
       "      <td>Agiatis Benardou</td>\n",
       "      <td>[{'identifierService': {'code': 'DBLP', 'label...</td>\n",
       "      <td>[]</td>\n",
       "      <td>NaN</td>\n",
       "      <td>Author</td>\n",
       "      <td>n6aXHU</td>\n",
       "      <td>DARIAH-EU's Virtual Competency Center on Resea...</td>\n",
       "      <td>publication</td>\n",
       "      <td>publication/n6aXHU</td>\n",
       "    </tr>\n",
       "    <tr>\n",
       "      <th>2</th>\n",
       "      <td>yes</td>\n",
       "      <td>actors/4689</td>\n",
       "      <td>4689</td>\n",
       "      <td>Agiatis Benardou</td>\n",
       "      <td>[{'identifierService': {'code': 'DBLP', 'label...</td>\n",
       "      <td>[]</td>\n",
       "      <td>NaN</td>\n",
       "      <td>Author</td>\n",
       "      <td>McZlzs</td>\n",
       "      <td>#dariahTeach - online teaching, MOOCs and beyond</td>\n",
       "      <td>publication</td>\n",
       "      <td>publication/McZlzs</td>\n",
       "    </tr>\n",
       "    <tr>\n",
       "      <th>3</th>\n",
       "      <td>yes</td>\n",
       "      <td>actors/4689</td>\n",
       "      <td>4689</td>\n",
       "      <td>Agiatis Benardou</td>\n",
       "      <td>[{'identifierService': {'code': 'DBLP', 'label...</td>\n",
       "      <td>[]</td>\n",
       "      <td>NaN</td>\n",
       "      <td>Author</td>\n",
       "      <td>MhxIFa</td>\n",
       "      <td>Playing With Cultural Heritage Through Digital...</td>\n",
       "      <td>publication</td>\n",
       "      <td>publication/MhxIFa</td>\n",
       "    </tr>\n",
       "    <tr>\n",
       "      <th>4</th>\n",
       "      <td>yes</td>\n",
       "      <td>actors/4689</td>\n",
       "      <td>4689</td>\n",
       "      <td>Agiatis Benardou</td>\n",
       "      <td>[{'identifierService': {'code': 'DBLP', 'label...</td>\n",
       "      <td>[]</td>\n",
       "      <td>NaN</td>\n",
       "      <td>Author</td>\n",
       "      <td>DeguAO</td>\n",
       "      <td>Reflecting On And Refracting User Needs Throug...</td>\n",
       "      <td>publication</td>\n",
       "      <td>publication/DeguAO</td>\n",
       "    </tr>\n",
       "    <tr>\n",
       "      <th>5</th>\n",
       "      <td>yes</td>\n",
       "      <td>actors/4689</td>\n",
       "      <td>4689</td>\n",
       "      <td>Agiatis Benardou</td>\n",
       "      <td>[{'identifierService': {'code': 'DBLP', 'label...</td>\n",
       "      <td>[]</td>\n",
       "      <td>NaN</td>\n",
       "      <td>Author</td>\n",
       "      <td>CTi1FG</td>\n",
       "      <td>Scholarly Research Activities and Digital Tool...</td>\n",
       "      <td>publication</td>\n",
       "      <td>publication/CTi1FG</td>\n",
       "    </tr>\n",
       "    <tr>\n",
       "      <th>6</th>\n",
       "      <td>yes</td>\n",
       "      <td>actors/4689</td>\n",
       "      <td>4689</td>\n",
       "      <td>Agiatis Benardou</td>\n",
       "      <td>[{'identifierService': {'code': 'DBLP', 'label...</td>\n",
       "      <td>[]</td>\n",
       "      <td>NaN</td>\n",
       "      <td>Author</td>\n",
       "      <td>pbsN0x</td>\n",
       "      <td>What's in a Discipline? Research Practices, Us...</td>\n",
       "      <td>publication</td>\n",
       "      <td>publication/pbsN0x</td>\n",
       "    </tr>\n",
       "    <tr>\n",
       "      <th>7</th>\n",
       "      <td>yes</td>\n",
       "      <td>actors/9111</td>\n",
       "      <td>9111</td>\n",
       "      <td>Agiatis Benardou</td>\n",
       "      <td>[{'identifierService': {'code': 'SourceActorId...</td>\n",
       "      <td>[]</td>\n",
       "      <td>NaN</td>\n",
       "      <td>Author</td>\n",
       "      <td>YomEAW</td>\n",
       "      <td>Research Infrastructures Should Inspire, Theor...</td>\n",
       "      <td>training-material</td>\n",
       "      <td>training-material/YomEAW</td>\n",
       "    </tr>\n",
       "    <tr>\n",
       "      <th>8</th>\n",
       "      <td>yes</td>\n",
       "      <td>actors/9111</td>\n",
       "      <td>9111</td>\n",
       "      <td>Agiatis Benardou</td>\n",
       "      <td>[{'identifierService': {'code': 'SourceActorId...</td>\n",
       "      <td>[]</td>\n",
       "      <td>NaN</td>\n",
       "      <td>Author</td>\n",
       "      <td>uwJTCy</td>\n",
       "      <td>What is the Role of Training and Education in ...</td>\n",
       "      <td>training-material</td>\n",
       "      <td>training-material/uwJTCy</td>\n",
       "    </tr>\n",
       "    <tr>\n",
       "      <th>9</th>\n",
       "      <td>yes</td>\n",
       "      <td>actors/1262</td>\n",
       "      <td>1262</td>\n",
       "      <td>Alastair Dunning</td>\n",
       "      <td>[]</td>\n",
       "      <td>[]</td>\n",
       "      <td>NaN</td>\n",
       "      <td>Author</td>\n",
       "      <td>dY5S7K</td>\n",
       "      <td>Minimum requirements for Europeana Cloud</td>\n",
       "      <td>publication</td>\n",
       "      <td>publication/dY5S7K</td>\n",
       "    </tr>\n",
       "  </tbody>\n",
       "</table>\n",
       "</div>"
      ],
      "text/plain": [
       "  isDuplicated        MPUrl    id              name  \\\n",
       "0          yes  actors/4689  4689  Agiatis Benardou   \n",
       "1          yes  actors/4689  4689  Agiatis Benardou   \n",
       "2          yes  actors/4689  4689  Agiatis Benardou   \n",
       "3          yes  actors/4689  4689  Agiatis Benardou   \n",
       "4          yes  actors/4689  4689  Agiatis Benardou   \n",
       "5          yes  actors/4689  4689  Agiatis Benardou   \n",
       "6          yes  actors/4689  4689  Agiatis Benardou   \n",
       "7          yes  actors/9111  9111  Agiatis Benardou   \n",
       "8          yes  actors/9111  9111  Agiatis Benardou   \n",
       "9          yes  actors/1262  1262  Alastair Dunning   \n",
       "\n",
       "                                         externalIds affiliations website  \\\n",
       "0  [{'identifierService': {'code': 'DBLP', 'label...           []     NaN   \n",
       "1  [{'identifierService': {'code': 'DBLP', 'label...           []     NaN   \n",
       "2  [{'identifierService': {'code': 'DBLP', 'label...           []     NaN   \n",
       "3  [{'identifierService': {'code': 'DBLP', 'label...           []     NaN   \n",
       "4  [{'identifierService': {'code': 'DBLP', 'label...           []     NaN   \n",
       "5  [{'identifierService': {'code': 'DBLP', 'label...           []     NaN   \n",
       "6  [{'identifierService': {'code': 'DBLP', 'label...           []     NaN   \n",
       "7  [{'identifierService': {'code': 'SourceActorId...           []     NaN   \n",
       "8  [{'identifierService': {'code': 'SourceActorId...           []     NaN   \n",
       "9                                                 []           []     NaN   \n",
       "\n",
       "  role.label persistentId                                              label  \\\n",
       "0     Author       dyFa95  Are we there yet? Functionalities, synergies a...   \n",
       "1     Author       n6aXHU  DARIAH-EU's Virtual Competency Center on Resea...   \n",
       "2     Author       McZlzs   #dariahTeach - online teaching, MOOCs and beyond   \n",
       "3     Author       MhxIFa  Playing With Cultural Heritage Through Digital...   \n",
       "4     Author       DeguAO  Reflecting On And Refracting User Needs Throug...   \n",
       "5     Author       CTi1FG  Scholarly Research Activities and Digital Tool...   \n",
       "6     Author       pbsN0x  What's in a Discipline? Research Practices, Us...   \n",
       "7     Author       YomEAW  Research Infrastructures Should Inspire, Theor...   \n",
       "8     Author       uwJTCy  What is the Role of Training and Education in ...   \n",
       "9     Author       dY5S7K           Minimum requirements for Europeana Cloud   \n",
       "\n",
       "            category                      item  \n",
       "0        publication        publication/dyFa95  \n",
       "1        publication        publication/n6aXHU  \n",
       "2        publication        publication/McZlzs  \n",
       "3        publication        publication/MhxIFa  \n",
       "4        publication        publication/DeguAO  \n",
       "5        publication        publication/CTi1FG  \n",
       "6        publication        publication/pbsN0x  \n",
       "7  training-material  training-material/YomEAW  \n",
       "8  training-material  training-material/uwJTCy  \n",
       "9        publication        publication/dY5S7K  "
      ]
     },
     "execution_count": 25,
     "metadata": {},
     "output_type": "execute_result"
    }
   ],
   "source": [
    "filter_attribute='name, website'\n",
    "df_dup_withitems=utils.getDuplicatedActorsWithItems(df_actor_duplicates, filter_attribute)\n",
    "df_dup_withitems[0].head(10)"
   ]
  },
  {
   "cell_type": "raw",
   "id": "4ee78a11",
   "metadata": {
    "scrolled": true
   },
   "source": [
    "df_dup_withitems[1].head(10)"
   ]
  },
  {
   "cell_type": "code",
   "execution_count": 26,
   "id": "2c2ff708",
   "metadata": {
    "scrolled": true
   },
   "outputs": [],
   "source": [
    "# need to add the item type alongside the item ID\n",
    "df_dup_withitems[1].sort_values('name').to_csv(path_or_buf='data/duplicatedactorswithitems.csv', sep=',', index=False)"
   ]
  },
  {
   "cell_type": "markdown",
   "id": "767d01d4",
   "metadata": {},
   "source": [
    "### 4.4 Merge items\n",
    "\n",
    "POST /api/actors/{id}/merge\n"
   ]
  },
  {
   "cell_type": "code",
   "execution_count": null,
   "id": "3e40a049",
   "metadata": {},
   "outputs": [],
   "source": [
    "#mpdata.postMergedActors('2505', '2266')"
   ]
  },
  {
   "cell_type": "markdown",
   "id": "9c8c24a1",
   "metadata": {},
   "source": [
    "## 5. Check actor.website URL Status\n",
    "\n",
    "This section of the notebook inspects URL of the `actor.website` field, identifies URL with a 404 status and create a list of the Marketplace items to which the actors with a \"bad URL\" for their website are attached.\n",
    "\n",
    "It is also possible to use **notebook 3.1 Curation-flag-URL** to flag the items directly in the \"Items to moderate\" section."
   ]
  },
  {
   "cell_type": "code",
   "execution_count": null,
   "id": "f8106a87",
   "metadata": {
    "scrolled": true
   },
   "outputs": [],
   "source": [
    "extcontr_df=utils.getContributors()\n",
    "extcontr_df.head()"
   ]
  },
  {
   "cell_type": "code",
   "execution_count": null,
   "id": "e417d1b2",
   "metadata": {},
   "outputs": [],
   "source": [
    "extcontr_df"
   ]
  },
  {
   "cell_type": "code",
   "execution_count": null,
   "id": "1883a4d3",
   "metadata": {},
   "outputs": [],
   "source": [
    "urls_df=check.checkURLValuesInDataset(extcontr_df, 'actor.website')\n",
    "#urls_df.tail()"
   ]
  },
  {
   "cell_type": "code",
   "execution_count": null,
   "id": "fda62c04",
   "metadata": {},
   "outputs": [],
   "source": [
    "urls_df.shape"
   ]
  },
  {
   "cell_type": "code",
   "execution_count": null,
   "id": "33a8c5ff",
   "metadata": {},
   "outputs": [],
   "source": [
    "my_urls_df=urls_df.drop_duplicates(keep='first', inplace=False)"
   ]
  },
  {
   "cell_type": "code",
   "execution_count": null,
   "id": "24500329",
   "metadata": {},
   "outputs": [],
   "source": [
    "my_urls_df.shape"
   ]
  },
  {
   "cell_type": "code",
   "execution_count": null,
   "id": "87d1e0e7",
   "metadata": {},
   "outputs": [],
   "source": [
    "myw_url_status=my_urls_df[my_urls_df['status'] == 404].sort_values('category')\n",
    "myclickable_table = myw_url_status.style.format({'MPUrl': utils.make_clickable})\n",
    "myclickable_table"
   ]
  },
  {
   "cell_type": "code",
   "execution_count": null,
   "id": "4437a965",
   "metadata": {},
   "outputs": [],
   "source": [
    "myw_url_status.sort_values('category').to_csv(path_or_buf='data/urlactors.csv', sep=',', index=False)"
   ]
  },
  {
   "cell_type": "code",
   "execution_count": null,
   "id": "832eb900",
   "metadata": {},
   "outputs": [],
   "source": []
  }
 ],
 "metadata": {
  "kernelspec": {
   "display_name": "Python 3 (ipykernel)",
   "language": "python",
   "name": "python3"
  },
  "language_info": {
   "codemirror_mode": {
    "name": "ipython",
    "version": 3
   },
   "file_extension": ".py",
   "mimetype": "text/x-python",
   "name": "python",
   "nbconvert_exporter": "python",
   "pygments_lexer": "ipython3",
   "version": "3.10.0"
  }
 },
 "nbformat": 4,
 "nbformat_minor": 5
}
