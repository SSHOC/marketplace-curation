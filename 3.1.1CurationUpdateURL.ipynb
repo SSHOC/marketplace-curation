{
 "cells": [
  {
   "cell_type": "markdown",
   "id": "ebbfa8e2",
   "metadata": {},
   "source": [
    "# Notebook 3.1.1 - Update URL properties"
   ]
  },
  {
   "cell_type": "code",
   "execution_count": null,
   "id": "b59589bb",
   "metadata": {},
   "outputs": [],
   "source": [
    "import numpy as np\n",
    "import pandas as pd\n",
    "import requests\n",
    "#import the MarketPlace Library \n",
    "from sshmarketplacelib import MPData as mpd\n",
    "from sshmarketplacelib import  eval as eva, helper as hel"
   ]
  },
  {
   "cell_type": "markdown",
   "id": "348de7c6",
   "metadata": {},
   "source": [
    "#### Dwnload the gsheet "
   ]
  },
  {
   "cell_type": "code",
   "execution_count": null,
   "id": "ccd7559d",
   "metadata": {},
   "outputs": [],
   "source": [
    "#https://docs.google.com/spreadsheets/d/1pDydgj_4V4zR5VhmMujGfN73yU4Fb_jqao3Aj54t2uc/edit#gid=1159876561\n",
    "sheet_id = '1pDydgj_4V4zR5VhmMujGfN73yU4Fb_jqao3Aj54t2uc'\n",
    "sheet_name = 'brokenURLs'\n",
    "url = f'https://docs.google.com/spreadsheets/d/{sheet_id}/gviz/tq?tqx=out:csv&sheet={sheet_name}'\n",
    "df_urlslist=pd.read_csv(url)"
   ]
  },
  {
   "cell_type": "markdown",
   "id": "6dcc767c",
   "metadata": {},
   "source": [
    "#### Get the data "
   ]
  },
  {
   "cell_type": "code",
   "execution_count": null,
   "id": "1ab2ca9c",
   "metadata": {},
   "outputs": [],
   "source": [
    "mpdata = mpd()\n",
    "df_tool_flat =mpdata.getMPItems (\"toolsandservices\", True)\n",
    "df_publication_flat =mpdata.getMPItems (\"publications\", True)\n",
    "df_trainingmaterials_flat =mpdata.getMPItems (\"trainingmaterials\", True)\n",
    "df_workflows_flat =mpdata.getMPItems (\"workflows\", True)\n",
    "df_datasets_flat =mpdata.getMPItems (\"datasets\", True)"
   ]
  },
  {
   "cell_type": "code",
   "execution_count": null,
   "id": "91f6e487",
   "metadata": {},
   "outputs": [],
   "source": [
    "df_urlslist=df_urlslist[['MPUrl','label','property','status','wrong_url','url']]"
   ]
  },
  {
   "cell_type": "code",
   "execution_count": null,
   "id": "662a96d1",
   "metadata": {},
   "outputs": [],
   "source": [
    "tobechanged=df_urlslist[~df_urlslist['url'].isna()].copy()\n",
    "tobechanged.head(10)"
   ]
  },
  {
   "cell_type": "code",
   "execution_count": null,
   "id": "fe670477",
   "metadata": {},
   "outputs": [],
   "source": [
    "tobechanged['persistentId']=tobechanged['MPUrl'].apply(lambda y: y.split('/')[1].strip().replace('+',' '))\n",
    "tobechanged['category']=tobechanged['MPUrl'].apply(lambda y: y.split('/')[0].strip().replace('+',' '))\n",
    "\n",
    "tobechanged.head()"
   ]
  },
  {
   "cell_type": "markdown",
   "id": "3717a76b",
   "metadata": {},
   "source": [
    "#### Update the MP data"
   ]
  },
  {
   "cell_type": "code",
   "execution_count": null,
   "id": "9ae86bbb",
   "metadata": {},
   "outputs": [],
   "source": [
    "\n",
    "mpdata.updateItemsUrls(tobechanged.sort_values('MPUrl'))"
   ]
  },
  {
   "cell_type": "code",
   "execution_count": null,
   "id": "a66b6510",
   "metadata": {},
   "outputs": [],
   "source": []
  }
 ],
 "metadata": {
  "kernelspec": {
   "display_name": "Python 3 (ipykernel)",
   "language": "python",
   "name": "python3"
  },
  "language_info": {
   "codemirror_mode": {
    "name": "ipython",
    "version": 3
   },
   "file_extension": ".py",
   "mimetype": "text/x-python",
   "name": "python",
   "nbconvert_exporter": "python",
   "pygments_lexer": "ipython3",
   "version": "3.11.1"
  }
 },
 "nbformat": 4,
 "nbformat_minor": 5
}
