{
 "cells": [
  {
   "cell_type": "markdown",
   "id": "2c0b7590",
   "metadata": {},
   "source": [
    "# Notebook 4.3 - Actors curation: duplicates\n",
    "\n",
    "This notebook gather several checks that can be run together or independently of each other. The set of these checks helps moderators to curate Duplicated actors in the SSH Open Marketplace. \n",
    "\n",
    "This notebook is composed of 6 sections:\n",
    "\n",
    "0. Requirements to run this notebook\n",
    "1. Get actors \n",
    "2. Duplicated actors\n",
    "\n",
    "    2.1 Find duplicates for actors with same name and same website \n",
    "    \n",
    "    2.2 Compare duplicated actors with same name and same website \n",
    "    \n",
    "    2.3 Merge duplicated actors with same name and same website \n",
    "    \n",
    "    2.4 Reload the Actors\n",
    "    \n",
    "    2.5 Find duplicates for actors with same name \n",
    "    \n",
    "    2.6 Merge duplicated actors with same name \n"
   ]
  },
  {
   "cell_type": "markdown",
   "id": "703ee392",
   "metadata": {},
   "source": [
    "## 0 Requirements to run this notebook\n",
    "\n",
    "This section gives all the relevant information to \"interact\" with the MP data.\n",
    "\n",
    "### 0.1 libraries\n",
    "*There are a number of external libraries needed to run the notebook* \n",
    "\n",
    "*Furthermore, a dedicated SSH Open Marketplace library - sshmarketplacelib - with customised functions has been created and can be imported using the python import commands.* \n",
    "\n",
    "*Below the libraries import needed to run this notebook*"
   ]
  },
  {
   "cell_type": "code",
   "execution_count": null,
   "id": "96d0d763",
   "metadata": {},
   "outputs": [],
   "source": [
    "import pandas as pd #to manage dataframes\n",
    "#import matplotlib.pyplot as plt #to create histograms and images\n",
    "#import seaborn as sns #to create histograms and images\n",
    "import numpy as np #to manage json objects\n",
    "#import the MarketPlace Library \n",
    "from sshmarketplacelib import MPData as mpd\n",
    "from sshmarketplacelib import  eval as eva, helper as hel"
   ]
  },
  {
   "cell_type": "code",
   "execution_count": null,
   "id": "8ef1c4df",
   "metadata": {},
   "outputs": [],
   "source": [
    "mpdata = mpd()\n",
    "utils=hel.Util()\n",
    "check=eva.URLCheck()"
   ]
  },
  {
   "cell_type": "markdown",
   "id": "bbd8fcf3",
   "metadata": {},
   "source": [
    "### 0.2 Utility functions"
   ]
  },
  {
   "cell_type": "code",
   "execution_count": null,
   "id": "bdc77d69",
   "metadata": {},
   "outputs": [],
   "source": [
    "def getDuplicateActorsWithEmptyItems(actors):\n",
    "    df_actors_ei=pd.DataFrame()\n",
    "    for item in actors.itertuples():\n",
    "        allEmpty=True;\n",
    "        for actorid in item.idstobemerged:\n",
    "            actitems=mpdata.getItemsforActor(str(actorid))\n",
    "            allEmpty=allEmpty & actitems.empty\n",
    "            if(not allEmpty):\n",
    "                break\n",
    "        if (allEmpty):\n",
    "            entry = actors.loc[actors['name'] == item.name]\n",
    "            df_actors_ei=pd.concat([df_actors_ei, entry])\n",
    "    return df_actors_ei"
   ]
  },
  {
   "cell_type": "code",
   "execution_count": null,
   "id": "e8121be0",
   "metadata": {},
   "outputs": [],
   "source": [
    "def getDuplicateActorsWithDifferentItems(actors):\n",
    "    df_results=pd.DataFrame()\n",
    "    for item in actors.itertuples():  \n",
    "        if (len (item.idstobemerged)<2):\n",
    "            continue\n",
    "        \n",
    "        tempdf_sn=mpdata.getItemsforActor(str(item.idstobemerged[0])).drop_duplicates('persistentId', keep='first')\n",
    "        for actorid in item.idstobemerged[1:]:\n",
    "            #print (actorid)\n",
    "            actitems=mpdata.getItemsforActor(str(actorid)).drop_duplicates('persistentId', keep='first')\n",
    "            entry = actors.loc[actors['name'] == item.name]\n",
    "            if ((tempdf_sn.empty & (not actitems.empty)) | ((not tempdf_sn.empty) & actitems.empty)):\n",
    "                df_results=pd.concat([df_results, entry])\n",
    "                break \n",
    "            if ((not actitems.empty)):\n",
    "                tre=(actitems['persistentId'].isin(tempdf_sn['persistentId'])).value_counts()\n",
    "                tre_r= (tempdf_sn['persistentId'].isin(actitems['persistentId'])).value_counts()  \n",
    "                \n",
    "                if ((False in tre.to_dict()) & (False in tre_r.to_dict())):\n",
    "                    #print (f'{item.idstobemerged[0]}, {actorid}')\n",
    "                   \n",
    "                    df_results=pd.concat([df_results, entry])\n",
    "                    break\n",
    "    return df_results\n"
   ]
  },
  {
   "cell_type": "code",
   "execution_count": null,
   "id": "b04ccdb0",
   "metadata": {},
   "outputs": [],
   "source": [
    "import functools as ft\n",
    "def getDuplicateActorsWithSameItems(dfs):\n",
    "    df_actors_si=pd.DataFrame()\n",
    "    act_dfs=[x for x in dfs if not x.empty]\n",
    "    if (len(act_dfs)<1):\n",
    "        return df_actors_si\n",
    "    if (len(act_dfs)==1):\n",
    "        return dfs[2]\n",
    "    df_temp=ft.reduce(lambda left, right: pd.merge(left, right, on=['name'], how=\"outer\"), act_dfs)\n",
    "    if (len(act_dfs)==3):\n",
    "        return df_temp.loc[(df_temp[['idstobemerged_x', 'idstobemerged_y']].isnull().all(1)) & (df_temp['idstobemerged'].notnull())][['name', 'idstobemerged']]\n",
    "    if (len(act_dfs)==2):\n",
    "        testr=df_temp.loc[(df_temp['idstobemerged_x'].isnull()) & \n",
    "                         (df_temp['idstobemerged_y'].notnull())][['name', 'idstobemerged_y']]\n",
    "        testr.rename(columns = {'idstobemerged_y':'idstobemerged'}, inplace=True)\n",
    "        return testr\n",
    "    "
   ]
  },
  {
   "cell_type": "markdown",
   "id": "9450dd20",
   "metadata": {},
   "source": [
    "## 1. Get actors"
   ]
  },
  {
   "cell_type": "code",
   "execution_count": null,
   "id": "4923284d",
   "metadata": {},
   "outputs": [],
   "source": [
    "df_actors_flat =mpdata.getMPItems (\"actors\", True)"
   ]
  },
  {
   "cell_type": "code",
   "execution_count": null,
   "id": "bcb4abf3",
   "metadata": {},
   "outputs": [],
   "source": [
    "df_actors_flat.tail()"
   ]
  },
  {
   "cell_type": "markdown",
   "id": "620203b5",
   "metadata": {},
   "source": [
    "## 2. Duplicated actors\n",
    "    2.1 Get duplicates for actors using *actor.name* and *actor.website* as filters\n",
    "    2.2 Compare duplicated actors (optional)\n",
    "    2.3 Merge duplicated actors (with same name, same website)\n",
    "    2.4 reload the actors data from the MP\n",
    "    2.5 Get duplicates for actors using *actor.name* as filter \n",
    "    2.6 Merge actors without manual checks\n",
    "    2.7 Merge actors after comparison step"
   ]
  },
  {
   "cell_type": "markdown",
   "id": "98218e4b",
   "metadata": {},
   "source": [
    "### 2.1 Get duplicates for actors using *actor.name* and *actor.website* as filter"
   ]
  },
  {
   "cell_type": "code",
   "execution_count": null,
   "id": "81e222fb",
   "metadata": {},
   "outputs": [],
   "source": [
    "utils=hel.Util()\n",
    "filter_attributes=['name', 'website']\n",
    "#remove trailing spaces and multiple spaces in filter attributes\n",
    "for fa in filter_attributes:\n",
    "    df_actors_flat[fa]=df_actors_flat[fa].apply(lambda y: (' ').join(y.split()) if type(y)==str else y)\n",
    "df_actor_duplicates=df_actors_flat[df_actors_flat.duplicated(subset=filter_attributes, keep=False)]\n",
    "dupl_actor_website=df_actor_duplicates[df_actor_duplicates['website'].notnull()].sort_values('name')"
   ]
  },
  {
   "cell_type": "code",
   "execution_count": null,
   "id": "fec56e6f",
   "metadata": {},
   "outputs": [],
   "source": [
    "print (f'Using the attributes \"{filter_attributes}\" as filter, there are: {dupl_actor_website.shape[0]} duplicated actors')"
   ]
  },
  {
   "cell_type": "code",
   "execution_count": null,
   "id": "c217fad9",
   "metadata": {},
   "outputs": [],
   "source": [
    "dupl_actor_website.head()"
   ]
  },
  {
   "cell_type": "code",
   "execution_count": null,
   "id": "3da71b70",
   "metadata": {},
   "outputs": [],
   "source": [
    "actorwebsite_tomerge=dupl_actor_website.groupby(['name','website'])['id'].apply(list).reset_index(name='idstobemerged')"
   ]
  },
  {
   "cell_type": "code",
   "execution_count": null,
   "id": "25ce3df2",
   "metadata": {},
   "outputs": [],
   "source": [
    "actorwebsite_tomerge.count()"
   ]
  },
  {
   "cell_type": "code",
   "execution_count": null,
   "id": "cf9a29f0",
   "metadata": {},
   "outputs": [],
   "source": [
    "#The number of actors with more than one duplicate\n",
    "actorwebsite_tomerge[actorwebsite_tomerge.idstobemerged.map(len)>2].count()"
   ]
  },
  {
   "cell_type": "code",
   "execution_count": null,
   "id": "10f30eb9",
   "metadata": {},
   "outputs": [],
   "source": [
    "actorwebsite_tomerge.head()"
   ]
  },
  {
   "cell_type": "markdown",
   "id": "e66ff254",
   "metadata": {},
   "source": [
    "### 2.2 Compare duplicated actors (optional)"
   ]
  },
  {
   "cell_type": "code",
   "execution_count": null,
   "id": "58e33c51",
   "metadata": {},
   "outputs": [],
   "source": [
    "#id of duplicated actors\n",
    "ids=[1950, 959]\n",
    "compareitems=df_actor_duplicates[df_actor_duplicates.id.isin(ids)]"
   ]
  },
  {
   "cell_type": "code",
   "execution_count": null,
   "id": "a3f71885",
   "metadata": {},
   "outputs": [],
   "source": [
    "compareitems"
   ]
  },
  {
   "cell_type": "code",
   "execution_count": null,
   "id": "51e3af41",
   "metadata": {},
   "outputs": [],
   "source": [
    "css_equal=\"font-size:1.5rem; border: 2px solid silver;background-color: white; padding: 10px 20px\"\n",
    "css_diff=\"background-color: lightyellow;  font-size:1.5rem; border: 2px solid silver; padding: 10px 20px\""
   ]
  },
  {
   "cell_type": "code",
   "execution_count": null,
   "id": "65b025e0",
   "metadata": {},
   "outputs": [],
   "source": [
    "#view items\n",
    "showdiff = compareitems.T.style.apply(lambda x: [css_equal if ((len(utils.lists_to_list(x.values))==1) ) else css_diff for i in x],\n",
    "                    axis=1)\n",
    "showdiff"
   ]
  },
  {
   "cell_type": "markdown",
   "id": "7be46185",
   "metadata": {},
   "source": [
    "### 2.3 Merge duplicated actors\n",
    "\n",
    "The function <i>postMergedActors </i> uses the API entry: <i>(POST) /api/actors/{id}/merge</i> to automatically merge the actors contained in the dataframe actorwebsite_tomerge."
   ]
  },
  {
   "cell_type": "code",
   "execution_count": null,
   "id": "fbb1a9a2",
   "metadata": {},
   "outputs": [],
   "source": [
    "for item in actorwebsite_tomerge.itertuples():\n",
    "    print(item.idstobemerged[0], \", \".join(str (e) for e in item.idstobemerged[1:]))\n",
    "    mpdata.postMergedActors(str(item.idstobemerged[0]), \", \".join(str (e) for e in item.idstobemerged[1:]))"
   ]
  },
  {
   "cell_type": "markdown",
   "id": "f4a3e71f",
   "metadata": {},
   "source": [
    "## 2.4 Reload the actor from MP"
   ]
  },
  {
   "cell_type": "code",
   "execution_count": null,
   "id": "c1522af4",
   "metadata": {},
   "outputs": [],
   "source": [
    "df_actors_flat_new =mpdata.getMPItems (\"actors\", True)"
   ]
  },
  {
   "cell_type": "markdown",
   "id": "2291e941",
   "metadata": {},
   "source": [
    "### 2.5 Get duplicates for actors using actor.name as filter"
   ]
  },
  {
   "cell_type": "code",
   "execution_count": null,
   "id": "e740e1d6",
   "metadata": {},
   "outputs": [],
   "source": [
    "utils=hel.Util()\n",
    "filter_attributes=['name']\n",
    "#remove trailing spaces and multiple spaces in filter attributes\n",
    "for fa in filter_attributes:\n",
    "    df_actors_flat_new[fa]=df_actors_flat_new[fa].apply(lambda y: (' ').join(y.split()) if type(y)==str else y)\n",
    "df_actor_duplicates_new=df_actors_flat_new[df_actors_flat_new.duplicated(subset=filter_attributes, keep=False)]\n",
    "actor_tomerge_new=df_actor_duplicates_new.groupby(['name'])['id'].apply(list).reset_index(name='idstobemerged')"
   ]
  },
  {
   "cell_type": "code",
   "execution_count": null,
   "id": "81a32f5e",
   "metadata": {},
   "outputs": [],
   "source": [
    "print (f'Using the attributes \"{filter_attributes}\" as filter, there are: {actor_tomerge_new.shape[0]} duplicated actors')"
   ]
  },
  {
   "cell_type": "markdown",
   "id": "71733586",
   "metadata": {},
   "source": [
    "The code below will generate three different dataframes : \n",
    "<ol>\n",
    "<li> The dataframe <i>df_actors_samename_empty_items</i> that contains the duplicated actors that were *never attached to any item*</li>\n",
    "<li> The dataframe <i>df_actors_samename_different_items</i> that contains the duplicated actors that were never attached to the same items, <b>the actors in this dataframe should be manually merged! See next section of the notebook</b></li>\n",
    "<li> The dataframe <i>df_actors_samename_sameitems</i> that contains the duplicated actors that were attached to same items</li>\n",
    "</ol>\n",
    "    \n",
    "    Actors in dataframes 1 and 3 can be merged automatically. Actors in df 2 should be manually inspected and merge individually (see section 2.7)"
   ]
  },
  {
   "cell_type": "markdown",
   "id": "5e7b9684",
   "metadata": {},
   "source": [
    "#### _Individuating actors with the exact same name that were never attached to any items._"
   ]
  },
  {
   "cell_type": "code",
   "execution_count": null,
   "id": "6d929ebb",
   "metadata": {},
   "outputs": [],
   "source": [
    "df_actors_samename_empty_items= getDuplicateActorsWithEmptyItems(actor_tomerge_new)"
   ]
  },
  {
   "cell_type": "code",
   "execution_count": null,
   "id": "dbd4bef1",
   "metadata": {},
   "outputs": [],
   "source": [
    "df_actors_samename_empty_items.head(10)"
   ]
  },
  {
   "cell_type": "markdown",
   "id": "094084d6",
   "metadata": {},
   "source": [
    "#### _Different actors with the exact same name that were never attached to at least one common item_"
   ]
  },
  {
   "cell_type": "code",
   "execution_count": null,
   "id": "b886024b",
   "metadata": {},
   "outputs": [],
   "source": [
    "df_actors_samename_different_items=getDuplicateActorsWithDifferentItems(actor_tomerge_new)"
   ]
  },
  {
   "cell_type": "code",
   "execution_count": null,
   "id": "9fc35a87",
   "metadata": {},
   "outputs": [],
   "source": [
    "df_actors_samename_different_items.count()"
   ]
  },
  {
   "cell_type": "markdown",
   "id": "3586d466",
   "metadata": {},
   "source": [
    "#### _Actors with the exact same name that were attached to at least one common item._"
   ]
  },
  {
   "cell_type": "code",
   "execution_count": null,
   "id": "3d6e0eae",
   "metadata": {},
   "outputs": [],
   "source": [
    "dfs=[df_actors_samename_different_items, df_actors_samename_empty_items, actor_tomerge_new]\n",
    "df_actors_samename_sameitems=getDuplicateActorsWithSameItems(dfs)"
   ]
  },
  {
   "cell_type": "code",
   "execution_count": null,
   "id": "9d5d20ec",
   "metadata": {},
   "outputs": [],
   "source": [
    "df_actors_samename_sameitems.head(10)"
   ]
  },
  {
   "cell_type": "markdown",
   "id": "dc64640a",
   "metadata": {},
   "source": [
    "## 2.6 Merge actors without manual checks"
   ]
  },
  {
   "cell_type": "markdown",
   "id": "5ea21f18",
   "metadata": {},
   "source": [
    "The code above has generated three different dataframes:\n",
    "\n",
    "<ol>\n",
    "    <li>The dataframe <i>df_actors_samename_empty_items</i> that contains the duplicated actors that were *never attached to any item*</li>\n",
    "    <li> The dataframe <i>df_actors_samename_different_items</i> that contains the duplicated actors that were never attached to the same items, <b>the actors in this dataframe should be manually merged! See next section of the notebook</b></li>\n",
    "    <li>The dataframe <i>df_actors_samename_sameitems</i> that contains the duplicated actors that were attached to same items</li>\n",
    "</ol>\n",
    "\n",
    "The function <i>postMergedActors </i> uses the API entry: <i>(POST) /api/actors/{id}/merge</i> to automatically merge the actors contained in dataframes 1 and 3."
   ]
  },
  {
   "cell_type": "markdown",
   "id": "18b858c4",
   "metadata": {},
   "source": [
    "##### merging duplicates from the *df_actors_samename_empty_items* "
   ]
  },
  {
   "cell_type": "code",
   "execution_count": null,
   "id": "130b6f40",
   "metadata": {},
   "outputs": [],
   "source": [
    "for item in df_actors_samename_empty_items.itertuples():\n",
    "    print(item.idstobemerged[0], \", \".join(str (e) for e in item.idstobemerged[1:]))\n",
    "    mpdata.postMergedActors(str(item.idstobemerged[0]), \", \".join(str (e) for e in item.idstobemerged[1:]))"
   ]
  },
  {
   "cell_type": "markdown",
   "id": "875563d0",
   "metadata": {},
   "source": [
    "##### merging duplicates from the *df_actors_samename_sameitems*"
   ]
  },
  {
   "cell_type": "code",
   "execution_count": null,
   "id": "b356aff0",
   "metadata": {},
   "outputs": [],
   "source": [
    "for item in df_actors_samename_sameitems.itertuples():\n",
    "    print(item.idstobemerged[0], \", \".join(str (e) for e in item.idstobemerged[1:]))\n",
    "    mpdata.postMergedActors(str(item.idstobemerged[0]), \", \".join(str (e) for e in item.idstobemerged[1:]))"
   ]
  },
  {
   "cell_type": "markdown",
   "id": "284665a7",
   "metadata": {},
   "source": [
    "## 2.7 Merge actors after comparison step"
   ]
  },
  {
   "cell_type": "code",
   "execution_count": null,
   "id": "0448388e",
   "metadata": {},
   "outputs": [],
   "source": [
    "df_actors_samename_different_items.sort_values('name').to_csv(path_or_buf='data/duplicatedactors.csv', sep=',', index=False)\n"
   ]
  },
  {
   "cell_type": "code",
   "execution_count": null,
   "id": "20e30c85",
   "metadata": {},
   "outputs": [],
   "source": [
    "df_actors_samename_different_items"
   ]
  },
  {
   "cell_type": "markdown",
   "id": "231f44a1",
   "metadata": {},
   "source": [
    "### Compare Actors"
   ]
  },
  {
   "cell_type": "code",
   "execution_count": null,
   "id": "e339779f",
   "metadata": {},
   "outputs": [],
   "source": [
    "ids=[8465, 1291]\n",
    "compareitems=df_actor_duplicates[df_actor_duplicates.id.isin(ids)]\n",
    "css_equal=\"font-size:1.5rem; border: 2px solid silver;background-color: white; padding: 10px 20px\"\n",
    "css_diff=\"background-color: lightyellow;  font-size:1.5rem; border: 2px solid silver; padding: 10px 20px\""
   ]
  },
  {
   "cell_type": "code",
   "execution_count": null,
   "id": "51b562f2",
   "metadata": {},
   "outputs": [],
   "source": [
    "#view items\n",
    "showdiff = compareitems.T.style.apply(lambda x: [css_equal if ((len(utils.lists_to_list(x.values))==1) ) else css_diff for i in x],\n",
    "                    axis=1)\n",
    "showdiff"
   ]
  },
  {
   "cell_type": "markdown",
   "id": "3dd18455",
   "metadata": {},
   "source": [
    "because this comparison view won't always be enough to judge if actors should be merged, or differenciated in another way, this API call might help: \n",
    "GET /api/actors/{id}?items=true\n",
    "\n",
    "It will show the items an actor was/is attached to and provide useful information to differentiate potential homonyms. Ex for IDs [1687, 3238] : compare https://marketplace-api.sshopencloud.eu/api/actors/1687?items=true and https://marketplace-api.sshopencloud.eu/api/actors/3238?items=true     "
   ]
  },
  {
   "cell_type": "code",
   "execution_count": null,
   "id": "112f5dd9",
   "metadata": {},
   "outputs": [],
   "source": [
    "mpdata.postMergedActors('1687', '3238')"
   ]
  },
  {
   "cell_type": "code",
   "execution_count": null,
   "id": "257afa98",
   "metadata": {},
   "outputs": [],
   "source": []
  }
 ],
 "metadata": {
  "kernelspec": {
   "display_name": "Python 3 (ipykernel)",
   "language": "python",
   "name": "python3"
  },
  "language_info": {
   "codemirror_mode": {
    "name": "ipython",
    "version": 3
   },
   "file_extension": ".py",
   "mimetype": "text/x-python",
   "name": "python",
   "nbconvert_exporter": "python",
   "pygments_lexer": "ipython3",
   "version": "3.11.1"
  }
 },
 "nbformat": 4,
 "nbformat_minor": 5
}
