{
 "cells": [
  {
   "cell_type": "markdown",
   "id": "8f2d3d46",
   "metadata": {},
   "source": [
    "# Notebook 4.3 - Actors curation: duplicates\n",
    "\n",
    "This notebook gather several checks that can be run together or independently of each other. The set of these checks helps moderators to curate Duplicated actors in the SSH Open Marketplace. \n",
    "\n",
    "This notebook is composed of 6 sections:\n",
    "\n",
    "0. Requirements to run this notebook\n",
    "1. Get actors \n",
    "2. Duplicated actors\n",
    "\n",
    "    2.1 Find duplicates for actors with same name and same website \n",
    "    \n",
    "    2.2 Compare duplicated actors with same name and same website \n",
    "    \n",
    "    2.3 Merge duplicated actors with same name and same website \n",
    "    \n",
    "    2.4 Reload the Actors\n",
    "    \n",
    "    2.5 Find duplicates for actors with same name \n",
    "    \n",
    "    2.6 Merge duplicated actors with same name \n"
   ]
  },
  {
   "cell_type": "markdown",
   "id": "fc003625",
   "metadata": {},
   "source": [
    "## 0 Requirements to run this notebook\n",
    "\n",
    "This section gives all the relevant information to \"interact\" with the MP data.\n",
    "\n",
    "### 0.1 libraries\n",
    "*There are a number of external libraries needed to run the notebook* \n",
    "\n",
    "*Furthermore, a dedicated SSH Open Marketplace library - sshmarketplacelib - with customised functions has been created and can be imported using the python import commands.* \n",
    "\n",
    "*Below the libraries import needed to run this notebook*"
   ]
  },
  {
   "cell_type": "code",
   "execution_count": 1,
   "id": "5238cce1",
   "metadata": {},
   "outputs": [],
   "source": [
    "import pandas as pd #to manage dataframes\n",
    "#import matplotlib.pyplot as plt #to create histograms and images\n",
    "#import seaborn as sns #to create histograms and images\n",
    "import numpy as np #to manage json objects\n",
    "#import the MarketPlace Library \n",
    "from sshmarketplacelib import MPData as mpd\n",
    "from sshmarketplacelib import  eval as eva, helper as hel"
   ]
  },
  {
   "cell_type": "code",
   "execution_count": 2,
   "id": "ee2b15cb",
   "metadata": {},
   "outputs": [],
   "source": [
    "mpdata = mpd()\n",
    "utils=hel.Util()\n",
    "check=eva.URLCheck()"
   ]
  },
  {
   "cell_type": "markdown",
   "id": "0f19bdfb",
   "metadata": {},
   "source": [
    "### 0.2 Utility functions"
   ]
  },
  {
   "cell_type": "code",
   "execution_count": 4,
   "id": "70df9a3d",
   "metadata": {},
   "outputs": [],
   "source": [
    "def getDuplicateActorsWithEmptyItems(actors):\n",
    "    df_actors_ei=pd.DataFrame()\n",
    "    for item in actors.itertuples():\n",
    "        allEmpty=True;\n",
    "        for actorid in item.idstobemerged:\n",
    "            actitems=mpdata.getItemsforActor(str(actorid))\n",
    "            allEmpty=allEmpty & actitems.empty\n",
    "            if(not allEmpty):\n",
    "                break\n",
    "        if (allEmpty):\n",
    "            entry = actors.loc[actors['name'] == item.name]\n",
    "            df_actors_ei=pd.concat([df_actors_ei, entry])\n",
    "    return df_actors_ei"
   ]
  },
  {
   "cell_type": "code",
   "execution_count": 47,
   "id": "254fe9b1",
   "metadata": {},
   "outputs": [],
   "source": [
    "def getDuplicateActorsWithDifferentItems(actors):\n",
    "    df_results=pd.DataFrame()\n",
    "    for item in actors.itertuples():  \n",
    "        if (len (item.idstobemerged)<2):\n",
    "            continue\n",
    "        \n",
    "        tempdf_sn=mpdata.getItemsforActor(str(item.idstobemerged[0])).drop_duplicates('persistentId', keep='first')\n",
    "        for actorid in item.idstobemerged[1:]:\n",
    "            #print (actorid)\n",
    "            actitems=mpdata.getItemsforActor(str(actorid)).drop_duplicates('persistentId', keep='first')\n",
    "            entry = actors.loc[actors['name'] == item.name]\n",
    "            if ((tempdf_sn.empty & (not actitems.empty)) | ((not tempdf_sn.empty) & actitems.empty)):\n",
    "                #print (f'{tempdf_sn.empty}, {actitems.empty}, {str(item.idstobemerged[0])}, {actorid}')\n",
    "                df_results=pd.concat([df_results, entry])\n",
    "                break \n",
    "            if ((not actitems.empty)):\n",
    "                tre=(actitems['persistentId'].isin(tempdf_sn['persistentId'])).value_counts()\n",
    "                tre_r= (tempdf_sn['persistentId'].isin(actitems['persistentId'])).value_counts()  \n",
    "                \n",
    "                if ((False in tre.to_dict()) & (False in tre_r.to_dict())):\n",
    "                    #print (f'{item.idstobemerged[0]}, {actorid}')\n",
    "                   \n",
    "                    df_results=pd.concat([df_results, entry])\n",
    "                    break\n",
    "    return df_results\n"
   ]
  },
  {
   "cell_type": "markdown",
   "id": "f5f3d4b3",
   "metadata": {},
   "source": [
    "## 1. Get actors"
   ]
  },
  {
   "cell_type": "code",
   "execution_count": 3,
   "id": "ba4453af",
   "metadata": {},
   "outputs": [],
   "source": [
    "df_actors_flat =mpdata.getMPItems (\"actors\", False)"
   ]
  },
  {
   "cell_type": "code",
   "execution_count": null,
   "id": "5fd4107c",
   "metadata": {},
   "outputs": [],
   "source": [
    "df_actors_flat.tail()"
   ]
  },
  {
   "cell_type": "markdown",
   "id": "cd987e87",
   "metadata": {},
   "source": [
    "## 2. Duplicated actors\n",
    "    2.1 Get duplicates for actors using *actor.name* and *actor.website* as filters\n",
    "    2.2 Compare duplicated actors (optional)\n",
    "    2.4 Merge duplicated actors"
   ]
  },
  {
   "cell_type": "markdown",
   "id": "8ab0b31c",
   "metadata": {},
   "source": [
    "### 2.1 Get duplicates for actors using *actor.name* and *actor.website* as filter"
   ]
  },
  {
   "cell_type": "code",
   "execution_count": 6,
   "id": "f1e55157",
   "metadata": {},
   "outputs": [],
   "source": [
    "utils=hel.Util()\n",
    "filter_attribute=['name', 'website']\n",
    "df_actor_duplicates=df_actors_flat[df_actors_flat.duplicated(subset=filter_attribute, keep=False)]\n",
    "dupl_actor_website=df_actor_duplicates[df_actor_duplicates['website'].notnull()].sort_values('name')"
   ]
  },
  {
   "cell_type": "code",
   "execution_count": 7,
   "id": "51aae339",
   "metadata": {},
   "outputs": [
    {
     "name": "stdout",
     "output_type": "stream",
     "text": [
      "Using the attributes \"['name', 'website']\" as filter, there are: 715 duplicated actors\n"
     ]
    }
   ],
   "source": [
    "print (f'Using the attributes \"{filter_attribute}\" as filter, there are: {dupl_actor_website.shape[0]} duplicated actors')"
   ]
  },
  {
   "cell_type": "code",
   "execution_count": 8,
   "id": "c6e537ce",
   "metadata": {},
   "outputs": [],
   "source": [
    "actorwebsite_tomerge=dupl_actor_website.groupby(['name','website'])['id'].apply(list).reset_index(name='idstobemerged')"
   ]
  },
  {
   "cell_type": "code",
   "execution_count": 9,
   "id": "358c7c13",
   "metadata": {},
   "outputs": [
    {
     "data": {
      "text/plain": [
       "name             346\n",
       "website          346\n",
       "idstobemerged    346\n",
       "dtype: int64"
      ]
     },
     "execution_count": 9,
     "metadata": {},
     "output_type": "execute_result"
    }
   ],
   "source": [
    "actorwebsite_tomerge.count()"
   ]
  },
  {
   "cell_type": "code",
   "execution_count": 10,
   "id": "54e8ab22",
   "metadata": {},
   "outputs": [
    {
     "data": {
      "text/plain": [
       "name             23\n",
       "website          23\n",
       "idstobemerged    23\n",
       "dtype: int64"
      ]
     },
     "execution_count": 10,
     "metadata": {},
     "output_type": "execute_result"
    }
   ],
   "source": [
    "#The number of actors with more than one duplicate\n",
    "actorwebsite_tomerge[actorwebsite_tomerge.idstobemerged.map(len)>2].count()"
   ]
  },
  {
   "cell_type": "code",
   "execution_count": 11,
   "id": "b800327b",
   "metadata": {},
   "outputs": [
    {
     "data": {
      "text/html": [
       "<div>\n",
       "<style scoped>\n",
       "    .dataframe tbody tr th:only-of-type {\n",
       "        vertical-align: middle;\n",
       "    }\n",
       "\n",
       "    .dataframe tbody tr th {\n",
       "        vertical-align: top;\n",
       "    }\n",
       "\n",
       "    .dataframe thead th {\n",
       "        text-align: right;\n",
       "    }\n",
       "</style>\n",
       "<table border=\"1\" class=\"dataframe\">\n",
       "  <thead>\n",
       "    <tr style=\"text-align: right;\">\n",
       "      <th></th>\n",
       "      <th>name</th>\n",
       "      <th>website</th>\n",
       "      <th>idstobemerged</th>\n",
       "    </tr>\n",
       "  </thead>\n",
       "  <tbody>\n",
       "    <tr>\n",
       "      <th>0</th>\n",
       "      <td>ARTFL Project and Digital Library Development ...</td>\n",
       "      <td>http://artfl-project.uchicago.edu/</td>\n",
       "      <td>[842, 2720]</td>\n",
       "    </tr>\n",
       "    <tr>\n",
       "      <th>1</th>\n",
       "      <td>AT&amp;T Research</td>\n",
       "      <td>http://www.research.att.com/</td>\n",
       "      <td>[2566, 701]</td>\n",
       "    </tr>\n",
       "    <tr>\n",
       "      <th>2</th>\n",
       "      <td>ATLAS.ti Scientific Software Development GmbH</td>\n",
       "      <td>http://www.atlasti.com/copyright.html</td>\n",
       "      <td>[1828, 25]</td>\n",
       "    </tr>\n",
       "    <tr>\n",
       "      <th>3</th>\n",
       "      <td>Alan Liu</td>\n",
       "      <td>http://liu.english.ucsb.edu/</td>\n",
       "      <td>[149, 1954]</td>\n",
       "    </tr>\n",
       "    <tr>\n",
       "      <th>4</th>\n",
       "      <td>Alan Reed</td>\n",
       "      <td>http://www.textworld.com/</td>\n",
       "      <td>[2332, 493]</td>\n",
       "    </tr>\n",
       "  </tbody>\n",
       "</table>\n",
       "</div>"
      ],
      "text/plain": [
       "                                                name  \\\n",
       "0  ARTFL Project and Digital Library Development ...   \n",
       "1                                      AT&T Research   \n",
       "2      ATLAS.ti Scientific Software Development GmbH   \n",
       "3                                           Alan Liu   \n",
       "4                                          Alan Reed   \n",
       "\n",
       "                                 website idstobemerged  \n",
       "0     http://artfl-project.uchicago.edu/   [842, 2720]  \n",
       "1           http://www.research.att.com/   [2566, 701]  \n",
       "2  http://www.atlasti.com/copyright.html    [1828, 25]  \n",
       "3           http://liu.english.ucsb.edu/   [149, 1954]  \n",
       "4              http://www.textworld.com/   [2332, 493]  "
      ]
     },
     "execution_count": 11,
     "metadata": {},
     "output_type": "execute_result"
    }
   ],
   "source": [
    "actorwebsite_tomerge.head()"
   ]
  },
  {
   "cell_type": "markdown",
   "id": "0138c5c8",
   "metadata": {},
   "source": [
    "### 2.2 Compare duplicated actors"
   ]
  },
  {
   "cell_type": "code",
   "execution_count": 12,
   "id": "f17ac21d",
   "metadata": {},
   "outputs": [],
   "source": [
    "#id of duplicated actors\n",
    "ids=[174, 1978]\n",
    "compareitems=df_actor_duplicates[df_actor_duplicates.id.isin(ids)]"
   ]
  },
  {
   "cell_type": "code",
   "execution_count": 13,
   "id": "a50c96c3",
   "metadata": {},
   "outputs": [
    {
     "data": {
      "text/html": [
       "<div>\n",
       "<style scoped>\n",
       "    .dataframe tbody tr th:only-of-type {\n",
       "        vertical-align: middle;\n",
       "    }\n",
       "\n",
       "    .dataframe tbody tr th {\n",
       "        vertical-align: top;\n",
       "    }\n",
       "\n",
       "    .dataframe thead th {\n",
       "        text-align: right;\n",
       "    }\n",
       "</style>\n",
       "<table border=\"1\" class=\"dataframe\">\n",
       "  <thead>\n",
       "    <tr style=\"text-align: right;\">\n",
       "      <th></th>\n",
       "      <th>id</th>\n",
       "      <th>name</th>\n",
       "      <th>externalIds</th>\n",
       "      <th>affiliations</th>\n",
       "      <th>website</th>\n",
       "    </tr>\n",
       "  </thead>\n",
       "  <tbody>\n",
       "    <tr>\n",
       "      <th>8193</th>\n",
       "      <td>174</td>\n",
       "      <td>University at Buffalo's Department of Classic...</td>\n",
       "      <td>[]</td>\n",
       "      <td>[]</td>\n",
       "      <td>NaN</td>\n",
       "    </tr>\n",
       "    <tr>\n",
       "      <th>8194</th>\n",
       "      <td>1978</td>\n",
       "      <td>University at Buffalo's Department of Classic...</td>\n",
       "      <td>[{'identifierService': {'code': 'SourceActorId...</td>\n",
       "      <td>[]</td>\n",
       "      <td>NaN</td>\n",
       "    </tr>\n",
       "  </tbody>\n",
       "</table>\n",
       "</div>"
      ],
      "text/plain": [
       "        id                                               name  \\\n",
       "8193   174   University at Buffalo's Department of Classic...   \n",
       "8194  1978   University at Buffalo's Department of Classic...   \n",
       "\n",
       "                                            externalIds affiliations website  \n",
       "8193                                                 []           []     NaN  \n",
       "8194  [{'identifierService': {'code': 'SourceActorId...           []     NaN  "
      ]
     },
     "execution_count": 13,
     "metadata": {},
     "output_type": "execute_result"
    }
   ],
   "source": [
    "compareitems"
   ]
  },
  {
   "cell_type": "code",
   "execution_count": 14,
   "id": "a7ce3cc0",
   "metadata": {},
   "outputs": [],
   "source": [
    "css_equal=\"font-size:1.5rem; border: 2px solid silver;background-color: white; padding: 10px 20px\"\n",
    "css_diff=\"background-color: lightyellow;  font-size:1.5rem; border: 2px solid silver; padding: 10px 20px\""
   ]
  },
  {
   "cell_type": "code",
   "execution_count": 15,
   "id": "49c40bec",
   "metadata": {},
   "outputs": [
    {
     "data": {
      "text/html": [
       "<style type=\"text/css\">\n",
       "#T_5cb9b_row0_col0, #T_5cb9b_row0_col1, #T_5cb9b_row2_col0, #T_5cb9b_row2_col1, #T_5cb9b_row3_col0, #T_5cb9b_row3_col1 {\n",
       "  background-color: lightyellow;\n",
       "  font-size: 1.5rem;\n",
       "  border: 2px solid silver;\n",
       "  padding: 10px 20px;\n",
       "}\n",
       "#T_5cb9b_row1_col0, #T_5cb9b_row1_col1, #T_5cb9b_row4_col0, #T_5cb9b_row4_col1 {\n",
       "  font-size: 1.5rem;\n",
       "  border: 2px solid silver;\n",
       "  background-color: white;\n",
       "  padding: 10px 20px;\n",
       "}\n",
       "</style>\n",
       "<table id=\"T_5cb9b\">\n",
       "  <thead>\n",
       "    <tr>\n",
       "      <th class=\"blank level0\" >&nbsp;</th>\n",
       "      <th id=\"T_5cb9b_level0_col0\" class=\"col_heading level0 col0\" >8193</th>\n",
       "      <th id=\"T_5cb9b_level0_col1\" class=\"col_heading level0 col1\" >8194</th>\n",
       "    </tr>\n",
       "  </thead>\n",
       "  <tbody>\n",
       "    <tr>\n",
       "      <th id=\"T_5cb9b_level0_row0\" class=\"row_heading level0 row0\" >id</th>\n",
       "      <td id=\"T_5cb9b_row0_col0\" class=\"data row0 col0\" >174</td>\n",
       "      <td id=\"T_5cb9b_row0_col1\" class=\"data row0 col1\" >1978</td>\n",
       "    </tr>\n",
       "    <tr>\n",
       "      <th id=\"T_5cb9b_level0_row1\" class=\"row_heading level0 row1\" >name</th>\n",
       "      <td id=\"T_5cb9b_row1_col0\" class=\"data row1 col0\" > University at Buffalo's Department of Classics and Department of Linguistics, and the VAST Lab of the University of Colorado at Colorado Springs.</td>\n",
       "      <td id=\"T_5cb9b_row1_col1\" class=\"data row1 col1\" > University at Buffalo's Department of Classics and Department of Linguistics, and the VAST Lab of the University of Colorado at Colorado Springs.</td>\n",
       "    </tr>\n",
       "    <tr>\n",
       "      <th id=\"T_5cb9b_level0_row2\" class=\"row_heading level0 row2\" >externalIds</th>\n",
       "      <td id=\"T_5cb9b_row2_col0\" class=\"data row2 col0\" >[]</td>\n",
       "      <td id=\"T_5cb9b_row2_col1\" class=\"data row2 col1\" >[{'identifierService': {'code': 'SourceActorId', 'label': 'Source ActorId', 'ord': 7, 'urlTemplate': ''}, 'identifier': '1-39d412d7bdd1a79bc8dfce7928d92bc4d316ab3c0b17cc0a37492e1dfe341b69'}]</td>\n",
       "    </tr>\n",
       "    <tr>\n",
       "      <th id=\"T_5cb9b_level0_row3\" class=\"row_heading level0 row3\" >affiliations</th>\n",
       "      <td id=\"T_5cb9b_row3_col0\" class=\"data row3 col0\" >[]</td>\n",
       "      <td id=\"T_5cb9b_row3_col1\" class=\"data row3 col1\" >[]</td>\n",
       "    </tr>\n",
       "    <tr>\n",
       "      <th id=\"T_5cb9b_level0_row4\" class=\"row_heading level0 row4\" >website</th>\n",
       "      <td id=\"T_5cb9b_row4_col0\" class=\"data row4 col0\" >nan</td>\n",
       "      <td id=\"T_5cb9b_row4_col1\" class=\"data row4 col1\" >nan</td>\n",
       "    </tr>\n",
       "  </tbody>\n",
       "</table>\n"
      ],
      "text/plain": [
       "<pandas.io.formats.style.Styler at 0x11707c6d0>"
      ]
     },
     "execution_count": 15,
     "metadata": {},
     "output_type": "execute_result"
    }
   ],
   "source": [
    "#view items\n",
    "showdiff = compareitems.T.style.apply(lambda x: [css_equal if ((len(utils.lists_to_list(x.values))==1) ) else css_diff for i in x],\n",
    "                    axis=1)\n",
    "showdiff"
   ]
  },
  {
   "cell_type": "markdown",
   "id": "767d01d4",
   "metadata": {},
   "source": [
    "### 2.3 Merge items\n",
    "\n",
    "The code above has generated three different dataframes:\n",
    "\n",
    "<ol>\n",
    "    <li>The dataframe <i>df_actors_with_same_items</i> that contains the duplicated actors that were attached to same items</li>\n",
    "    <li>The dataframe <i>df_actors_empty_items</i> that contains the duplicated actors that were *never attached to any item*</li>\n",
    "    <li> The dataframe <i>df_actors_with_different_items</i> that contains the duplicated actors that were never attached to the same itemsm, <b>the actors in this dataframe should be manually merged!</b></li>\n",
    "</ol>\n",
    "The function <i>postMergedActors </i> uses the API entry: <i>(POST) /api/actors/{id}/merge</i> to automatically merge the actors contained in dataframes 1 or 2."
   ]
  },
  {
   "cell_type": "code",
   "execution_count": null,
   "id": "3e40a049",
   "metadata": {},
   "outputs": [],
   "source": [
    "for item in actorwebsite_tomerge.itertuples():\n",
    "    print(item.idstobemerged[0], \", \".join(str (e) for e in item.idstobemerged[1:]))\n",
    "    mpdata.postMergedActors(str(item.idstobemerged[0]), \", \".join(str (e) for e in item.idstobemerged[1:]))"
   ]
  },
  {
   "cell_type": "markdown",
   "id": "7155deeb",
   "metadata": {},
   "source": [
    "## 2.4 Reload the actor from MP"
   ]
  },
  {
   "cell_type": "code",
   "execution_count": 16,
   "id": "a4fb9d5e",
   "metadata": {},
   "outputs": [],
   "source": [
    "df_actors_flat_new =mpdata.getMPItems (\"actors\", False)"
   ]
  },
  {
   "cell_type": "markdown",
   "id": "853a2cb8",
   "metadata": {},
   "source": [
    "### 2.4 Get duplicates for actors using actor.name as filter"
   ]
  },
  {
   "cell_type": "code",
   "execution_count": 17,
   "id": "a3f22535",
   "metadata": {},
   "outputs": [],
   "source": [
    "utils=hel.Util()\n",
    "filter_attribute='name'\n",
    "df_actor_duplicates=df_actors_flat[df_actors_flat.duplicated(subset=filter_attribute, keep=False)]\n",
    "actor_tomerge=df_actor_duplicates.groupby(['name'])['id'].apply(list).reset_index(name='idstobemerged')"
   ]
  },
  {
   "cell_type": "code",
   "execution_count": 18,
   "id": "2c0d3661",
   "metadata": {},
   "outputs": [
    {
     "name": "stdout",
     "output_type": "stream",
     "text": [
      "Using the attributes \"name\" as filter, there are: 2837 duplicated actors\n"
     ]
    }
   ],
   "source": [
    "print (f'Using the attributes \"{filter_attribute}\" as filter, there are: {df_actor_duplicates.shape[0]} duplicated actors')"
   ]
  },
  {
   "cell_type": "markdown",
   "id": "6e61d9d7",
   "metadata": {},
   "source": [
    "#### _Individuating actors with the exact same name that were never attached to any items._"
   ]
  },
  {
   "cell_type": "code",
   "execution_count": 19,
   "id": "01a7204b",
   "metadata": {},
   "outputs": [],
   "source": [
    "df_actors_samename_empty_items= getDuplicateActorsWithEmptyItems(actor_tomerge)"
   ]
  },
  {
   "cell_type": "code",
   "execution_count": 40,
   "id": "19ea8de8",
   "metadata": {},
   "outputs": [
    {
     "data": {
      "text/html": [
       "<div>\n",
       "<style scoped>\n",
       "    .dataframe tbody tr th:only-of-type {\n",
       "        vertical-align: middle;\n",
       "    }\n",
       "\n",
       "    .dataframe tbody tr th {\n",
       "        vertical-align: top;\n",
       "    }\n",
       "\n",
       "    .dataframe thead th {\n",
       "        text-align: right;\n",
       "    }\n",
       "</style>\n",
       "<table border=\"1\" class=\"dataframe\">\n",
       "  <thead>\n",
       "    <tr style=\"text-align: right;\">\n",
       "      <th></th>\n",
       "      <th>name</th>\n",
       "      <th>idstobemerged</th>\n",
       "    </tr>\n",
       "  </thead>\n",
       "  <tbody>\n",
       "    <tr>\n",
       "      <th>1</th>\n",
       "      <td>Maastricht University</td>\n",
       "      <td>[1665, 3210]</td>\n",
       "    </tr>\n",
       "    <tr>\n",
       "      <th>4</th>\n",
       "      <td>Waterford Institute of Technology</td>\n",
       "      <td>[1666, 3211]</td>\n",
       "    </tr>\n",
       "    <tr>\n",
       "      <th>53</th>\n",
       "      <td>Andrew Hnatow</td>\n",
       "      <td>[2945, 1028]</td>\n",
       "    </tr>\n",
       "    <tr>\n",
       "      <th>61</th>\n",
       "      <td>Antoine Henry</td>\n",
       "      <td>[1139, 3064, 3104]</td>\n",
       "    </tr>\n",
       "    <tr>\n",
       "      <th>68</th>\n",
       "      <td>Aracele Torres</td>\n",
       "      <td>[3094, 3054, 1127]</td>\n",
       "    </tr>\n",
       "    <tr>\n",
       "      <th>72</th>\n",
       "      <td>Armando Luza</td>\n",
       "      <td>[1111, 3011]</td>\n",
       "    </tr>\n",
       "    <tr>\n",
       "      <th>74</th>\n",
       "      <td>Artefactual Systems</td>\n",
       "      <td>[2139, 969]</td>\n",
       "    </tr>\n",
       "    <tr>\n",
       "      <th>86</th>\n",
       "      <td>BBAW</td>\n",
       "      <td>[3233, 1681]</td>\n",
       "    </tr>\n",
       "    <tr>\n",
       "      <th>90</th>\n",
       "      <td>Bar-Ilan University, Ramat Gan, Israel</td>\n",
       "      <td>[3842, 3904]</td>\n",
       "    </tr>\n",
       "    <tr>\n",
       "      <th>100</th>\n",
       "      <td>Berlin-Brandenburg Academy of Sciences and Hum...</td>\n",
       "      <td>[1661, 3246]</td>\n",
       "    </tr>\n",
       "  </tbody>\n",
       "</table>\n",
       "</div>"
      ],
      "text/plain": [
       "                                                  name       idstobemerged\n",
       "1                               Maastricht University         [1665, 3210]\n",
       "4                   Waterford Institute of Technology         [1666, 3211]\n",
       "53                                       Andrew Hnatow        [2945, 1028]\n",
       "61                                       Antoine Henry  [1139, 3064, 3104]\n",
       "68                                      Aracele Torres  [3094, 3054, 1127]\n",
       "72                                        Armando Luza        [1111, 3011]\n",
       "74                                 Artefactual Systems         [2139, 969]\n",
       "86                                                BBAW        [3233, 1681]\n",
       "90              Bar-Ilan University, Ramat Gan, Israel        [3842, 3904]\n",
       "100  Berlin-Brandenburg Academy of Sciences and Hum...        [1661, 3246]"
      ]
     },
     "execution_count": 40,
     "metadata": {},
     "output_type": "execute_result"
    }
   ],
   "source": [
    "df_actors_samename_empty_items.head(10)"
   ]
  },
  {
   "cell_type": "markdown",
   "id": "67c65877",
   "metadata": {},
   "source": [
    "#### _Different actors with the exact same name that were never attached to at least one common items_"
   ]
  },
  {
   "cell_type": "code",
   "execution_count": 48,
   "id": "9d3c566d",
   "metadata": {},
   "outputs": [],
   "source": [
    "df_actors_samename_different_items=getDuplicateActorsWithDifferentItems(actor_tomerge)"
   ]
  },
  {
   "cell_type": "code",
   "execution_count": 49,
   "id": "7dc818ff",
   "metadata": {},
   "outputs": [
    {
     "data": {
      "text/plain": [
       "name             416\n",
       "idstobemerged    416\n",
       "dtype: int64"
      ]
     },
     "execution_count": 49,
     "metadata": {},
     "output_type": "execute_result"
    }
   ],
   "source": [
    "df_actors_samename_different_items.count()"
   ]
  },
  {
   "cell_type": "markdown",
   "id": "d4623f84",
   "metadata": {},
   "source": [
    "#### _Actors with the exact same name that were attacheed to same items._"
   ]
  },
  {
   "cell_type": "code",
   "execution_count": 50,
   "id": "7f211f2d",
   "metadata": {},
   "outputs": [],
   "source": [
    "import functools as ft\n",
    "dfs=[df_actors_samename_empty_items, df_actors_samename_different_items, actor_tomerge, ]\n",
    "df_temp=ft.reduce(lambda left, right: pd.merge(left, right, on=['name'], how=\"outer\"), dfs)\n",
    "df_actors_samename_sameitems=df_temp.loc[(df_temp[['idstobemerged_x', 'idstobemerged_y']].isnull().all(1)) & (df_temp['idstobemerged'].notnull())][['name', 'idstobemerged']]"
   ]
  },
  {
   "cell_type": "code",
   "execution_count": 51,
   "id": "c9b4b92c",
   "metadata": {},
   "outputs": [
    {
     "data": {
      "text/html": [
       "<div>\n",
       "<style scoped>\n",
       "    .dataframe tbody tr th:only-of-type {\n",
       "        vertical-align: middle;\n",
       "    }\n",
       "\n",
       "    .dataframe tbody tr th {\n",
       "        vertical-align: top;\n",
       "    }\n",
       "\n",
       "    .dataframe thead th {\n",
       "        text-align: right;\n",
       "    }\n",
       "</style>\n",
       "<table border=\"1\" class=\"dataframe\">\n",
       "  <thead>\n",
       "    <tr style=\"text-align: right;\">\n",
       "      <th></th>\n",
       "      <th>name</th>\n",
       "      <th>idstobemerged</th>\n",
       "    </tr>\n",
       "  </thead>\n",
       "  <tbody>\n",
       "    <tr>\n",
       "      <th>512</th>\n",
       "      <td>Jan Aarts, Hans van Halteren and Nelleke Oost...</td>\n",
       "      <td>[426, 2258]</td>\n",
       "    </tr>\n",
       "    <tr>\n",
       "      <th>513</th>\n",
       "      <td>University at Buffalo's Department of Classic...</td>\n",
       "      <td>[174, 1978]</td>\n",
       "    </tr>\n",
       "    <tr>\n",
       "      <th>514</th>\n",
       "      <td>API</td>\n",
       "      <td>[2200, 36]</td>\n",
       "    </tr>\n",
       "    <tr>\n",
       "      <th>515</th>\n",
       "      <td>ARTFL</td>\n",
       "      <td>[2161, 340]</td>\n",
       "    </tr>\n",
       "    <tr>\n",
       "      <th>516</th>\n",
       "      <td>ARTFL Project and Digital Library Development ...</td>\n",
       "      <td>[842, 2720]</td>\n",
       "    </tr>\n",
       "  </tbody>\n",
       "</table>\n",
       "</div>"
      ],
      "text/plain": [
       "                                                  name idstobemerged\n",
       "512   Jan Aarts, Hans van Halteren and Nelleke Oost...   [426, 2258]\n",
       "513   University at Buffalo's Department of Classic...   [174, 1978]\n",
       "514                                                API    [2200, 36]\n",
       "515                                              ARTFL   [2161, 340]\n",
       "516  ARTFL Project and Digital Library Development ...   [842, 2720]"
      ]
     },
     "execution_count": 51,
     "metadata": {},
     "output_type": "execute_result"
    }
   ],
   "source": [
    "df_actors_samename_sameitems.sort_values('name').head()"
   ]
  },
  {
   "cell_type": "markdown",
   "id": "d7db694c",
   "metadata": {},
   "source": [
    "### Compare Actors"
   ]
  },
  {
   "cell_type": "code",
   "execution_count": 52,
   "id": "1af726b7",
   "metadata": {},
   "outputs": [],
   "source": [
    "ids=[426, 2258]\n",
    "compareitems=df_actor_duplicates[df_actor_duplicates.id.isin(ids)]\n",
    "css_equal=\"font-size:1.5rem; border: 2px solid silver;background-color: white; padding: 10px 20px\"\n",
    "css_diff=\"background-color: lightyellow;  font-size:1.5rem; border: 2px solid silver; padding: 10px 20px\""
   ]
  },
  {
   "cell_type": "code",
   "execution_count": 53,
   "id": "9f27c8d4",
   "metadata": {},
   "outputs": [
    {
     "data": {
      "text/html": [
       "<style type=\"text/css\">\n",
       "#T_76c7a_row0_col0, #T_76c7a_row0_col1, #T_76c7a_row2_col0, #T_76c7a_row2_col1, #T_76c7a_row3_col0, #T_76c7a_row3_col1 {\n",
       "  background-color: lightyellow;\n",
       "  font-size: 1.5rem;\n",
       "  border: 2px solid silver;\n",
       "  padding: 10px 20px;\n",
       "}\n",
       "#T_76c7a_row1_col0, #T_76c7a_row1_col1, #T_76c7a_row4_col0, #T_76c7a_row4_col1 {\n",
       "  font-size: 1.5rem;\n",
       "  border: 2px solid silver;\n",
       "  background-color: white;\n",
       "  padding: 10px 20px;\n",
       "}\n",
       "</style>\n",
       "<table id=\"T_76c7a\">\n",
       "  <thead>\n",
       "    <tr>\n",
       "      <th class=\"blank level0\" >&nbsp;</th>\n",
       "      <th id=\"T_76c7a_level0_col0\" class=\"col_heading level0 col0\" >3568</th>\n",
       "      <th id=\"T_76c7a_level0_col1\" class=\"col_heading level0 col1\" >3569</th>\n",
       "    </tr>\n",
       "  </thead>\n",
       "  <tbody>\n",
       "    <tr>\n",
       "      <th id=\"T_76c7a_level0_row0\" class=\"row_heading level0 row0\" >id</th>\n",
       "      <td id=\"T_76c7a_row0_col0\" class=\"data row0 col0\" >426</td>\n",
       "      <td id=\"T_76c7a_row0_col1\" class=\"data row0 col1\" >2258</td>\n",
       "    </tr>\n",
       "    <tr>\n",
       "      <th id=\"T_76c7a_level0_row1\" class=\"row_heading level0 row1\" >name</th>\n",
       "      <td id=\"T_76c7a_row1_col0\" class=\"data row1 col0\" > Jan Aarts, Hans van Halteren and Nelleke Oostdijk, University of Nijmegen</td>\n",
       "      <td id=\"T_76c7a_row1_col1\" class=\"data row1 col1\" > Jan Aarts, Hans van Halteren and Nelleke Oostdijk, University of Nijmegen</td>\n",
       "    </tr>\n",
       "    <tr>\n",
       "      <th id=\"T_76c7a_level0_row2\" class=\"row_heading level0 row2\" >externalIds</th>\n",
       "      <td id=\"T_76c7a_row2_col0\" class=\"data row2 col0\" >[]</td>\n",
       "      <td id=\"T_76c7a_row2_col1\" class=\"data row2 col1\" >[{'identifierService': {'code': 'SourceActorId', 'label': 'Source ActorId', 'ord': 7, 'urlTemplate': ''}, 'identifier': '1-385568d7ab786ea0f0d6f35a7a73e948f7fdcee7346c95991e4085525eec52c2'}]</td>\n",
       "    </tr>\n",
       "    <tr>\n",
       "      <th id=\"T_76c7a_level0_row3\" class=\"row_heading level0 row3\" >affiliations</th>\n",
       "      <td id=\"T_76c7a_row3_col0\" class=\"data row3 col0\" >[]</td>\n",
       "      <td id=\"T_76c7a_row3_col1\" class=\"data row3 col1\" >[]</td>\n",
       "    </tr>\n",
       "    <tr>\n",
       "      <th id=\"T_76c7a_level0_row4\" class=\"row_heading level0 row4\" >website</th>\n",
       "      <td id=\"T_76c7a_row4_col0\" class=\"data row4 col0\" >nan</td>\n",
       "      <td id=\"T_76c7a_row4_col1\" class=\"data row4 col1\" >nan</td>\n",
       "    </tr>\n",
       "  </tbody>\n",
       "</table>\n"
      ],
      "text/plain": [
       "<pandas.io.formats.style.Styler at 0x11955f250>"
      ]
     },
     "execution_count": 53,
     "metadata": {},
     "output_type": "execute_result"
    }
   ],
   "source": [
    "#view items\n",
    "showdiff = compareitems.T.style.apply(lambda x: [css_equal if ((len(utils.lists_to_list(x.values))==1) ) else css_diff for i in x],\n",
    "                    axis=1)\n",
    "showdiff"
   ]
  },
  {
   "cell_type": "markdown",
   "id": "cd689994",
   "metadata": {},
   "source": [
    "## 2.5 Merge actors"
   ]
  },
  {
   "cell_type": "code",
   "execution_count": null,
   "id": "14985a12",
   "metadata": {},
   "outputs": [],
   "source": [
    "for item in df_actors_samename_sameitems.itertuples():\n",
    "    print(item.idstobemerged[0], \", \".join(str (e) for e in item.idstobemerged[1:]))\n",
    "    mpdata.postMergedActors(str(item.idstobemerged[0]), \", \".join(str (e) for e in item.idstobemerged[1:]))"
   ]
  },
  {
   "cell_type": "code",
   "execution_count": null,
   "id": "b9c030b4",
   "metadata": {},
   "outputs": [],
   "source": []
  }
 ],
 "metadata": {
  "kernelspec": {
   "display_name": "Python 3 (ipykernel)",
   "language": "python",
   "name": "python3"
  },
  "language_info": {
   "codemirror_mode": {
    "name": "ipython",
    "version": 3
   },
   "file_extension": ".py",
   "mimetype": "text/x-python",
   "name": "python",
   "nbconvert_exporter": "python",
   "pygments_lexer": "ipython3",
   "version": "3.11.1"
  }
 },
 "nbformat": 4,
 "nbformat_minor": 5
}
