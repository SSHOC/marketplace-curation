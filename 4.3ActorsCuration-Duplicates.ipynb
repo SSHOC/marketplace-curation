{
 "cells": [
  {
   "cell_type": "markdown",
   "metadata": {},
   "source": [
    "# Notebook 4.3 - Actors curation: duplicates\n",
    "\n",
    "This notebook gather several checks that can be run together or independently of each other. The set of these checks helps moderators to curate Duplicated actors in the SSH Open Marketplace. \n",
    "\n",
    "This notebook is composed of 6 sections:\n",
    "\n",
    "0. Requirements to run this notebook\n",
    "1. Get actors \n",
    "2. Duplicated actors\n",
    "\n",
    "    2.1 Find duplicates for actors with same name and same website \n",
    "    \n",
    "    2.2 Compare duplicated actors with same name and same website \n",
    "    \n",
    "    2.3 Merge duplicated actors with same name and same website \n",
    "    \n",
    "    2.4 Reload the Actors\n",
    "    \n",
    "    2.5 Find duplicates for actors with same name \n",
    "    \n",
    "    2.6 Merge duplicated actors with same name \n"
   ]
  },
  {
   "cell_type": "markdown",
   "metadata": {},
   "source": [
    "## 0 Requirements to run this notebook\n",
    "\n",
    "This section gives all the relevant information to \"interact\" with the MP data.\n",
    "\n",
    "### 0.1 libraries\n",
    "*There are a number of external libraries needed to run the notebook* \n",
    "\n",
    "*Furthermore, a dedicated SSH Open Marketplace library - sshmarketplacelib - with customised functions has been created and can be imported using the python import commands.* \n",
    "\n",
    "*Below the libraries import needed to run this notebook*"
   ]
  },
  {
   "cell_type": "code",
   "execution_count": 1,
   "metadata": {},
   "outputs": [],
   "source": [
    "import pandas as pd #to manage dataframes\n",
    "#import matplotlib.pyplot as plt #to create histograms and images\n",
    "#import seaborn as sns #to create histograms and images\n",
    "import numpy as np #to manage json objects\n",
    "#import the MarketPlace Library \n",
    "from sshmarketplacelib import MPData as mpd\n",
    "from sshmarketplacelib import  eval as eva, helper as hel"
   ]
  },
  {
   "cell_type": "code",
   "execution_count": 2,
   "metadata": {},
   "outputs": [],
   "source": [
    "mpdata = mpd()\n",
    "utils=hel.Util()\n",
    "check=eva.URLCheck()"
   ]
  },
  {
   "cell_type": "markdown",
   "metadata": {},
   "source": [
    "### 0.2 Utility functions"
   ]
  },
  {
   "cell_type": "code",
   "execution_count": 3,
   "metadata": {},
   "outputs": [],
   "source": [
    "def getDuplicateActorsWithEmptyItems(actors):\n",
    "    df_actors_ei=pd.DataFrame()\n",
    "    for item in actors.itertuples():\n",
    "        allEmpty=True;\n",
    "        for actorid in item.idstobemerged:\n",
    "            actitems=mpdata.getItemsforActor(str(actorid))\n",
    "            allEmpty=allEmpty & actitems.empty\n",
    "            if(not allEmpty):\n",
    "                break\n",
    "        if (allEmpty):\n",
    "            entry = actors.loc[actors['name'] == item.name]\n",
    "            df_actors_ei=pd.concat([df_actors_ei, entry])\n",
    "    return df_actors_ei"
   ]
  },
  {
   "cell_type": "code",
   "execution_count": 4,
   "metadata": {},
   "outputs": [],
   "source": [
    "def getDuplicateActorsWithDifferentItems(actors):\n",
    "    df_results=pd.DataFrame()\n",
    "    for item in actors.itertuples():  \n",
    "        if (len (item.idstobemerged)<2):\n",
    "            continue\n",
    "        \n",
    "        tempdf_sn=mpdata.getItemsforActor(str(item.idstobemerged[0])).drop_duplicates('persistentId', keep='first')\n",
    "        for actorid in item.idstobemerged[1:]:\n",
    "            #print (actorid)\n",
    "            actitems=mpdata.getItemsforActor(str(actorid)).drop_duplicates('persistentId', keep='first')\n",
    "            entry = actors.loc[actors['name'] == item.name]\n",
    "            if ((tempdf_sn.empty & (not actitems.empty)) | ((not tempdf_sn.empty) & actitems.empty)):\n",
    "                df_results=pd.concat([df_results, entry])\n",
    "                break \n",
    "            if ((not actitems.empty)):\n",
    "                tre=(actitems['persistentId'].isin(tempdf_sn['persistentId'])).value_counts()\n",
    "                tre_r= (tempdf_sn['persistentId'].isin(actitems['persistentId'])).value_counts()  \n",
    "                \n",
    "                if ((False in tre.to_dict()) & (False in tre_r.to_dict())):\n",
    "                    #print (f'{item.idstobemerged[0]}, {actorid}')\n",
    "                   \n",
    "                    df_results=pd.concat([df_results, entry])\n",
    "                    break\n",
    "    return df_results\n"
   ]
  },
  {
   "cell_type": "code",
   "execution_count": 5,
   "metadata": {},
   "outputs": [],
   "source": [
    "import functools as ft\n",
    "def getDuplicateActorsWithSameItems(dfs):\n",
    "    df_actors_si=pd.DataFrame()\n",
    "    act_dfs=[x for x in dfs if not x.empty]\n",
    "    if (len(act_dfs)<1):\n",
    "        return df_actors_si\n",
    "    if (len(act_dfs)==1):\n",
    "        return dfs[2]\n",
    "    df_temp=ft.reduce(lambda left, right: pd.merge(left, right, on=['name'], how=\"outer\"), act_dfs)\n",
    "    if (len(act_dfs)==3):\n",
    "        return df_temp.loc[(df_temp[['idstobemerged_x', 'idstobemerged_y']].isnull().all(1)) & (df_temp['idstobemerged'].notnull())][['name', 'idstobemerged']]\n",
    "    if (len(act_dfs)==2):\n",
    "        testr=df_temp.loc[(df_temp['idstobemerged_x'].isnull()) & \n",
    "                         (df_temp['idstobemerged_y'].notnull())][['name', 'idstobemerged_y']]\n",
    "        testr.rename(columns = {'idstobemerged_y':'idstobemerged'}, inplace=True)\n",
    "        return testr\n",
    "    "
   ]
  },
  {
   "cell_type": "markdown",
   "metadata": {},
   "source": [
    "## 1. Get actors"
   ]
  },
  {
   "cell_type": "code",
   "execution_count": 6,
   "metadata": {},
   "outputs": [],
   "source": [
    "df_actors_flat =mpdata.getMPItems (\"actors\", False)"
   ]
  },
  {
   "cell_type": "code",
   "execution_count": 7,
   "metadata": {},
   "outputs": [
    {
     "data": {
      "text/html": [
       "<div>\n",
       "<style scoped>\n",
       "    .dataframe tbody tr th:only-of-type {\n",
       "        vertical-align: middle;\n",
       "    }\n",
       "\n",
       "    .dataframe tbody tr th {\n",
       "        vertical-align: top;\n",
       "    }\n",
       "\n",
       "    .dataframe thead th {\n",
       "        text-align: right;\n",
       "    }\n",
       "</style>\n",
       "<table border=\"1\" class=\"dataframe\">\n",
       "  <thead>\n",
       "    <tr style=\"text-align: right;\">\n",
       "      <th></th>\n",
       "      <th>id</th>\n",
       "      <th>name</th>\n",
       "      <th>externalIds</th>\n",
       "      <th>affiliations</th>\n",
       "      <th>website</th>\n",
       "    </tr>\n",
       "  </thead>\n",
       "  <tbody>\n",
       "    <tr>\n",
       "      <th>7946</th>\n",
       "      <td>8062</td>\n",
       "      <td>Zong Peng</td>\n",
       "      <td>[{'identifierService': {'code': 'DBLP', 'label...</td>\n",
       "      <td>[]</td>\n",
       "      <td>NaN</td>\n",
       "    </tr>\n",
       "    <tr>\n",
       "      <th>7947</th>\n",
       "      <td>218</td>\n",
       "      <td>Zoomify Inc.</td>\n",
       "      <td>[{'identifierService': {'code': 'SourceActorId...</td>\n",
       "      <td>[]</td>\n",
       "      <td>NaN</td>\n",
       "    </tr>\n",
       "    <tr>\n",
       "      <th>7948</th>\n",
       "      <td>1590</td>\n",
       "      <td>Zoppi Angela</td>\n",
       "      <td>[]</td>\n",
       "      <td>[]</td>\n",
       "      <td>NaN</td>\n",
       "    </tr>\n",
       "    <tr>\n",
       "      <th>7949</th>\n",
       "      <td>7819</td>\n",
       "      <td>Zsófia Fellegi</td>\n",
       "      <td>[{'identifierService': {'code': 'DBLP', 'label...</td>\n",
       "      <td>[]</td>\n",
       "      <td>NaN</td>\n",
       "    </tr>\n",
       "    <tr>\n",
       "      <th>7950</th>\n",
       "      <td>9882</td>\n",
       "      <td>Zsolt Szántó</td>\n",
       "      <td>[]</td>\n",
       "      <td>[]</td>\n",
       "      <td>NaN</td>\n",
       "    </tr>\n",
       "  </tbody>\n",
       "</table>\n",
       "</div>"
      ],
      "text/plain": [
       "        id            name                                        externalIds  \\\n",
       "7946  8062       Zong Peng  [{'identifierService': {'code': 'DBLP', 'label...   \n",
       "7947   218    Zoomify Inc.  [{'identifierService': {'code': 'SourceActorId...   \n",
       "7948  1590    Zoppi Angela                                                 []   \n",
       "7949  7819  Zsófia Fellegi  [{'identifierService': {'code': 'DBLP', 'label...   \n",
       "7950  9882    Zsolt Szántó                                                 []   \n",
       "\n",
       "     affiliations website  \n",
       "7946           []     NaN  \n",
       "7947           []     NaN  \n",
       "7948           []     NaN  \n",
       "7949           []     NaN  \n",
       "7950           []     NaN  "
      ]
     },
     "execution_count": 7,
     "metadata": {},
     "output_type": "execute_result"
    }
   ],
   "source": [
    "df_actors_flat.tail()"
   ]
  },
  {
   "cell_type": "markdown",
   "metadata": {},
   "source": [
    "## 2. Duplicated actors\n",
    "    2.1 Get duplicates for actors using *actor.name* and *actor.website* as filters\n",
    "    2.2 Compare duplicated actors (optional)\n",
    "    2.3 Merge duplicated actors (with same name, same website)\n",
    "    2.4 reload the actors data from the MP\n",
    "    2.5 Get duplicates for actors using *actor.name* as filter \n",
    "    2.6 Merge actors without manual checks\n",
    "    2.7 Merge actors after comparison step"
   ]
  },
  {
   "cell_type": "markdown",
   "metadata": {},
   "source": [
    "### 2.1 Get duplicates for actors using *actor.name* and *actor.website* as filter"
   ]
  },
  {
   "cell_type": "code",
   "execution_count": 8,
   "metadata": {},
   "outputs": [],
   "source": [
    "utils=hel.Util()\n",
    "filter_attribute=['name', 'website']\n",
    "df_actor_duplicates=df_actors_flat[df_actors_flat.duplicated(subset=filter_attribute, keep=False)]\n",
    "dupl_actor_website=df_actor_duplicates[df_actor_duplicates['website'].notnull()].sort_values('name')"
   ]
  },
  {
   "cell_type": "code",
   "execution_count": 9,
   "metadata": {},
   "outputs": [
    {
     "name": "stdout",
     "output_type": "stream",
     "text": [
      "Using the attributes \"['name', 'website']\" as filter, there are: 0 duplicated actors\n"
     ]
    }
   ],
   "source": [
    "print (f'Using the attributes \"{filter_attribute}\" as filter, there are: {dupl_actor_website.shape[0]} duplicated actors')"
   ]
  },
  {
   "cell_type": "code",
   "execution_count": null,
   "metadata": {},
   "outputs": [],
   "source": [
    "actorwebsite_tomerge=dupl_actor_website.groupby(['name','website'])['id'].apply(list).reset_index(name='idstobemerged')"
   ]
  },
  {
   "cell_type": "code",
   "execution_count": null,
   "metadata": {},
   "outputs": [],
   "source": [
    "actorwebsite_tomerge.count()"
   ]
  },
  {
   "cell_type": "code",
   "execution_count": null,
   "metadata": {},
   "outputs": [],
   "source": [
    "#The number of actors with more than one duplicate\n",
    "actorwebsite_tomerge[actorwebsite_tomerge.idstobemerged.map(len)>2].count()"
   ]
  },
  {
   "cell_type": "code",
   "execution_count": null,
   "metadata": {},
   "outputs": [],
   "source": [
    "actorwebsite_tomerge.head()"
   ]
  },
  {
   "cell_type": "markdown",
   "metadata": {},
   "source": [
    "### 2.2 Compare duplicated actors (optional)"
   ]
  },
  {
   "cell_type": "code",
   "execution_count": null,
   "metadata": {},
   "outputs": [],
   "source": [
    "#id of duplicated actors\n",
    "ids=[174, 1978]\n",
    "compareitems=df_actor_duplicates[df_actor_duplicates.id.isin(ids)]"
   ]
  },
  {
   "cell_type": "code",
   "execution_count": null,
   "metadata": {},
   "outputs": [],
   "source": [
    "compareitems"
   ]
  },
  {
   "cell_type": "code",
   "execution_count": null,
   "metadata": {},
   "outputs": [],
   "source": [
    "css_equal=\"font-size:1.5rem; border: 2px solid silver;background-color: white; padding: 10px 20px\"\n",
    "css_diff=\"background-color: lightyellow;  font-size:1.5rem; border: 2px solid silver; padding: 10px 20px\""
   ]
  },
  {
   "cell_type": "code",
   "execution_count": null,
   "metadata": {},
   "outputs": [],
   "source": [
    "#view items\n",
    "showdiff = compareitems.T.style.apply(lambda x: [css_equal if ((len(utils.lists_to_list(x.values))==1) ) else css_diff for i in x],\n",
    "                    axis=1)\n",
    "showdiff"
   ]
  },
  {
   "cell_type": "markdown",
   "metadata": {},
   "source": [
    "### 2.3 Merge duplicated actors\n",
    "\n",
    "The function <i>postMergedActors </i> uses the API entry: <i>(POST) /api/actors/{id}/merge</i> to automatically merge the actors contained in the dataframe actorwebsite_tomerge."
   ]
  },
  {
   "cell_type": "code",
   "execution_count": null,
   "metadata": {},
   "outputs": [],
   "source": [
    "for item in actorwebsite_tomerge.itertuples():\n",
    "    print(item.idstobemerged[0], \", \".join(str (e) for e in item.idstobemerged[1:]))\n",
    "    mpdata.postMergedActors(str(item.idstobemerged[0]), \", \".join(str (e) for e in item.idstobemerged[1:]))"
   ]
  },
  {
   "cell_type": "markdown",
   "metadata": {},
   "source": [
    "## 2.4 Reload the actor from MP"
   ]
  },
  {
   "cell_type": "code",
   "execution_count": 11,
   "metadata": {},
   "outputs": [],
   "source": [
    "df_actors_flat_new =mpdata.getMPItems (\"actors\", False)"
   ]
  },
  {
   "cell_type": "markdown",
   "metadata": {},
   "source": [
    "### 2.5 Get duplicates for actors using actor.name as filter"
   ]
  },
  {
   "cell_type": "code",
   "execution_count": 12,
   "metadata": {},
   "outputs": [],
   "source": [
    "utils=hel.Util()\n",
    "filter_attribute='name'\n",
    "df_actor_duplicates_new=df_actors_flat_new[df_actors_flat_new.duplicated(subset=filter_attribute, keep=False)]\n",
    "actor_tomerge_new=df_actor_duplicates_new.groupby(['name'])['id'].apply(list).reset_index(name='idstobemerged')"
   ]
  },
  {
   "cell_type": "code",
   "execution_count": 13,
   "metadata": {},
   "outputs": [
    {
     "name": "stdout",
     "output_type": "stream",
     "text": [
      "Using the attributes \"name\" as filter, there are: 340 duplicated actors\n"
     ]
    }
   ],
   "source": [
    "print (f'Using the attributes \"{filter_attribute}\" as filter, there are: {actor_tomerge_new.shape[0]} duplicated actors')"
   ]
  },
  {
   "cell_type": "markdown",
   "metadata": {},
   "source": [
    "The code below will generate three different dataframes : \n",
    "<ol>\n",
    "<li> The dataframe <i>df_actors_samename_empty_items</i> that contains the duplicated actors that were *never attached to any item*</li>\n",
    "<li> The dataframe <i>df_actors_samename_different_items</i> that contains the duplicated actors that were never attached to the same items, <b>the actors in this dataframe should be manually merged! See next section of the notebook</b></li>\n",
    "<li> The dataframe <i>df_actors_samename_sameitems</i> that contains the duplicated actors that were attached to same items</li>\n",
    "</ol>\n",
    "    \n",
    "    Actors in dataframes 1 and 3 can be merged automatically. Actors in df 2 should be manually inspected and merge individually (see section 2.7)"
   ]
  },
  {
   "cell_type": "markdown",
   "metadata": {},
   "source": [
    "#### _Individuating actors with the exact same name that were never attached to any items._"
   ]
  },
  {
   "cell_type": "code",
   "execution_count": 14,
   "metadata": {},
   "outputs": [],
   "source": [
    "df_actors_samename_empty_items= getDuplicateActorsWithEmptyItems(actor_tomerge_new)"
   ]
  },
  {
   "cell_type": "code",
   "execution_count": 15,
   "metadata": {},
   "outputs": [
    {
     "data": {
      "text/html": [
       "<div>\n",
       "<style scoped>\n",
       "    .dataframe tbody tr th:only-of-type {\n",
       "        vertical-align: middle;\n",
       "    }\n",
       "\n",
       "    .dataframe tbody tr th {\n",
       "        vertical-align: top;\n",
       "    }\n",
       "\n",
       "    .dataframe thead th {\n",
       "        text-align: right;\n",
       "    }\n",
       "</style>\n",
       "<table border=\"1\" class=\"dataframe\">\n",
       "  <thead>\n",
       "    <tr style=\"text-align: right;\">\n",
       "      <th></th>\n",
       "      <th>name</th>\n",
       "      <th>idstobemerged</th>\n",
       "    </tr>\n",
       "  </thead>\n",
       "  <tbody>\n",
       "    <tr>\n",
       "      <th>117</th>\n",
       "      <td>INRIA, Paris, France</td>\n",
       "      <td>[8968, 6441, 8970, 8593, 8960, 8119, 8966, 897...</td>\n",
       "    </tr>\n",
       "  </tbody>\n",
       "</table>\n",
       "</div>"
      ],
      "text/plain": [
       "                     name                                      idstobemerged\n",
       "117  INRIA, Paris, France  [8968, 6441, 8970, 8593, 8960, 8119, 8966, 897..."
      ]
     },
     "execution_count": 15,
     "metadata": {},
     "output_type": "execute_result"
    }
   ],
   "source": [
    "df_actors_samename_empty_items.head(10)"
   ]
  },
  {
   "cell_type": "markdown",
   "metadata": {},
   "source": [
    "#### _Different actors with the exact same name that were never attached to at least one common item_"
   ]
  },
  {
   "cell_type": "code",
   "execution_count": 16,
   "metadata": {},
   "outputs": [],
   "source": [
    "df_actors_samename_different_items=getDuplicateActorsWithDifferentItems(actor_tomerge_new)"
   ]
  },
  {
   "cell_type": "code",
   "execution_count": 17,
   "metadata": {},
   "outputs": [
    {
     "data": {
      "text/plain": [
       "name             337\n",
       "idstobemerged    337\n",
       "dtype: int64"
      ]
     },
     "execution_count": 17,
     "metadata": {},
     "output_type": "execute_result"
    }
   ],
   "source": [
    "df_actors_samename_different_items.count()"
   ]
  },
  {
   "cell_type": "markdown",
   "metadata": {},
   "source": [
    "#### _Actors with the exact same name that were attached to at least one common item._"
   ]
  },
  {
   "cell_type": "code",
   "execution_count": 18,
   "metadata": {},
   "outputs": [],
   "source": [
    "dfs=[df_actors_samename_different_items, df_actors_samename_empty_items, actor_tomerge_new]\n",
    "df_actors_samename_sameitems=getDuplicateActorsWithSameItems(dfs)"
   ]
  },
  {
   "cell_type": "code",
   "execution_count": 20,
   "metadata": {},
   "outputs": [
    {
     "data": {
      "text/html": [
       "<div>\n",
       "<style scoped>\n",
       "    .dataframe tbody tr th:only-of-type {\n",
       "        vertical-align: middle;\n",
       "    }\n",
       "\n",
       "    .dataframe tbody tr th {\n",
       "        vertical-align: top;\n",
       "    }\n",
       "\n",
       "    .dataframe thead th {\n",
       "        text-align: right;\n",
       "    }\n",
       "</style>\n",
       "<table border=\"1\" class=\"dataframe\">\n",
       "  <thead>\n",
       "    <tr style=\"text-align: right;\">\n",
       "      <th></th>\n",
       "      <th>name</th>\n",
       "      <th>idstobemerged</th>\n",
       "    </tr>\n",
       "  </thead>\n",
       "  <tbody>\n",
       "    <tr>\n",
       "      <th>338</th>\n",
       "      <td>Digital Innovation Lab</td>\n",
       "      <td>[2631, 2470, 2427, 578]</td>\n",
       "    </tr>\n",
       "    <tr>\n",
       "      <th>339</th>\n",
       "      <td>Jakub Waszczuk</td>\n",
       "      <td>[234, 2177, 2045]</td>\n",
       "    </tr>\n",
       "  </tbody>\n",
       "</table>\n",
       "</div>"
      ],
      "text/plain": [
       "                       name            idstobemerged\n",
       "338  Digital Innovation Lab  [2631, 2470, 2427, 578]\n",
       "339          Jakub Waszczuk        [234, 2177, 2045]"
      ]
     },
     "execution_count": 20,
     "metadata": {},
     "output_type": "execute_result"
    }
   ],
   "source": [
    "df_actors_samename_sameitems.head(10)"
   ]
  },
  {
   "cell_type": "markdown",
   "metadata": {},
   "source": [
    "## 2.6 Merge actors without manual checks"
   ]
  },
  {
   "cell_type": "markdown",
   "metadata": {},
   "source": [
    "The code above has generated three different dataframes:\n",
    "\n",
    "<ol>\n",
    "    <li>The dataframe <i>df_actors_samename_empty_items</i> that contains the duplicated actors that were *never attached to any item*</li>\n",
    "    <li> The dataframe <i>df_actors_samename_different_items</i> that contains the duplicated actors that were never attached to the same items, <b>the actors in this dataframe should be manually merged! See next section of the notebook</b></li>\n",
    "    <li>The dataframe <i>df_actors_samename_sameitems</i> that contains the duplicated actors that were attached to same items</li>\n",
    "</ol>\n",
    "\n",
    "The function <i>postMergedActors </i> uses the API entry: <i>(POST) /api/actors/{id}/merge</i> to automatically merge the actors contained in dataframes 1 and 3."
   ]
  },
  {
   "cell_type": "markdown",
   "metadata": {},
   "source": [
    "##### merging duplicates from the *df_actors_samename_empty_items* "
   ]
  },
  {
   "cell_type": "code",
   "execution_count": 21,
   "metadata": {},
   "outputs": [
    {
     "name": "stdout",
     "output_type": "stream",
     "text": [
      "8968 6441, 8970, 8593, 8960, 8119, 8966, 8972, 7953, 8962, 5845, 8964, 8958, 6036, 5404\n",
      "Merging actor 8968 with actor(s) 6441, 8970, 8593, 8960, 8119, 8966, 8972, 7953, 8962, 5845, 8964, 8958, 6036, 5404...\n",
      "URL: https://marketplace-api.sshopencloud.eu/api/actors/8968/merge?with=6441,8970,8593,8960,8119,8966,8972,7953,8962,5845,8964,8958,6036,5404\n",
      "...not executed, running in DEBUG mode.\n"
     ]
    }
   ],
   "source": [
    "for item in df_actors_samename_empty_items.itertuples():\n",
    "    print(item.idstobemerged[0], \", \".join(str (e) for e in item.idstobemerged[1:]))\n",
    "    mpdata.postMergedActors(str(item.idstobemerged[0]), \", \".join(str (e) for e in item.idstobemerged[1:]))"
   ]
  },
  {
   "cell_type": "markdown",
   "metadata": {},
   "source": [
    "##### merging duplicates from the *df_actors_samename_sameitems*"
   ]
  },
  {
   "cell_type": "code",
   "execution_count": 22,
   "metadata": {},
   "outputs": [
    {
     "name": "stdout",
     "output_type": "stream",
     "text": [
      "2631 2470, 2427, 578\n",
      "Merging actor 2631 with actor(s) 2470, 2427, 578...\n",
      "URL: https://marketplace-api.sshopencloud.eu/api/actors/2631/merge?with=2470,2427,578\n",
      "...not executed, running in DEBUG mode.\n",
      "234 2177, 2045\n",
      "Merging actor 234 with actor(s) 2177, 2045...\n",
      "URL: https://marketplace-api.sshopencloud.eu/api/actors/234/merge?with=2177,2045\n",
      "...not executed, running in DEBUG mode.\n"
     ]
    }
   ],
   "source": [
    "for item in df_actors_samename_sameitems.itertuples():\n",
    "    print(item.idstobemerged[0], \", \".join(str (e) for e in item.idstobemerged[1:]))\n",
    "    mpdata.postMergedActors(str(item.idstobemerged[0]), \", \".join(str (e) for e in item.idstobemerged[1:]))"
   ]
  },
  {
   "cell_type": "markdown",
   "metadata": {},
   "source": [
    "## 2.7 Merge actors after comparison step"
   ]
  },
  {
   "cell_type": "code",
   "execution_count": 23,
   "metadata": {},
   "outputs": [],
   "source": [
    "df_actors_samename_different_items.sort_values('name').to_csv(path_or_buf='data/duplicatedactors.csv', sep=',', index=False)\n"
   ]
  },
  {
   "cell_type": "code",
   "execution_count": 24,
   "metadata": {},
   "outputs": [
    {
     "data": {
      "text/html": [
       "<div>\n",
       "<style scoped>\n",
       "    .dataframe tbody tr th:only-of-type {\n",
       "        vertical-align: middle;\n",
       "    }\n",
       "\n",
       "    .dataframe tbody tr th {\n",
       "        vertical-align: top;\n",
       "    }\n",
       "\n",
       "    .dataframe thead th {\n",
       "        text-align: right;\n",
       "    }\n",
       "</style>\n",
       "<table border=\"1\" class=\"dataframe\">\n",
       "  <thead>\n",
       "    <tr style=\"text-align: right;\">\n",
       "      <th></th>\n",
       "      <th>name</th>\n",
       "      <th>idstobemerged</th>\n",
       "    </tr>\n",
       "  </thead>\n",
       "  <tbody>\n",
       "    <tr>\n",
       "      <th>0</th>\n",
       "      <td>Poznańskie Centrum Superkomputerowo-Sieciowe,...</td>\n",
       "      <td>[1687, 3238]</td>\n",
       "    </tr>\n",
       "    <tr>\n",
       "      <th>1</th>\n",
       "      <td>Alan Liu</td>\n",
       "      <td>[149, 7812]</td>\n",
       "    </tr>\n",
       "    <tr>\n",
       "      <th>2</th>\n",
       "      <td>Alan MacEachern</td>\n",
       "      <td>[8384, 1017, 2938]</td>\n",
       "    </tr>\n",
       "    <tr>\n",
       "      <th>3</th>\n",
       "      <td>Alastair Dunning</td>\n",
       "      <td>[6070, 1262]</td>\n",
       "    </tr>\n",
       "    <tr>\n",
       "      <th>4</th>\n",
       "      <td>Alex Brey</td>\n",
       "      <td>[1105, 3008]</td>\n",
       "    </tr>\n",
       "    <tr>\n",
       "      <th>...</th>\n",
       "      <td>...</td>\n",
       "      <td>...</td>\n",
       "    </tr>\n",
       "    <tr>\n",
       "      <th>335</th>\n",
       "      <td>lindat-help@ufal.mff.cuni.cz</td>\n",
       "      <td>[1757, 3758]</td>\n",
       "    </tr>\n",
       "    <tr>\n",
       "      <th>336</th>\n",
       "      <td>ricard.campos@coronis.es</td>\n",
       "      <td>[3771, 728]</td>\n",
       "    </tr>\n",
       "    <tr>\n",
       "      <th>337</th>\n",
       "      <td>training@cessda.eu</td>\n",
       "      <td>[9472, 1213]</td>\n",
       "    </tr>\n",
       "    <tr>\n",
       "      <th>338</th>\n",
       "      <td>user-services.fsd@tuni.fi</td>\n",
       "      <td>[3774, 1473]</td>\n",
       "    </tr>\n",
       "    <tr>\n",
       "      <th>339</th>\n",
       "      <td>vcr@clarin.eu</td>\n",
       "      <td>[3767, 402]</td>\n",
       "    </tr>\n",
       "  </tbody>\n",
       "</table>\n",
       "<p>337 rows × 2 columns</p>\n",
       "</div>"
      ],
      "text/plain": [
       "                                                  name       idstobemerged\n",
       "0     Poznańskie Centrum Superkomputerowo-Sieciowe,...        [1687, 3238]\n",
       "1                                             Alan Liu         [149, 7812]\n",
       "2                                      Alan MacEachern  [8384, 1017, 2938]\n",
       "3                                     Alastair Dunning        [6070, 1262]\n",
       "4                                            Alex Brey        [1105, 3008]\n",
       "..                                                 ...                 ...\n",
       "335                       lindat-help@ufal.mff.cuni.cz        [1757, 3758]\n",
       "336                           ricard.campos@coronis.es         [3771, 728]\n",
       "337                                 training@cessda.eu        [9472, 1213]\n",
       "338                          user-services.fsd@tuni.fi        [3774, 1473]\n",
       "339                                      vcr@clarin.eu         [3767, 402]\n",
       "\n",
       "[337 rows x 2 columns]"
      ]
     },
     "execution_count": 24,
     "metadata": {},
     "output_type": "execute_result"
    }
   ],
   "source": [
    "df_actors_samename_different_items"
   ]
  },
  {
   "cell_type": "markdown",
   "metadata": {},
   "source": [
    "### Compare Actors"
   ]
  },
  {
   "cell_type": "code",
   "execution_count": 25,
   "metadata": {},
   "outputs": [],
   "source": [
    "ids=[1687, 3238]\n",
    "compareitems=df_actor_duplicates[df_actor_duplicates.id.isin(ids)]\n",
    "css_equal=\"font-size:1.5rem; border: 2px solid silver;background-color: white; padding: 10px 20px\"\n",
    "css_diff=\"background-color: lightyellow;  font-size:1.5rem; border: 2px solid silver; padding: 10px 20px\""
   ]
  },
  {
   "cell_type": "code",
   "execution_count": 26,
   "metadata": {},
   "outputs": [
    {
     "data": {
      "text/html": [
       "<style  type=\"text/css\" >\n",
       "#T_4c9276ae_b818_11ed_82c7_acde48001122row0_col0,#T_4c9276ae_b818_11ed_82c7_acde48001122row0_col1,#T_4c9276ae_b818_11ed_82c7_acde48001122row2_col0,#T_4c9276ae_b818_11ed_82c7_acde48001122row2_col1,#T_4c9276ae_b818_11ed_82c7_acde48001122row3_col0,#T_4c9276ae_b818_11ed_82c7_acde48001122row3_col1{\n",
       "            background-color:  lightyellow;\n",
       "              font-size: 1.5rem;\n",
       "             border:  2px solid silver;\n",
       "             padding:  10px 20px;\n",
       "        }#T_4c9276ae_b818_11ed_82c7_acde48001122row1_col0,#T_4c9276ae_b818_11ed_82c7_acde48001122row1_col1,#T_4c9276ae_b818_11ed_82c7_acde48001122row4_col0,#T_4c9276ae_b818_11ed_82c7_acde48001122row4_col1{\n",
       "            font-size: 1.5rem;\n",
       "             border:  2px solid silver;\n",
       "            background-color:  white;\n",
       "             padding:  10px 20px;\n",
       "        }</style><table id=\"T_4c9276ae_b818_11ed_82c7_acde48001122\" ><thead>    <tr>        <th class=\"blank level0\" ></th>        <th class=\"col_heading level0 col0\" >5815</th>        <th class=\"col_heading level0 col1\" >5816</th>    </tr></thead><tbody>\n",
       "                <tr>\n",
       "                        <th id=\"T_4c9276ae_b818_11ed_82c7_acde48001122level0_row0\" class=\"row_heading level0 row0\" >id</th>\n",
       "                        <td id=\"T_4c9276ae_b818_11ed_82c7_acde48001122row0_col0\" class=\"data row0 col0\" >1687</td>\n",
       "                        <td id=\"T_4c9276ae_b818_11ed_82c7_acde48001122row0_col1\" class=\"data row0 col1\" >3238</td>\n",
       "            </tr>\n",
       "            <tr>\n",
       "                        <th id=\"T_4c9276ae_b818_11ed_82c7_acde48001122level0_row1\" class=\"row_heading level0 row1\" >name</th>\n",
       "                        <td id=\"T_4c9276ae_b818_11ed_82c7_acde48001122row1_col0\" class=\"data row1 col0\" > Poznańskie Centrum Superkomputerowo-Sieciowe, Poznań</td>\n",
       "                        <td id=\"T_4c9276ae_b818_11ed_82c7_acde48001122row1_col1\" class=\"data row1 col1\" > Poznańskie Centrum Superkomputerowo-Sieciowe, Poznań</td>\n",
       "            </tr>\n",
       "            <tr>\n",
       "                        <th id=\"T_4c9276ae_b818_11ed_82c7_acde48001122level0_row2\" class=\"row_heading level0 row2\" >externalIds</th>\n",
       "                        <td id=\"T_4c9276ae_b818_11ed_82c7_acde48001122row2_col0\" class=\"data row2 col0\" >[]</td>\n",
       "                        <td id=\"T_4c9276ae_b818_11ed_82c7_acde48001122row2_col1\" class=\"data row2 col1\" >[{'identifierService': {'code': 'SourceActorId', 'label': 'Source ActorId', 'ord': 7, 'urlTemplate': ''}, 'identifier': '4-3d636c0a83a4e1caeafe4f55598ec24a66958263a4fb81c14aa73f32ab816c6c'}]</td>\n",
       "            </tr>\n",
       "            <tr>\n",
       "                        <th id=\"T_4c9276ae_b818_11ed_82c7_acde48001122level0_row3\" class=\"row_heading level0 row3\" >affiliations</th>\n",
       "                        <td id=\"T_4c9276ae_b818_11ed_82c7_acde48001122row3_col0\" class=\"data row3 col0\" >[]</td>\n",
       "                        <td id=\"T_4c9276ae_b818_11ed_82c7_acde48001122row3_col1\" class=\"data row3 col1\" >[]</td>\n",
       "            </tr>\n",
       "            <tr>\n",
       "                        <th id=\"T_4c9276ae_b818_11ed_82c7_acde48001122level0_row4\" class=\"row_heading level0 row4\" >website</th>\n",
       "                        <td id=\"T_4c9276ae_b818_11ed_82c7_acde48001122row4_col0\" class=\"data row4 col0\" >nan</td>\n",
       "                        <td id=\"T_4c9276ae_b818_11ed_82c7_acde48001122row4_col1\" class=\"data row4 col1\" >nan</td>\n",
       "            </tr>\n",
       "    </tbody></table>"
      ],
      "text/plain": [
       "<pandas.io.formats.style.Styler at 0x7f84a0aedb80>"
      ]
     },
     "execution_count": 26,
     "metadata": {},
     "output_type": "execute_result"
    }
   ],
   "source": [
    "#view items\n",
    "showdiff = compareitems.T.style.apply(lambda x: [css_equal if ((len(utils.lists_to_list(x.values))==1) ) else css_diff for i in x],\n",
    "                    axis=1)\n",
    "showdiff"
   ]
  },
  {
   "cell_type": "markdown",
   "metadata": {},
   "source": [
    "because this comparison view won't always be enough to judge if actors should be merged, or differenciated in another way, this API call might help: \n",
    "GET /api/actors/{id}?items=true\n",
    "\n",
    "It will show the items an actor was/is attached to and provide useful information to differentiate potential homonyms. Ex for IDs [1687, 3238] : compare https://marketplace-api.sshopencloud.eu/api/actors/1687?items=true and https://marketplace-api.sshopencloud.eu/api/actors/3238?items=true     "
   ]
  },
  {
   "cell_type": "code",
   "execution_count": 27,
   "metadata": {},
   "outputs": [
    {
     "name": "stdout",
     "output_type": "stream",
     "text": [
      "Merging actor 1687 with actor(s) 3238...\n",
      "URL: https://marketplace-api.sshopencloud.eu/api/actors/1687/merge?with=3238\n",
      "...not executed, running in DEBUG mode.\n"
     ]
    },
    {
     "data": {
      "text/plain": [
       "''"
      ]
     },
     "execution_count": 27,
     "metadata": {},
     "output_type": "execute_result"
    }
   ],
   "source": [
    "mpdata.postMergedActors('1687', '3238')"
   ]
  },
  {
   "cell_type": "code",
   "execution_count": null,
   "metadata": {},
   "outputs": [],
   "source": []
  }
 ],
 "metadata": {
  "kernelspec": {
   "display_name": "Python 3",
   "language": "python",
   "name": "python3"
  },
  "language_info": {
   "codemirror_mode": {
    "name": "ipython",
    "version": 3
   },
   "file_extension": ".py",
   "mimetype": "text/x-python",
   "name": "python",
   "nbconvert_exporter": "python",
   "pygments_lexer": "ipython3",
   "version": "3.8.5"
  }
 },
 "nbformat": 4,
 "nbformat_minor": 5
}
