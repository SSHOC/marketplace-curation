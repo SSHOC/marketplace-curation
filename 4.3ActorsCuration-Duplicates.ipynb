{
 "cells": [
  {
   "cell_type": "markdown",
   "id": "8f2d3d46",
   "metadata": {},
   "source": [
    "# Notebook 4.3 - Actors curation: duplicates\n",
    "\n",
    "This notebook gather several checks that can be run together or independently of each other. The set of these checks helps moderators to curate Duplicated actors in the SSH Open Marketplace. \n",
    "\n",
    "This notebook is composed of 6 sections:\n",
    "\n",
    "0. Requirements to run this notebook\n",
    "1. Get actors \n",
    "2. Duplicated actors \n",
    "2.1 Get duplicates for actors\n",
    "    2.2 Compare duplicated actors\n",
    "    2.3 Merge duplicated actors\n"
   ]
  },
  {
   "cell_type": "markdown",
   "id": "fc003625",
   "metadata": {},
   "source": [
    "## 0 Requirements to run this notebook\n",
    "\n",
    "This section gives all the relevant information to \"interact\" with the MP data.\n",
    "\n",
    "### 0.1 libraries\n",
    "*There are a number of external libraries needed to run the notebook* \n",
    "\n",
    "*Furthermore, a dedicated SSH Open Marketplace library - sshmarketplacelib - with customised functions has been created and can be imported using the python import commands.* \n",
    "\n",
    "*Below the libraries import needed to run this notebook*"
   ]
  },
  {
   "cell_type": "code",
   "execution_count": null,
   "id": "5238cce1",
   "metadata": {},
   "outputs": [],
   "source": [
    "import pandas as pd #to manage dataframes\n",
    "#import matplotlib.pyplot as plt #to create histograms and images\n",
    "#import seaborn as sns #to create histograms and images\n",
    "import numpy as np #to manage json objects\n",
    "#import the MarketPlace Library \n",
    "from sshmarketplacelib import MPData as mpd\n",
    "from sshmarketplacelib import  eval as eva, helper as hel"
   ]
  },
  {
   "cell_type": "code",
   "execution_count": null,
   "id": "ee2b15cb",
   "metadata": {},
   "outputs": [],
   "source": [
    "mpdata = mpd()\n",
    "utils=hel.Util()\n",
    "check=eva.URLCheck()"
   ]
  },
  {
   "cell_type": "code",
   "execution_count": null,
   "id": "786dcab0",
   "metadata": {
    "scrolled": true
   },
   "outputs": [],
   "source": [
    "df_tool_flat =mpdata.getMPItems (\"toolsandservices\", True)\n",
    "df_publication_flat =mpdata.getMPItems (\"publications\", True)\n",
    "df_trainingmaterials_flat =mpdata.getMPItems (\"trainingmaterials\", True)\n",
    "df_workflows_flat =mpdata.getMPItems (\"workflows\", True)\n",
    "df_datasets_flat =mpdata.getMPItems (\"datasets\", True)"
   ]
  },
  {
   "cell_type": "markdown",
   "id": "f5f3d4b3",
   "metadata": {},
   "source": [
    "## 1. Get actors"
   ]
  },
  {
   "cell_type": "code",
   "execution_count": null,
   "id": "ba4453af",
   "metadata": {},
   "outputs": [],
   "source": [
    "df_actors_flat =mpdata.getMPItems (\"actors\", False)"
   ]
  },
  {
   "cell_type": "code",
   "execution_count": null,
   "id": "5fd4107c",
   "metadata": {},
   "outputs": [],
   "source": [
    "df_actors_flat.tail()"
   ]
  },
  {
   "cell_type": "markdown",
   "id": "cd987e87",
   "metadata": {},
   "source": [
    "## 2. Duplicated actors\n",
    "    2.1 Get duplicates for actors using *actor.name* and *actor.website* as filters\n",
    "    2.2 Compare duplicated actors (optional)\n",
    "    2.4 Merge duplicated actors"
   ]
  },
  {
   "cell_type": "markdown",
   "id": "8ab0b31c",
   "metadata": {},
   "source": [
    "### 2.1 Get duplicates for actors using *actor.name* and *actor.website* as filter"
   ]
  },
  {
   "cell_type": "code",
   "execution_count": null,
   "id": "f1e55157",
   "metadata": {},
   "outputs": [],
   "source": [
    "utils=hel.Util()\n",
    "filter_attribute=['name', 'website']\n",
    "df_actor_duplicates=df_actors_flat[df_actors_flat.duplicated(subset=filter_attribute, keep=False)]\n",
    "dupl_actor_website=df_actor_duplicates[df_actor_duplicates['website'].notnull()].sort_values('name')"
   ]
  },
  {
   "cell_type": "code",
   "execution_count": null,
   "id": "51aae339",
   "metadata": {},
   "outputs": [],
   "source": [
    "print (f'Using the attributes \"{filter_attribute}\" as filter, there are: {dupl_actor_website.shape[0]} duplicated actors')"
   ]
  },
  {
   "cell_type": "code",
   "execution_count": null,
   "id": "c6e537ce",
   "metadata": {},
   "outputs": [],
   "source": [
    "actorwebsite_tomerge=dupl_actor_website.groupby(['name','website'])['id'].apply(list).reset_index(name='idstobemerged')"
   ]
  },
  {
   "cell_type": "code",
   "execution_count": null,
   "id": "358c7c13",
   "metadata": {},
   "outputs": [],
   "source": [
    "actorwebsite_tomerge.count()"
   ]
  },
  {
   "cell_type": "code",
   "execution_count": null,
   "id": "54e8ab22",
   "metadata": {},
   "outputs": [],
   "source": [
    "#The number of actors with more than one duplicate\n",
    "actorwebsite_tomerge[actorwebsite_tomerge.idstobemerged.map(len)>2].count()"
   ]
  },
  {
   "cell_type": "markdown",
   "id": "0327e82b",
   "metadata": {},
   "source": [
    "#### _Individuating actors with the exact same name that were never attached to any items, they could be merged without individual investigation._"
   ]
  },
  {
   "cell_type": "code",
   "execution_count": null,
   "id": "73c259a5",
   "metadata": {},
   "outputs": [],
   "source": [
    "df_actors_empty_items=pd.DataFrame()\n",
    "for item in actorwebsite_tomerge.itertuples():\n",
    "    allEmpty=True;\n",
    "    for actorid in item.idstobemerged:\n",
    "        actitems=mpdata.getItemsforActor(str(actorid))\n",
    "        allEmpty=allEmpty & actitems.empty\n",
    "        if(not allEmpty):\n",
    "            break\n",
    "    if (allEmpty):\n",
    "        entry = actorwebsite_tomerge.loc[actorwebsite_tomerge['name'] == item.name]\n",
    "        df_actors_empty_items=pd.concat([df_actors_empty_items, entry])"
   ]
  },
  {
   "cell_type": "code",
   "execution_count": null,
   "id": "842d9bbd",
   "metadata": {},
   "outputs": [],
   "source": [
    "df_actors_empty_items.head()"
   ]
  },
  {
   "cell_type": "markdown",
   "id": "effaff05",
   "metadata": {},
   "source": [
    "#### _Different actors with the exact same name that were never attached to the same items => comparison step and further investigation needed before deciding if merging or not._"
   ]
  },
  {
   "cell_type": "code",
   "execution_count": null,
   "id": "8312c7b6",
   "metadata": {},
   "outputs": [],
   "source": [
    "df_actors_with_different_items=pd.DataFrame()\n",
    "for item in actorwebsite_tomerge.itertuples():  \n",
    "    if (len (item.idstobemerged)<2):\n",
    "        continue\n",
    "    tempdf_sn=mpdata.getItemsforActor(str(item.idstobemerged[0])).drop_duplicates('persistentId', keep='first')\n",
    "    for actorid in item.idstobemerged[1:]:\n",
    "        actitems=mpdata.getItemsforActor(str(actorid)).drop_duplicates('persistentId', keep='first')\n",
    "        entry = actorwebsite_tomerge.loc[actorwebsite_tomerge['name'] == item.name]\n",
    "        if ((tempdf_sn.empty & (not actitems.empty)) | (not (tempdf_sn.empty) & actitems.empty)):\n",
    "            df_actors_with_different_items=pd.concat([df_actors_with_different_items, entry])\n",
    "            break \n",
    "        if ((not actitems.empty)):\n",
    "            tre=(actitems['persistentId'].isin(tempdf_sn['persistentId'])).value_counts()\n",
    "            tre_r= (tempdf_sn['persistentId'].isin(actitems['persistentId'])).value_counts()\n",
    "                 \n",
    "            if ((False in tre.to_dict()) | (False in tre_r.to_dict())):\n",
    "                df_actors_with_different_items=pd.concat([df_actors_with_different_items, entry])\n",
    "                break\n"
   ]
  },
  {
   "cell_type": "code",
   "execution_count": null,
   "id": "5ffd4e12",
   "metadata": {},
   "outputs": [],
   "source": [
    "df_actors_with_different_items.count()"
   ]
  },
  {
   "cell_type": "markdown",
   "id": "3ce4017e",
   "metadata": {},
   "source": [
    "#### _Individuating actors with the exact same name that were attacheed to same items, they could be merged without individual investigation._"
   ]
  },
  {
   "cell_type": "code",
   "execution_count": null,
   "id": "c3f400e7",
   "metadata": {},
   "outputs": [],
   "source": [
    "if (not df_actors_empty_items.empty):\n",
    "    dfni=pd.merge(actorwebsite_tomerge,df_actors_empty_items,on=['name', 'website'], how=\"outer\",indicator=True)\n",
    "    dfni=dfni[dfni['_merge']=='left_only']\n",
    "    dfni.rename(columns = {'idstobemerged_x': 'idstobemerged'}, inplace=True)\n",
    "else:\n",
    "    dfni=actorwebsite_tomerge\n",
    "\n",
    "df_actors_with_same_items=pd.DataFrame()\n",
    "if (not df_actors_with_different_items.empty):\n",
    "    df_actors_with_same_items=pd.merge(dfni[['name','website','idstobemerged']],df_actors_with_different_items,on=['name', 'website'], how=\"outer\",indicator=True)\n",
    "    df_actors_with_same_items=df_actors_with_same_items[df_actors_with_same_items['_merge']=='left_only']\n",
    "    df_actors_with_same_items=df_actors_with_same_items[['name', 'website','idstobemerged_x']]\n",
    "    df_actors_with_same_items.rename(columns = {'idstobemerged_x': 'idstobemerged'}, inplace=True)\n",
    "    df_actors_with_same_items=df_actors_with_same_items[['name', 'website', 'idstobemerged']]\n",
    "else:\n",
    "    df_actors_with_same_items=actorwebsite_tomerge\n",
    "df_actors_with_same_items.head()\n",
    "#df_actors_with_same_items[['name','website']].isin(df_actors_empty_items[['name','website']]).value_counts()"
   ]
  },
  {
   "cell_type": "code",
   "execution_count": null,
   "id": "736544b3",
   "metadata": {},
   "outputs": [],
   "source": [
    "df_actors_with_same_items.head()"
   ]
  },
  {
   "cell_type": "markdown",
   "id": "0138c5c8",
   "metadata": {},
   "source": [
    "### 2.2 Compare duplicated actors"
   ]
  },
  {
   "cell_type": "code",
   "execution_count": null,
   "id": "f17ac21d",
   "metadata": {},
   "outputs": [],
   "source": [
    "#id of duplicated actors\n",
    "ids=[252344, 1828]\n",
    "compareitems=df_actor_duplicates[df_actor_duplicates.id.isin(ids)]"
   ]
  },
  {
   "cell_type": "code",
   "execution_count": null,
   "id": "a50c96c3",
   "metadata": {},
   "outputs": [],
   "source": [
    "compareitems"
   ]
  },
  {
   "cell_type": "code",
   "execution_count": null,
   "id": "a7ce3cc0",
   "metadata": {},
   "outputs": [],
   "source": [
    "css_equal=\"font-size:1.5rem; border: 2px solid silver;background-color: white; padding: 10px 20px\"\n",
    "css_diff=\"background-color: lightyellow;  font-size:1.5rem; border: 2px solid silver; padding: 10px 20px\""
   ]
  },
  {
   "cell_type": "code",
   "execution_count": null,
   "id": "49c40bec",
   "metadata": {},
   "outputs": [],
   "source": [
    "#view items\n",
    "showdiff = compareitems.T.style.apply(lambda x: [css_equal if ((len(utils.lists_to_list(x.values))==1) ) else css_diff for i in x],\n",
    "                    axis=1)\n",
    "showdiff"
   ]
  },
  {
   "cell_type": "markdown",
   "id": "767d01d4",
   "metadata": {},
   "source": [
    "### 2.3 Merge items\n",
    "\n",
    "The code above has generated three different dataframes:\n",
    "\n",
    "<ol>\n",
    "    <li>The dataframe <i>df_actors_with_same_items</i> that contains the duplicated actors that were attached to same items</li>\n",
    "    <li>The dataframe <i>df_actors_empty_items</i> that contains the duplicated actors that were *never attached to any item*</li>\n",
    "    <li> The dataframe <i>df_actors_with_different_items</i> that contains the duplicated actors that were never attached to the same itemsm, <b>the actors in this dataframe should be manually merged!</b></li>\n",
    "</ol>\n",
    "The function <i>postMergedActors </i> uses the API entry: <i>(POST) /api/actors/{id}/merge</i> to automatically merge the actors contained in dataframes 1 or 2."
   ]
  },
  {
   "cell_type": "code",
   "execution_count": null,
   "id": "3e40a049",
   "metadata": {},
   "outputs": [],
   "source": [
    "for item in df_actors_with_same_items.itertuples():\n",
    "    print(item.idstobemerged[0], \", \".join(str (e) for e in item.idstobemerged[1:]))\n",
    "    mpdata.postMergedActors(str(item.idstobemerged[0]), \", \".join(str (e) for e in item.idstobemerged[1:]))"
   ]
  },
  {
   "cell_type": "code",
   "execution_count": null,
   "id": "832eb900",
   "metadata": {},
   "outputs": [],
   "source": []
  }
 ],
 "metadata": {
  "kernelspec": {
   "display_name": "Python 3 (ipykernel)",
   "language": "python",
   "name": "python3"
  },
  "language_info": {
   "codemirror_mode": {
    "name": "ipython",
    "version": 3
   },
   "file_extension": ".py",
   "mimetype": "text/x-python",
   "name": "python",
   "nbconvert_exporter": "python",
   "pygments_lexer": "ipython3",
   "version": "3.11.1"
  }
 },
 "nbformat": 4,
 "nbformat_minor": 5
}
