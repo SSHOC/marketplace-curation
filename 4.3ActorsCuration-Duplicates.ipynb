{
 "cells": [
  {
   "cell_type": "markdown",
   "id": "8f2d3d46",
   "metadata": {},
   "source": [
    "# Notebook 4.3 - Actors curation: duplicates\n",
    "\n",
    "This notebook gather several checks that can be run together or independently of each other. The set of these checks helps moderators to curate Duplicated actors in the SSH Open Marketplace. \n",
    "\n",
    "This notebook is composed of 6 sections:\n",
    "\n",
    "0. Requirements to run this notebook\n",
    "1. Get actors \n",
    "2. Duplicated actors \n",
    "2.1 Get duplicates for actors\n",
    "    2.2 Compare duplicated actors\n",
    "    2.3 Merge duplicated actors\n"
   ]
  },
  {
   "cell_type": "markdown",
   "id": "fc003625",
   "metadata": {},
   "source": [
    "## 0 Requirements to run this notebook\n",
    "\n",
    "This section gives all the relevant information to \"interact\" with the MP data.\n",
    "\n",
    "### 0.1 libraries\n",
    "*There are a number of external libraries needed to run the notebook* \n",
    "\n",
    "*Furthermore, a dedicated SSH Open Marketplace library - sshmarketplacelib - with customised functions has been created and can be imported using the python import commands.* \n",
    "\n",
    "*Below the libraries import needed to run this notebook*"
   ]
  },
  {
   "cell_type": "code",
   "execution_count": null,
   "id": "5238cce1",
   "metadata": {},
   "outputs": [],
   "source": [
    "import pandas as pd #to manage dataframes\n",
    "#import matplotlib.pyplot as plt #to create histograms and images\n",
    "#import seaborn as sns #to create histograms and images\n",
    "import numpy as np #to manage json objects\n",
    "#import the MarketPlace Library \n",
    "from sshmarketplacelib import MPData as mpd\n",
    "from sshmarketplacelib import  eval as eva, helper as hel"
   ]
  },
  {
   "cell_type": "code",
   "execution_count": null,
   "id": "ee2b15cb",
   "metadata": {},
   "outputs": [],
   "source": [
    "mpdata = mpd()\n",
    "utils=hel.Util()\n",
    "check=eva.URLCheck()"
   ]
  },
  {
   "cell_type": "code",
   "execution_count": null,
   "id": "786dcab0",
   "metadata": {
    "scrolled": true
   },
   "outputs": [],
   "source": [
    "df_tool_flat =mpdata.getMPItems (\"toolsandservices\", True)\n",
    "df_publication_flat =mpdata.getMPItems (\"publications\", True)\n",
    "df_trainingmaterials_flat =mpdata.getMPItems (\"trainingmaterials\", True)\n",
    "df_workflows_flat =mpdata.getMPItems (\"workflows\", True)\n",
    "df_datasets_flat =mpdata.getMPItems (\"datasets\", True)"
   ]
  },
  {
   "cell_type": "markdown",
   "id": "f5f3d4b3",
   "metadata": {},
   "source": [
    "## 1. Get actors"
   ]
  },
  {
   "cell_type": "code",
   "execution_count": null,
   "id": "ba4453af",
   "metadata": {},
   "outputs": [],
   "source": [
    "df_actors_flat =mpdata.getMPItems (\"actors\", True)"
   ]
  },
  {
   "cell_type": "code",
   "execution_count": null,
   "id": "5fd4107c",
   "metadata": {},
   "outputs": [],
   "source": [
    "df_actors_flat.tail()"
   ]
  },
  {
   "cell_type": "markdown",
   "id": "cd987e87",
   "metadata": {},
   "source": [
    "## 2. Duplicated actors\n",
    "    2.1 Get duplicates for actors using *actor.name* and *actor.website* as filters\n",
    "    2.2 Compare duplicated actors (optional)\n",
    "    2.4 Merge duplicated actors"
   ]
  },
  {
   "cell_type": "markdown",
   "id": "8ab0b31c",
   "metadata": {},
   "source": [
    "### 2.1 Get duplicates for actors using *actor.name* and *actor.website* as filter"
   ]
  },
  {
   "cell_type": "code",
   "execution_count": null,
   "id": "f1e55157",
   "metadata": {},
   "outputs": [],
   "source": [
    "utils=hel.Util()\n",
    "filter_attribute='name, website'\n",
    "df_actor_duplicates=utils.getDuplicates(df_actors_flat, filter_attribute)\n",
    "dupl_actor_website=df_actor_duplicates[df_actor_duplicates['website'].notnull()].sort_values('name')"
   ]
  },
  {
   "cell_type": "code",
   "execution_count": null,
   "id": "51aae339",
   "metadata": {},
   "outputs": [],
   "source": [
    "print (f'Using the attributes \"{filter_attribute}\" as filter, there are: {dupl_actor_website.shape[0]} duplicated actors')"
   ]
  },
  {
   "cell_type": "code",
   "execution_count": null,
   "id": "c6e537ce",
   "metadata": {},
   "outputs": [],
   "source": [
    "actorwebsite_tomerge=dupl_actor_website.groupby(['name','website'])['id'].apply(list).reset_index(name='idstobemerged')"
   ]
  },
  {
   "cell_type": "code",
   "execution_count": null,
   "id": "358c7c13",
   "metadata": {},
   "outputs": [],
   "source": [
    "actorwebsite_tomerge.count()"
   ]
  },
  {
   "cell_type": "code",
   "execution_count": null,
   "id": "54e8ab22",
   "metadata": {},
   "outputs": [],
   "source": [
    "#The number of actors with more than one duplicate\n",
    "actorwebsite_tomerge[actorwebsite_tomerge.idstobemerged.map(len)>2].count()"
   ]
  },
  {
   "cell_type": "markdown",
   "id": "30188b37",
   "metadata": {},
   "source": [
    "#### _Individuating actors with the exact same name that were never attached to any items, they could be merged without individual investigation. Example: 1665 and 3210_"
   ]
  },
  {
   "cell_type": "code",
   "execution_count": null,
   "id": "8d5c97a3",
   "metadata": {},
   "outputs": [],
   "source": [
    "df_actors_empty_items=pd.DataFrame()\n",
    "for item in actorwebsite_tomerge.itertuples():\n",
    "    #print(item.idstobemerged)\n",
    "    allEmpty=True;\n",
    "    for actorid in item.idstobemerged:\n",
    "        actitems=mpdata.getItemsforActor(str(actorid))\n",
    "        allEmpty=allEmpty & actitems.empty\n",
    "    if (allEmpty):\n",
    "        #print (f'No attached item(s) for: {item.name}, ids to be merged: {item.idstobemerged}')\n",
    "        entry = actorwebsite_tomerge.loc[actorwebsite_tomerge['name'] == item.name]\n",
    "        df_actors_empty_items=pd.concat([df_actors_empty_items, entry])"
   ]
  },
  {
   "cell_type": "code",
   "execution_count": null,
   "id": "abf79279",
   "metadata": {},
   "outputs": [],
   "source": [
    "df_actors_empty_items.count()"
   ]
  },
  {
   "cell_type": "code",
   "execution_count": null,
   "id": "268af4a7",
   "metadata": {},
   "outputs": [],
   "source": [
    "dfr=pd.merge(actorwebsite_tomerge,df_actors_empty_items,on=['name', 'website'], how=\"outer\",indicator=True)\n",
    "dfr=dfr[dfr['_merge']=='left_only']\n",
    "dfr.rename(columns = {'idstobemerged_x': 'idstobemerged'}, inplace=True)\n",
    "dfr[['name', 'website', 'idstobemerged']].head()"
   ]
  },
  {
   "cell_type": "markdown",
   "id": "584680f1",
   "metadata": {},
   "source": [
    "#### _Different actors with the exact same name that were never attached to the same items => comparison step and further investigation needed before deciding if merging or not._"
   ]
  },
  {
   "cell_type": "code",
   "execution_count": null,
   "id": "39555620",
   "metadata": {},
   "outputs": [],
   "source": [
    "df_actors_with_different_items=pd.DataFrame()\n",
    "for item in actorwebsite_tomerge.itertuples():  \n",
    "    if (len (item.idstobemerged)<2):\n",
    "        continue\n",
    "    tempdf_sn=mpdata.getItemsforActor(str(item.idstobemerged[0])).drop_duplicates('persistentId', keep='first')\n",
    "    for actorid in item.idstobemerged[1:]:\n",
    "        actitems=mpdata.getItemsforActor(str(actorid)).drop_duplicates('persistentId', keep='first')\n",
    "        entry = actorwebsite_tomerge.loc[actorwebsite_tomerge['name'] == item.name]\n",
    "        if (tempdf_sn.empty & (not actitems.empty)):\n",
    "            df_actors_with_different_items=pd.concat([df_actors_with_different_items, entry])\n",
    "            break \n",
    "        if ((not actitems.empty)):\n",
    "            tre=actitems['persistentId'].isin(tempdf_sn['persistentId']).value_counts()\n",
    "            if (False in tre.to_dict()):\n",
    "                df_actors_with_different_items=pd.concat([df_actors_with_different_items, entry])\n",
    "                break\n"
   ]
  },
  {
   "cell_type": "code",
   "execution_count": null,
   "id": "314e6d04",
   "metadata": {},
   "outputs": [],
   "source": [
    "df_actors_with_different_items.head()"
   ]
  },
  {
   "cell_type": "markdown",
   "id": "d5748bef",
   "metadata": {},
   "source": [
    "#### _Individuating actors with the exact same name that were never attached to any items, they could be merged without individual investigation. Example: 1665 and 3210_"
   ]
  },
  {
   "cell_type": "code",
   "execution_count": null,
   "id": "1d1d87cb",
   "metadata": {},
   "outputs": [],
   "source": [
    "dfni=pd.merge(actorwebsite_tomerge,df_actors_empty_items,on=['name', 'website'], how=\"outer\",indicator=True)\n",
    "dfni=dfni[dfni['_merge']=='left_only']\n",
    "\n",
    "df_actors_with_same_items=pd.DataFrame()\n",
    "\n",
    "df_actors_with_same_items=pd.merge(dfni[['name','website','idstobemerged_x']],df_actors_with_different_items,on=['name', 'website'], how=\"outer\",indicator=True)\n",
    "df_actors_with_same_items=df_actors_with_same_items[df_actors_with_same_items['_merge']=='left_only']\n",
    "df_actors_with_same_items=df_actors_with_same_items[['name', 'website','idstobemerged_x']]\n",
    "df_actors_with_same_items.rename(columns = {'idstobemerged_x': 'idstobemerged'}, inplace=True)\n",
    "\n",
    "df_actors_with_same_items=df_actors_with_same_items[['name', 'website', 'idstobemerged']]\n",
    "df_actors_with_same_items.head()\n",
    "#df_actors_with_same_items[['name','website']].isin(df_actors_empty_items[['name','website']]).value_counts()"
   ]
  },
  {
   "cell_type": "markdown",
   "id": "0138c5c8",
   "metadata": {},
   "source": [
    "### 2.2 Compare duplicated actors"
   ]
  },
  {
   "cell_type": "code",
   "execution_count": null,
   "id": "f17ac21d",
   "metadata": {},
   "outputs": [],
   "source": [
    "#id of duplicated actors\n",
    "ids=[1665, 3210]\n",
    "compareitems=df_actor_duplicates[df_actor_duplicates.id.isin(ids)]"
   ]
  },
  {
   "cell_type": "code",
   "execution_count": null,
   "id": "f406c124",
   "metadata": {},
   "outputs": [],
   "source": [
    "compareitems"
   ]
  },
  {
   "cell_type": "code",
   "execution_count": null,
   "id": "a7ce3cc0",
   "metadata": {},
   "outputs": [],
   "source": [
    "css_equal=\"font-size:1.5rem; border: 2px solid silver;background-color: white; padding: 10px 20px\"\n",
    "css_diff=\"background-color: lightyellow;  font-size:1.5rem; border: 2px solid silver; padding: 10px 20px\""
   ]
  },
  {
   "cell_type": "code",
   "execution_count": null,
   "id": "49c40bec",
   "metadata": {},
   "outputs": [],
   "source": [
    "#view items\n",
    "showdiff = compareitems.T.style.apply(lambda x: [css_equal if ((len(utils.lists_to_list(x.values))==1) ) else css_diff for i in x],\n",
    "                    axis=1)\n",
    "showdiff"
   ]
  },
  {
   "cell_type": "markdown",
   "id": "767d01d4",
   "metadata": {},
   "source": [
    "### 2.3 Merge items\n",
    "\n",
    "POST /api/actors/{id}/merge\n"
   ]
  },
  {
   "cell_type": "code",
   "execution_count": null,
   "id": "3e40a049",
   "metadata": {},
   "outputs": [],
   "source": [
    "#mpdata.postMergedActors('2505', '2266')\n",
    "for item in actorwebsite_tomerge.itertuples():\n",
    "    print(item.idstobemerged[0], item.idstobemerged[1])\n",
    "    mpdata.postMergedActors(str(item.idstobemerged[0]), str(item.idstobemerged[1:]))"
   ]
  },
  {
   "cell_type": "code",
   "execution_count": null,
   "id": "832eb900",
   "metadata": {},
   "outputs": [],
   "source": []
  }
 ],
 "metadata": {
  "kernelspec": {
   "display_name": "Python 3 (ipykernel)",
   "language": "python",
   "name": "python3"
  },
  "language_info": {
   "codemirror_mode": {
    "name": "ipython",
    "version": 3
   },
   "file_extension": ".py",
   "mimetype": "text/x-python",
   "name": "python",
   "nbconvert_exporter": "python",
   "pygments_lexer": "ipython3",
   "version": "3.11.1"
  }
 },
 "nbformat": 4,
 "nbformat_minor": 5
}
