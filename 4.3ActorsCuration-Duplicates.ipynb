{
 "cells": [
  {
   "cell_type": "markdown",
   "id": "8f2d3d46",
   "metadata": {},
   "source": [
    "# Notebook 4.3 - Actors curation: duplicates\n",
    "\n",
    "This notebook gather several checks that can be run together or independently of each other. The set of these checks helps moderators to curate Duplicated actors in the SSH Open Marketplace. \n",
    "\n",
    "This notebook is composed of 6 sections:\n",
    "\n",
    "0. Requirements to run this notebook\n",
    "1. Get actors \n",
    "2. Duplicated actors\n",
    "\n",
    "    2.1 Find duplicates for actors with same name and same website \n",
    "    \n",
    "    2.2 Compare duplicated actors with same name and same website \n",
    "    \n",
    "    2.3 Merge duplicated actors with same name and same website \n",
    "    \n",
    "    2.4 Reload the Actors\n",
    "    \n",
    "    2.5 Find duplicates for actors with same name \n",
    "    \n",
    "    2.6 Merge duplicated actors with same name \n"
   ]
  },
  {
   "cell_type": "markdown",
   "id": "fc003625",
   "metadata": {},
   "source": [
    "## 0 Requirements to run this notebook\n",
    "\n",
    "This section gives all the relevant information to \"interact\" with the MP data.\n",
    "\n",
    "### 0.1 libraries\n",
    "*There are a number of external libraries needed to run the notebook* \n",
    "\n",
    "*Furthermore, a dedicated SSH Open Marketplace library - sshmarketplacelib - with customised functions has been created and can be imported using the python import commands.* \n",
    "\n",
    "*Below the libraries import needed to run this notebook*"
   ]
  },
  {
   "cell_type": "code",
   "execution_count": 1,
   "id": "5238cce1",
   "metadata": {},
   "outputs": [],
   "source": [
    "import pandas as pd #to manage dataframes\n",
    "#import matplotlib.pyplot as plt #to create histograms and images\n",
    "#import seaborn as sns #to create histograms and images\n",
    "import numpy as np #to manage json objects\n",
    "#import the MarketPlace Library \n",
    "from sshmarketplacelib import MPData as mpd\n",
    "from sshmarketplacelib import  eval as eva, helper as hel"
   ]
  },
  {
   "cell_type": "code",
   "execution_count": 2,
   "id": "ee2b15cb",
   "metadata": {},
   "outputs": [],
   "source": [
    "mpdata = mpd()\n",
    "utils=hel.Util()\n",
    "check=eva.URLCheck()"
   ]
  },
  {
   "cell_type": "markdown",
   "id": "8736185f",
   "metadata": {},
   "source": [
    "### 0.2 Utility functions"
   ]
  },
  {
   "cell_type": "code",
   "execution_count": 3,
   "id": "a8858857",
   "metadata": {},
   "outputs": [],
   "source": [
    "def getDuplicateActorsWithEmptyItems(actors):\n",
    "    df_actors_ei=pd.DataFrame()\n",
    "    for item in actors.itertuples():\n",
    "        allEmpty=True;\n",
    "        for actorid in item.idstobemerged:\n",
    "            actitems=mpdata.getItemsforActor(str(actorid))\n",
    "            allEmpty=allEmpty & actitems.empty\n",
    "            if(not allEmpty):\n",
    "                break\n",
    "        if (allEmpty):\n",
    "            entry = actors.loc[actors['name'] == item.name]\n",
    "            df_actors_ei=pd.concat([df_actors_ei, entry])\n",
    "    return df_actors_ei"
   ]
  },
  {
   "cell_type": "code",
   "execution_count": 4,
   "id": "215c3a30",
   "metadata": {},
   "outputs": [],
   "source": [
    "def getDuplicateActorsWithDifferentItems(actors):\n",
    "    df_results=pd.DataFrame()\n",
    "    for item in actors.itertuples():  \n",
    "        if (len (item.idstobemerged)<2):\n",
    "            continue\n",
    "        \n",
    "        tempdf_sn=mpdata.getItemsforActor(str(item.idstobemerged[0])).drop_duplicates('persistentId', keep='first')\n",
    "        for actorid in item.idstobemerged[1:]:\n",
    "            #print (actorid)\n",
    "            actitems=mpdata.getItemsforActor(str(actorid)).drop_duplicates('persistentId', keep='first')\n",
    "            entry = actors.loc[actors['name'] == item.name]\n",
    "            if ((tempdf_sn.empty & (not actitems.empty)) | ((not tempdf_sn.empty) & actitems.empty)):\n",
    "                df_results=pd.concat([df_results, entry])\n",
    "                break \n",
    "            if ((not actitems.empty)):\n",
    "                tre=(actitems['persistentId'].isin(tempdf_sn['persistentId'])).value_counts()\n",
    "                tre_r= (tempdf_sn['persistentId'].isin(actitems['persistentId'])).value_counts()  \n",
    "                \n",
    "                if ((False in tre.to_dict()) & (False in tre_r.to_dict())):\n",
    "                    #print (f'{item.idstobemerged[0]}, {actorid}')\n",
    "                   \n",
    "                    df_results=pd.concat([df_results, entry])\n",
    "                    break\n",
    "    return df_results\n"
   ]
  },
  {
   "cell_type": "code",
   "execution_count": 5,
   "id": "9db5d883",
   "metadata": {},
   "outputs": [],
   "source": [
    "import functools as ft\n",
    "def getDuplicateActorsWithSameItems(dfs):\n",
    "    df_actors_si=pd.DataFrame()\n",
    "    act_dfs=[x for x in dfs if not x.empty]\n",
    "    if (len(act_dfs)<1):\n",
    "        return df_actors_si\n",
    "    if (len(act_dfs)==1):\n",
    "        return dfs[2]\n",
    "    df_temp=ft.reduce(lambda left, right: pd.merge(left, right, on=['name'], how=\"outer\"), act_dfs)\n",
    "    if (len(act_dfs)==3):\n",
    "        return df_temp.loc[(df_temp[['idstobemerged_x', 'idstobemerged_y']].isnull().all(1)) & (df_temp['idstobemerged'].notnull())][['name', 'idstobemerged']]\n",
    "    if (len(act_dfs)==2):\n",
    "        testr=df_temp.loc[(df_temp['idstobemerged_x'].isnull()) & \n",
    "                         (df_temp['idstobemerged_y'].notnull())][['name', 'idstobemerged_y']]\n",
    "        testr.rename(columns = {'idstobemerged_y':'idstobemerged'}, inplace=True)\n",
    "        return testr\n",
    "    "
   ]
  },
  {
   "cell_type": "markdown",
   "id": "f5f3d4b3",
   "metadata": {},
   "source": [
    "## 1. Get actors"
   ]
  },
  {
   "cell_type": "code",
   "execution_count": 6,
   "id": "ba4453af",
   "metadata": {},
   "outputs": [],
   "source": [
    "df_actors_flat =mpdata.getMPItems (\"actors\", False)"
   ]
  },
  {
   "cell_type": "code",
   "execution_count": 7,
   "id": "5fd4107c",
   "metadata": {},
   "outputs": [
    {
     "data": {
      "text/html": [
       "<div>\n",
       "<style scoped>\n",
       "    .dataframe tbody tr th:only-of-type {\n",
       "        vertical-align: middle;\n",
       "    }\n",
       "\n",
       "    .dataframe tbody tr th {\n",
       "        vertical-align: top;\n",
       "    }\n",
       "\n",
       "    .dataframe thead th {\n",
       "        text-align: right;\n",
       "    }\n",
       "</style>\n",
       "<table border=\"1\" class=\"dataframe\">\n",
       "  <thead>\n",
       "    <tr style=\"text-align: right;\">\n",
       "      <th></th>\n",
       "      <th>id</th>\n",
       "      <th>name</th>\n",
       "      <th>externalIds</th>\n",
       "      <th>affiliations</th>\n",
       "      <th>website</th>\n",
       "    </tr>\n",
       "  </thead>\n",
       "  <tbody>\n",
       "    <tr>\n",
       "      <th>7594</th>\n",
       "      <td>1221</td>\n",
       "      <td>Zoltan Komives</td>\n",
       "      <td>[]</td>\n",
       "      <td>[]</td>\n",
       "      <td>NaN</td>\n",
       "    </tr>\n",
       "    <tr>\n",
       "      <th>7595</th>\n",
       "      <td>8062</td>\n",
       "      <td>Zong Peng</td>\n",
       "      <td>[{'identifierService': {'code': 'DBLP', 'label...</td>\n",
       "      <td>[]</td>\n",
       "      <td>NaN</td>\n",
       "    </tr>\n",
       "    <tr>\n",
       "      <th>7596</th>\n",
       "      <td>218</td>\n",
       "      <td>Zoomify Inc.</td>\n",
       "      <td>[{'identifierService': {'code': 'SourceActorId...</td>\n",
       "      <td>[]</td>\n",
       "      <td>NaN</td>\n",
       "    </tr>\n",
       "    <tr>\n",
       "      <th>7597</th>\n",
       "      <td>1590</td>\n",
       "      <td>Zoppi Angela</td>\n",
       "      <td>[]</td>\n",
       "      <td>[]</td>\n",
       "      <td>NaN</td>\n",
       "    </tr>\n",
       "    <tr>\n",
       "      <th>7598</th>\n",
       "      <td>7819</td>\n",
       "      <td>Zsófia Fellegi</td>\n",
       "      <td>[{'identifierService': {'code': 'DBLP', 'label...</td>\n",
       "      <td>[]</td>\n",
       "      <td>NaN</td>\n",
       "    </tr>\n",
       "  </tbody>\n",
       "</table>\n",
       "</div>"
      ],
      "text/plain": [
       "        id            name                                        externalIds  \\\n",
       "7594  1221  Zoltan Komives                                                 []   \n",
       "7595  8062       Zong Peng  [{'identifierService': {'code': 'DBLP', 'label...   \n",
       "7596   218    Zoomify Inc.  [{'identifierService': {'code': 'SourceActorId...   \n",
       "7597  1590    Zoppi Angela                                                 []   \n",
       "7598  7819  Zsófia Fellegi  [{'identifierService': {'code': 'DBLP', 'label...   \n",
       "\n",
       "     affiliations website  \n",
       "7594           []     NaN  \n",
       "7595           []     NaN  \n",
       "7596           []     NaN  \n",
       "7597           []     NaN  \n",
       "7598           []     NaN  "
      ]
     },
     "execution_count": 7,
     "metadata": {},
     "output_type": "execute_result"
    }
   ],
   "source": [
    "df_actors_flat.tail()"
   ]
  },
  {
   "cell_type": "markdown",
   "id": "cd987e87",
   "metadata": {},
   "source": [
    "## 2. Duplicated actors\n",
    "    2.1 Get duplicates for actors using *actor.name* and *actor.website* as filters\n",
    "    2.2 Compare duplicated actors (optional)\n",
    "    2.4 Merge duplicated actors"
   ]
  },
  {
   "cell_type": "markdown",
   "id": "8ab0b31c",
   "metadata": {},
   "source": [
    "### 2.1 Get duplicates for actors using *actor.name* and *actor.website* as filter"
   ]
  },
  {
   "cell_type": "code",
   "execution_count": 8,
   "id": "f1e55157",
   "metadata": {},
   "outputs": [],
   "source": [
    "utils=hel.Util()\n",
    "filter_attribute=['name', 'website']\n",
    "df_actor_duplicates=df_actors_flat[df_actors_flat.duplicated(subset=filter_attribute, keep=False)]\n",
    "dupl_actor_website=df_actor_duplicates[df_actor_duplicates['website'].notnull()].sort_values('name')"
   ]
  },
  {
   "cell_type": "code",
   "execution_count": 9,
   "id": "51aae339",
   "metadata": {},
   "outputs": [
    {
     "name": "stdout",
     "output_type": "stream",
     "text": [
      "Using the attributes \"['name', 'website']\" as filter, there are: 0 duplicated actors\n"
     ]
    }
   ],
   "source": [
    "print (f'Using the attributes \"{filter_attribute}\" as filter, there are: {dupl_actor_website.shape[0]} duplicated actors')"
   ]
  },
  {
   "cell_type": "code",
   "execution_count": 10,
   "id": "c6e537ce",
   "metadata": {},
   "outputs": [
    {
     "name": "stderr",
     "output_type": "stream",
     "text": [
      "/var/folders/x6/4rl3xlp91ll551m6vbkh32xm0000gn/T/ipykernel_13939/1046849184.py:1: FutureWarning: Not prepending group keys to the result index of transform-like apply. In the future, the group keys will be included in the index, regardless of whether the applied function returns a like-indexed object.\n",
      "To preserve the previous behavior, use\n",
      "\n",
      "\t>>> .groupby(..., group_keys=False)\n",
      "\n",
      "To adopt the future behavior and silence this warning, use \n",
      "\n",
      "\t>>> .groupby(..., group_keys=True)\n",
      "  actorwebsite_tomerge=dupl_actor_website.groupby(['name','website'])['id'].apply(list).reset_index(name='idstobemerged')\n"
     ]
    }
   ],
   "source": [
    "actorwebsite_tomerge=dupl_actor_website.groupby(['name','website'])['id'].apply(list).reset_index(name='idstobemerged')"
   ]
  },
  {
   "cell_type": "code",
   "execution_count": 11,
   "id": "358c7c13",
   "metadata": {},
   "outputs": [
    {
     "data": {
      "text/plain": [
       "name             0\n",
       "website          0\n",
       "idstobemerged    0\n",
       "dtype: int64"
      ]
     },
     "execution_count": 11,
     "metadata": {},
     "output_type": "execute_result"
    }
   ],
   "source": [
    "actorwebsite_tomerge.count()"
   ]
  },
  {
   "cell_type": "code",
   "execution_count": 12,
   "id": "54e8ab22",
   "metadata": {},
   "outputs": [
    {
     "data": {
      "text/plain": [
       "name             0\n",
       "website          0\n",
       "idstobemerged    0\n",
       "dtype: int64"
      ]
     },
     "execution_count": 12,
     "metadata": {},
     "output_type": "execute_result"
    }
   ],
   "source": [
    "#The number of actors with more than one duplicate\n",
    "actorwebsite_tomerge[actorwebsite_tomerge.idstobemerged.map(len)>2].count()"
   ]
  },
  {
   "cell_type": "code",
   "execution_count": 13,
   "id": "b800327b",
   "metadata": {},
   "outputs": [
    {
     "data": {
      "text/html": [
       "<div>\n",
       "<style scoped>\n",
       "    .dataframe tbody tr th:only-of-type {\n",
       "        vertical-align: middle;\n",
       "    }\n",
       "\n",
       "    .dataframe tbody tr th {\n",
       "        vertical-align: top;\n",
       "    }\n",
       "\n",
       "    .dataframe thead th {\n",
       "        text-align: right;\n",
       "    }\n",
       "</style>\n",
       "<table border=\"1\" class=\"dataframe\">\n",
       "  <thead>\n",
       "    <tr style=\"text-align: right;\">\n",
       "      <th></th>\n",
       "      <th>name</th>\n",
       "      <th>website</th>\n",
       "      <th>idstobemerged</th>\n",
       "    </tr>\n",
       "  </thead>\n",
       "  <tbody>\n",
       "  </tbody>\n",
       "</table>\n",
       "</div>"
      ],
      "text/plain": [
       "Empty DataFrame\n",
       "Columns: [name, website, idstobemerged]\n",
       "Index: []"
      ]
     },
     "execution_count": 13,
     "metadata": {},
     "output_type": "execute_result"
    }
   ],
   "source": [
    "actorwebsite_tomerge.head()"
   ]
  },
  {
   "cell_type": "markdown",
   "id": "0138c5c8",
   "metadata": {},
   "source": [
    "### 2.2 Compare duplicated actors"
   ]
  },
  {
   "cell_type": "code",
   "execution_count": 14,
   "id": "f17ac21d",
   "metadata": {},
   "outputs": [],
   "source": [
    "#id of duplicated actors\n",
    "ids=[174, 1978]\n",
    "compareitems=df_actor_duplicates[df_actor_duplicates.id.isin(ids)]"
   ]
  },
  {
   "cell_type": "code",
   "execution_count": 15,
   "id": "a50c96c3",
   "metadata": {},
   "outputs": [
    {
     "data": {
      "text/html": [
       "<div>\n",
       "<style scoped>\n",
       "    .dataframe tbody tr th:only-of-type {\n",
       "        vertical-align: middle;\n",
       "    }\n",
       "\n",
       "    .dataframe tbody tr th {\n",
       "        vertical-align: top;\n",
       "    }\n",
       "\n",
       "    .dataframe thead th {\n",
       "        text-align: right;\n",
       "    }\n",
       "</style>\n",
       "<table border=\"1\" class=\"dataframe\">\n",
       "  <thead>\n",
       "    <tr style=\"text-align: right;\">\n",
       "      <th></th>\n",
       "      <th>id</th>\n",
       "      <th>name</th>\n",
       "      <th>externalIds</th>\n",
       "      <th>affiliations</th>\n",
       "      <th>website</th>\n",
       "    </tr>\n",
       "  </thead>\n",
       "  <tbody>\n",
       "  </tbody>\n",
       "</table>\n",
       "</div>"
      ],
      "text/plain": [
       "Empty DataFrame\n",
       "Columns: [id, name, externalIds, affiliations, website]\n",
       "Index: []"
      ]
     },
     "execution_count": 15,
     "metadata": {},
     "output_type": "execute_result"
    }
   ],
   "source": [
    "compareitems"
   ]
  },
  {
   "cell_type": "code",
   "execution_count": 16,
   "id": "a7ce3cc0",
   "metadata": {},
   "outputs": [],
   "source": [
    "css_equal=\"font-size:1.5rem; border: 2px solid silver;background-color: white; padding: 10px 20px\"\n",
    "css_diff=\"background-color: lightyellow;  font-size:1.5rem; border: 2px solid silver; padding: 10px 20px\""
   ]
  },
  {
   "cell_type": "code",
   "execution_count": 17,
   "id": "49c40bec",
   "metadata": {},
   "outputs": [
    {
     "data": {
      "text/html": [
       "<style type=\"text/css\">\n",
       "</style>\n",
       "<table id=\"T_6382d\">\n",
       "  <thead>\n",
       "  </thead>\n",
       "  <tbody>\n",
       "    <tr>\n",
       "      <th id=\"T_6382d_level0_row0\" class=\"row_heading level0 row0\" >id</th>\n",
       "    </tr>\n",
       "    <tr>\n",
       "      <th id=\"T_6382d_level0_row1\" class=\"row_heading level0 row1\" >name</th>\n",
       "    </tr>\n",
       "    <tr>\n",
       "      <th id=\"T_6382d_level0_row2\" class=\"row_heading level0 row2\" >externalIds</th>\n",
       "    </tr>\n",
       "    <tr>\n",
       "      <th id=\"T_6382d_level0_row3\" class=\"row_heading level0 row3\" >affiliations</th>\n",
       "    </tr>\n",
       "    <tr>\n",
       "      <th id=\"T_6382d_level0_row4\" class=\"row_heading level0 row4\" >website</th>\n",
       "    </tr>\n",
       "  </tbody>\n",
       "</table>\n"
      ],
      "text/plain": [
       "<pandas.io.formats.style.Styler at 0x11ea44150>"
      ]
     },
     "execution_count": 17,
     "metadata": {},
     "output_type": "execute_result"
    }
   ],
   "source": [
    "#view items\n",
    "showdiff = compareitems.T.style.apply(lambda x: [css_equal if ((len(utils.lists_to_list(x.values))==1) ) else css_diff for i in x],\n",
    "                    axis=1)\n",
    "showdiff"
   ]
  },
  {
   "cell_type": "markdown",
   "id": "767d01d4",
   "metadata": {},
   "source": [
    "### 2.3 Merge items\n",
    "\n",
    "The code above has generated three different dataframes:\n",
    "\n",
    "<ol>\n",
    "    <li>The dataframe <i>df_actors_with_same_items</i> that contains the duplicated actors that were attached to same items</li>\n",
    "    <li>The dataframe <i>df_actors_empty_items</i> that contains the duplicated actors that were *never attached to any item*</li>\n",
    "    <li> The dataframe <i>df_actors_with_different_items</i> that contains the duplicated actors that were never attached to the same itemsm, <b>the actors in this dataframe should be manually merged!</b></li>\n",
    "</ol>\n",
    "The function <i>postMergedActors </i> uses the API entry: <i>(POST) /api/actors/{id}/merge</i> to automatically merge the actors contained in dataframes 1 or 2."
   ]
  },
  {
   "cell_type": "code",
   "execution_count": null,
   "id": "3e40a049",
   "metadata": {},
   "outputs": [],
   "source": [
    "for item in actorwebsite_tomerge.itertuples():\n",
    "    print(item.idstobemerged[0], \", \".join(str (e) for e in item.idstobemerged[1:]))\n",
    "    mpdata.postMergedActors(str(item.idstobemerged[0]), \", \".join(str (e) for e in item.idstobemerged[1:]))"
   ]
  },
  {
   "cell_type": "markdown",
   "id": "cbf980d7",
   "metadata": {},
   "source": [
    "## 2.4 Reload the actor from MP"
   ]
  },
  {
   "cell_type": "code",
   "execution_count": 18,
   "id": "9e6b9498",
   "metadata": {},
   "outputs": [
    {
     "name": "stdout",
     "output_type": "stream",
     "text": [
      "getting data from local repository...\n"
     ]
    }
   ],
   "source": [
    "df_actors_flat_new =mpdata.getMPItems (\"actors\", False)"
   ]
  },
  {
   "cell_type": "markdown",
   "id": "853a2cb8",
   "metadata": {},
   "source": [
    "### 2.5 Get duplicates for actors using actor.name as filter"
   ]
  },
  {
   "cell_type": "code",
   "execution_count": 19,
   "id": "a3f22535",
   "metadata": {},
   "outputs": [],
   "source": [
    "utils=hel.Util()\n",
    "filter_attribute='name'\n",
    "df_actor_duplicates_new=df_actors_flat_new[df_actors_flat_new.duplicated(subset=filter_attribute, keep=False)]\n",
    "actor_tomerge_new=df_actor_duplicates_new.groupby(['name'])['id'].apply(list).reset_index(name='idstobemerged')"
   ]
  },
  {
   "cell_type": "code",
   "execution_count": 30,
   "id": "2c0d3661",
   "metadata": {},
   "outputs": [
    {
     "name": "stdout",
     "output_type": "stream",
     "text": [
      "Using the attributes \"name\" as filter, there are: 323 duplicated actors\n"
     ]
    }
   ],
   "source": [
    "print (f'Using the attributes \"{filter_attribute}\" as filter, there are: {actor_tomerge_new.shape[0]} duplicated actors')"
   ]
  },
  {
   "cell_type": "markdown",
   "id": "6e61d9d7",
   "metadata": {},
   "source": [
    "#### _Individuating actors with the exact same name that were never attached to any items._"
   ]
  },
  {
   "cell_type": "code",
   "execution_count": 21,
   "id": "01a7204b",
   "metadata": {},
   "outputs": [],
   "source": [
    "df_actors_samename_empty_items= getDuplicateActorsWithEmptyItems(actor_tomerge_new)"
   ]
  },
  {
   "cell_type": "code",
   "execution_count": 22,
   "id": "19ea8de8",
   "metadata": {},
   "outputs": [
    {
     "data": {
      "text/html": [
       "<div>\n",
       "<style scoped>\n",
       "    .dataframe tbody tr th:only-of-type {\n",
       "        vertical-align: middle;\n",
       "    }\n",
       "\n",
       "    .dataframe tbody tr th {\n",
       "        vertical-align: top;\n",
       "    }\n",
       "\n",
       "    .dataframe thead th {\n",
       "        text-align: right;\n",
       "    }\n",
       "</style>\n",
       "<table border=\"1\" class=\"dataframe\">\n",
       "  <thead>\n",
       "    <tr style=\"text-align: right;\">\n",
       "      <th></th>\n",
       "    </tr>\n",
       "  </thead>\n",
       "  <tbody>\n",
       "  </tbody>\n",
       "</table>\n",
       "</div>"
      ],
      "text/plain": [
       "Empty DataFrame\n",
       "Columns: []\n",
       "Index: []"
      ]
     },
     "execution_count": 22,
     "metadata": {},
     "output_type": "execute_result"
    }
   ],
   "source": [
    "df_actors_samename_empty_items.head(10)"
   ]
  },
  {
   "cell_type": "markdown",
   "id": "67c65877",
   "metadata": {},
   "source": [
    "#### _Different actors with the exact same name that were never attached to at least one common item_"
   ]
  },
  {
   "cell_type": "code",
   "execution_count": 23,
   "id": "9d3c566d",
   "metadata": {},
   "outputs": [],
   "source": [
    "df_actors_samename_different_items=getDuplicateActorsWithDifferentItems(actor_tomerge_new)"
   ]
  },
  {
   "cell_type": "code",
   "execution_count": 25,
   "id": "7dc818ff",
   "metadata": {},
   "outputs": [
    {
     "data": {
      "text/plain": [
       "name             322\n",
       "idstobemerged    322\n",
       "dtype: int64"
      ]
     },
     "execution_count": 25,
     "metadata": {},
     "output_type": "execute_result"
    }
   ],
   "source": [
    "df_actors_samename_different_items.count()"
   ]
  },
  {
   "cell_type": "markdown",
   "id": "069844c9",
   "metadata": {},
   "source": [
    "#### _Actors with the exact same name that were attached to at least one common item._"
   ]
  },
  {
   "cell_type": "code",
   "execution_count": 26,
   "id": "7f211f2d",
   "metadata": {},
   "outputs": [],
   "source": [
    "dfs=[df_actors_samename_different_items, df_actors_samename_empty_items, actor_tomerge_new]\n",
    "df_actors_samename_sameitems=getDuplicateActorsWithSameItems(dfs)"
   ]
  },
  {
   "cell_type": "code",
   "execution_count": 28,
   "id": "c9b4b92c",
   "metadata": {},
   "outputs": [
    {
     "data": {
      "text/plain": [
       "name             323\n",
       "idstobemerged    323\n",
       "dtype: int64"
      ]
     },
     "execution_count": 28,
     "metadata": {},
     "output_type": "execute_result"
    }
   ],
   "source": [
    "actor_tomerge_new.sort_values('name').count()"
   ]
  },
  {
   "cell_type": "markdown",
   "id": "d7db694c",
   "metadata": {},
   "source": [
    "### Compare Actors"
   ]
  },
  {
   "cell_type": "code",
   "execution_count": null,
   "id": "1af726b7",
   "metadata": {},
   "outputs": [],
   "source": [
    "ids=[234, 2177]\n",
    "compareitems=df_actor_duplicates[df_actor_duplicates.id.isin(ids)]\n",
    "css_equal=\"font-size:1.5rem; border: 2px solid silver;background-color: white; padding: 10px 20px\"\n",
    "css_diff=\"background-color: lightyellow;  font-size:1.5rem; border: 2px solid silver; padding: 10px 20px\""
   ]
  },
  {
   "cell_type": "code",
   "execution_count": null,
   "id": "9f27c8d4",
   "metadata": {},
   "outputs": [],
   "source": [
    "#view items\n",
    "showdiff = compareitems.T.style.apply(lambda x: [css_equal if ((len(utils.lists_to_list(x.values))==1) ) else css_diff for i in x],\n",
    "                    axis=1)\n",
    "showdiff"
   ]
  },
  {
   "cell_type": "markdown",
   "id": "cd689994",
   "metadata": {},
   "source": [
    "## 2.6 Merge actors"
   ]
  },
  {
   "cell_type": "code",
   "execution_count": null,
   "id": "14985a12",
   "metadata": {},
   "outputs": [],
   "source": [
    "for item in df_actors_samename_sameitems.itertuples():\n",
    "    print(item.idstobemerged[0], \", \".join(str (e) for e in item.idstobemerged[1:]))\n",
    "    mpdata.postMergedActors(str(item.idstobemerged[0]), \", \".join(str (e) for e in item.idstobemerged[1:]))"
   ]
  },
  {
   "cell_type": "code",
   "execution_count": null,
   "id": "b9c030b4",
   "metadata": {},
   "outputs": [],
   "source": []
  }
 ],
 "metadata": {
  "kernelspec": {
   "display_name": "Python 3 (ipykernel)",
   "language": "python",
   "name": "python3"
  },
  "language_info": {
   "codemirror_mode": {
    "name": "ipython",
    "version": 3
   },
   "file_extension": ".py",
   "mimetype": "text/x-python",
   "name": "python",
   "nbconvert_exporter": "python",
   "pygments_lexer": "ipython3",
   "version": "3.11.1"
  }
 },
 "nbformat": 4,
 "nbformat_minor": 5
}
