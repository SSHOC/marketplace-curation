{
 "cells": [
  {
   "cell_type": "markdown",
   "metadata": {},
   "source": [
    "# Publications & Dataset: checking Licenses/Terms of use using the Data Citation Service\n",
    "\n",
    "This notebook uses the Data Citation Service to check the **licenses** and **terms of use** of publication and datasets stored in SSHOMP having a _DOI_ or _Handle_ as PID.\n",
    "\n",
    "\n"
   ]
  },
  {
   "cell_type": "markdown",
   "metadata": {},
   "source": [
    "## 0 Requirements to run this notebook\n",
    "\n",
    "This section gives all the relevant information to \"interact\" with the MP data.\n",
    "\n",
    "### 0.1 libraries\n",
    "*There are a number of external libraries needed to run the notebook* \n",
    "\n",
    "*Furthermore, a dedicated SSH Open Marketplace library - sshmarketplacelib - with customised functions has been created and can be imported using the python import commands.* \n",
    "\n",
    "*Below the libraries import needed to run this notebook*"
   ]
  },
  {
   "cell_type": "code",
   "execution_count": null,
   "metadata": {},
   "outputs": [],
   "source": [
    "import numpy as np\n",
    "import pandas as pd\n",
    "import requests\n",
    "#import the MarketPlace Library \n",
    "from sshmarketplacelib import MPData as mpd\n",
    "from sshmarketplacelib import  eval as eva, helper as hel"
   ]
  },
  {
   "cell_type": "markdown",
   "metadata": {},
   "source": [
    "### 0.2 Get the data\n",
    "\n"
   ]
  },
  {
   "cell_type": "markdown",
   "metadata": {},
   "source": [
    "Get the MarketPlace data"
   ]
  },
  {
   "cell_type": "code",
   "execution_count": null,
   "metadata": {},
   "outputs": [],
   "source": [
    "mpdata = mpd()\n",
    "\n",
    "df_publication_flat =mpdata.getMPItems (\"publications\", True)\n",
    "df_datasets_flat =mpdata.getMPItems (\"datasets\", True)\n",
    "df_data=pd.concat([df_publication_flat, df_datasets_flat])"
   ]
  },
  {
   "cell_type": "markdown",
   "metadata": {},
   "source": [
    "Select all Publications/Datasets that have a _handle_ or a _doi_ as identifier"
   ]
  },
  {
   "cell_type": "code",
   "execution_count": null,
   "metadata": {},
   "outputs": [],
   "source": [
    "df_data['accessibleAt'] = [[n for n in l if ('doi' in n or 'handle' in n)] for l in df_data['accessibleAt']]\n",
    "df_data = df_data[df_data['accessibleAt'].str.len().gt(0)]\n",
    "df_data.reset_index(inplace=True)"
   ]
  },
  {
   "cell_type": "markdown",
   "metadata": {},
   "source": [
    "    Iterate over the dataframe with the publications/datasets and search for citation metadata\n",
    "    Inspect the retrieved metadata to search for licensing info\n",
    "    Create a dataframe with resulting information"
   ]
  },
  {
   "cell_type": "code",
   "execution_count": null,
   "metadata": {},
   "outputs": [],
   "source": [
    "import json\n",
    "import urllib.request\n",
    "import urllib\n",
    "d = []\n",
    "\n",
    "for inde, row in df_data[0:100].iterrows():\n",
    "        for aait in row.accessibleAt:\n",
    "            inshomp=[]\n",
    "            \n",
    "            print (f\"{aait}, {inde}\")\n",
    "            if (len(row.properties)>0):\n",
    "                for prope in row.properties:\n",
    "                    if ('concept' in prope):\n",
    "                            \n",
    "                        if (prope['type']['code']=='license' or 'terms-of-use' in prope['type']['code']):\n",
    "                            inshomp.append({prope['type']['code']: prope['concept']['code']})\n",
    "                            lno+=1\n",
    "                        if ('value' in prope):\n",
    "                            if ('terms-of-use' in prope['type']['code']):\n",
    "                                inshomp.append({prope['type']['code']: prope['value']})\n",
    "            \n",
    "            # connect to Data Citation Service to search for metadata\n",
    "            \n",
    "            pid=urllib.parse.quote_plus(aait)\n",
    "            turl='https://v4e-lab.isti.cnr.it/citationservice/citharvester/getcitationmetadata?pid='+pid+'&token=test'\n",
    "                 \n",
    "#                 print (turl)\n",
    "            with urllib.request.urlopen(turl) as url:\n",
    "                res_j=json.load(url)\n",
    "            indcsrepo=[]\n",
    "            indcsra=[]\n",
    "            \n",
    "            #search for license info in the result returned by the service\n",
    "            \n",
    "            if(res_j and 'jsonld_properties' in res_j):\n",
    "                if ('license' in res_j['jsonld_properties']):\n",
    "                    indcsrepo.append(res_j['jsonld_properties']['license'])\n",
    "            if(res_j and 'ra_properties' in res_j):\n",
    "                if ('copyright' in res_j['ra_properties']):\n",
    "                    indcsra.append(res_j['ra_properties']['copyright'])\n",
    "                if ('license' in res_j['ra_properties']):\n",
    "                    indcsra.append(res_j['ra_properties']['license'])\n",
    "            if(res_j and 'properties' in res_j):\n",
    "                res_j['properties'] =  {k.lower(): v for k, v in res_j['properties'].items()}\n",
    "                if ('dc.rights' in res_j['properties']):\n",
    "                    indcsrepo.append(res_j['properties']['dc.rights'])\n",
    "            \n",
    "            if (len(indcsrepo)>0 or len(indcsra)>0):\n",
    "                    d.append(\n",
    "                                {\n",
    "                                    'item': f\"{mpdata.MPserver}/{row.category}/{row.persistentId}\",\n",
    "                                    'accessibleAt': aait,\n",
    "                                    'license_in_sshomp': inshomp,\n",
    "                                    'license_from_repository':  indcsrepo,\n",
    "                                    'license_from_ra': indcsra\n",
    "                                }\n",
    "                    )\n",
    "                      \n",
    "res=pd.DataFrame(d)"
   ]
  },
  {
   "cell_type": "code",
   "execution_count": null,
   "metadata": {},
   "outputs": [],
   "source": [
    "res.head(10)"
   ]
  },
  {
   "cell_type": "code",
   "execution_count": null,
   "metadata": {},
   "outputs": [],
   "source": [
    "res.to_csv('data/licenses.csv')"
   ]
  },
  {
   "cell_type": "code",
   "execution_count": null,
   "metadata": {},
   "outputs": [],
   "source": []
  }
 ],
 "metadata": {
  "celltoolbar": "Raw Cell Format",
  "kernelspec": {
   "display_name": "Python 3 (ipykernel)",
   "language": "python",
   "name": "python3"
  },
  "language_info": {
   "codemirror_mode": {
    "name": "ipython",
    "version": 3
   },
   "file_extension": ".py",
   "mimetype": "text/x-python",
   "name": "python",
   "nbconvert_exporter": "python",
   "pygments_lexer": "ipython3",
   "version": "3.11.1"
  }
 },
 "nbformat": 4,
 "nbformat_minor": 4
}
