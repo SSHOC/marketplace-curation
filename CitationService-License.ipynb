{
 "cells": [
  {
   "cell_type": "markdown",
   "metadata": {},
   "source": [
    "# Publications & Dataset: checking Licenses/Terms of use using the Data Citation Service\n",
    "\n",
    "This notebook uses the Data Citation Service to check the **licenses** and **terms of use** of publication and datasets stored in SSHOMP having a _DOI_ or _Handle_ as PID.\n",
    "\n",
    "\n"
   ]
  },
  {
   "cell_type": "markdown",
   "metadata": {},
   "source": [
    "## 0 Requirements to run this notebook\n",
    "\n",
    "This section gives all the relevant information to \"interact\" with the MP data.\n",
    "\n",
    "### 0.1 libraries\n",
    "*There are a number of external libraries needed to run the notebook* \n",
    "\n",
    "*Furthermore, a dedicated SSH Open Marketplace library - sshmarketplacelib - with customised functions has been created and can be imported using the python import commands.* \n",
    "\n",
    "*Below the libraries import needed to run this notebook*"
   ]
  },
  {
   "cell_type": "code",
   "execution_count": 1,
   "metadata": {},
   "outputs": [],
   "source": [
    "import numpy as np\n",
    "import pandas as pd\n",
    "import requests\n",
    "#import the MarketPlace Library \n",
    "from sshmarketplacelib import MPData as mpd\n",
    "from sshmarketplacelib import  eval as eva, helper as hel"
   ]
  },
  {
   "cell_type": "markdown",
   "metadata": {},
   "source": [
    "### 0.2 Get the data\n",
    "\n"
   ]
  },
  {
   "cell_type": "markdown",
   "metadata": {},
   "source": [
    "Get the MarketPlace data"
   ]
  },
  {
   "cell_type": "code",
   "execution_count": 2,
   "metadata": {},
   "outputs": [
    {
     "name": "stdout",
     "output_type": "stream",
     "text": [
      "getting data from local repository...\n",
      "getting data from local repository...\n"
     ]
    }
   ],
   "source": [
    "mpdata = mpd()\n",
    "\n",
    "df_publication_flat =mpdata.getMPItems (\"publications\", True)\n",
    "df_datasets_flat =mpdata.getMPItems (\"datasets\", True)\n",
    "df_data=pd.concat([df_publication_flat, df_datasets_flat])"
   ]
  },
  {
   "cell_type": "markdown",
   "metadata": {},
   "source": [
    "Select all Publications/Datasets that have a _handle_ or a _doi_ as URL"
   ]
  },
  {
   "cell_type": "code",
   "execution_count": 47,
   "metadata": {},
   "outputs": [],
   "source": [
    "df_data['accessibleAt'] = [[n for n in l if ('doi' in n or 'handle' in n)] for l in df_data['accessibleAt']]\n",
    "df_data = df_data[df_data['accessibleAt'].str.len().gt(0)]\n",
    "df_data.reset_index(inplace=True)"
   ]
  },
  {
   "cell_type": "markdown",
   "metadata": {},
   "source": [
    "    Iterate over the dataframe with the publications/datasets and search for citation metadata\n",
    "    Inspect the retrieved metadata to search for licensing info\n",
    "    Create a dataframe with resulting information"
   ]
  },
  {
   "cell_type": "code",
   "execution_count": 52,
   "metadata": {},
   "outputs": [
    {
     "name": "stdout",
     "output_type": "stream",
     "text": [
      "https://doi.org/10.48550/arXiv.2304.02603, 0\n",
      "https://doi.org/10.1007/978-1-4419-6886-9_2, 1\n",
      "https://run.unl.pt/handle/10362/155506, 2\n",
      "https://doi.org/10.1007/978-3-031-06555-2_34, 3\n",
      "https://doi.org/10.1080/01639374.2018.1543747, 4\n",
      "https://run.unl.pt/handle/10362/144292, 5\n",
      "https://doi.org/10.7551/mitpress/14046.001.0001, 6\n",
      "https://doi.org/10.5281/zenodo.10478399, 7\n",
      "https://doi.org/10.5944/rhd.vol.6.2021.27371, 8\n",
      "https://onlinelibrary.wiley.com/doi/abs/10.1002/9780470106310.fmatter, 9\n",
      "http://hdl.handle.net/10362/135784, 10\n",
      "https://dl.acm.org/doi/10.1145/3594724, 11\n",
      "https://doi.org/10.1186/s40494-018-0197-y, 12\n",
      "https://onlinelibrary.wiley.com/doi/abs/10.1002/9781119961284.ch2, 13\n",
      "https://doi.org/10.5281/zenodo.5700008, 14\n",
      "https://iris.polito.it/handle/11583/2675486#.XOLD7KbgpAY, 15\n",
      "https://doi.org/10.1007/978-3-319-52804-5_3, 16\n",
      "https://zenodo.org/doi/10.5281/zenodo.7576675, 17\n",
      "https://doi.org/10.5281/zenodo.7051342, 18\n",
      "https://doi.org/10.1177/0165551520950246, 19\n",
      "https://run.unl.pt/handle/10362/135562, 20\n",
      "https://doi.org/10.21428/7a45813f.579bb144, 21\n",
      "https://doi.org/10.5281/zenodo.3839676, 22\n",
      "https://onlinelibrary.wiley.com/doi/abs/10.1002/jrs.4042, 23\n",
      "http://doi.wiley.com/10.1002/%28SICI%291097-4539%28200001/02%2929%3A1%3C73%3A%3AAID-XRS416%3E3.0.CO%3B2-M, 24\n",
      "https://run.unl.pt/handle/10362/155504, 25\n",
      "https://doi.org/10.1186/s40494-018-0177-2, 26\n",
      "http://hdl.handle.net/11321/312, 27\n",
      "http://hdl.handle.net/11321/699, 28\n",
      "https://dataverse.harvard.edu/dataset.xhtml?persistentId=doi:10.7910/DVN/YVN6IW, 29\n",
      "https://dataverse.harvard.edu/dataset.xhtml?persistentId=doi:10.7910/DVN/2YYJ2B, 30\n",
      "http://hdl.handle.net/11022/1009-0000-0007-EC5D-8, 31\n",
      "http://hdl.handle.net/10794/49, 32\n",
      "http://hdl.handle.net/10794/50, 33\n",
      "https://hdl.handle.net/10.35111/rfeg-z495, 34\n",
      "http://hdl.handle.net/20.500.12024/2507, 35\n",
      "https://hdl.handle.net/1839/00-0000-0000-0016-3693-A, 36\n",
      "https://hdl.handle.net/1839/00-0000-0000-0016-8A57-F, 37\n",
      "https://hdl.handle.net/1839/00-0000-0000-0016-8A57-F, 38\n",
      "http://hdl.handle.net/20.500.12537/94, 39\n",
      "http://hdl.handle.net/11022/0000-0007-C267-A, 40\n",
      "http://hdl.handle.net/11022/0000-0007-C093-9, 41\n",
      "http://hdl.handle.net/11022/0000-0007-C265-C, 42\n",
      "http://hdl.handle.net/11022/1009-0000-0001-1500-7, 43\n",
      "http://hdl.handle.net/11858/00-097C-0000-0001-CCA1-0, 44\n",
      "https://hdl.handle.net/11403/sldr000784/v1, 45\n",
      "https://hdl.handle.net/21.11129/0000-000F-FF43-7, 46\n",
      "https://hdl.handle.net/21.11129/0000-000F-FF45-5, 47\n",
      "https://hdl.handle.net/21.11129/0000-000F-FF46-4, 48\n",
      "https://hdl.handle.net/21.11129/0000-000F-FF42-8, 49\n"
     ]
    }
   ],
   "source": [
    "import json\n",
    "import urllib.request\n",
    "import urllib\n",
    "d = []\n",
    "\n",
    "for inde, row in df_data[0:50].iterrows():\n",
    "        for aait in row.accessibleAt:\n",
    "            inshomp=[]\n",
    "            \n",
    "            print (f\"{aait}, {inde}\")\n",
    "            if (len(row.properties)>0):\n",
    "                for prope in row.properties:\n",
    "                    \n",
    "                    if ('concept' in prope):\n",
    "                            \n",
    "                        if (prope['type']['code']=='license' or  'terms-of-use' in prope['type']['code']):\n",
    "                            inshomp.append({prope['type']['code']: prope['concept']['code']})\n",
    "                            \n",
    "                    if ('value' in prope):\n",
    "                        if ('terms-of-use' in prope['type']['code']):\n",
    "                            inshomp.append({prope['type']['code']: prope['value']})\n",
    "#                             print (prope)\n",
    "                                \n",
    "            # connect to Data Citation Service to search for metadata\n",
    "            \n",
    "            pid=urllib.parse.quote_plus(aait)\n",
    "            turl='https://v4e-lab.isti.cnr.it/citationservice/citharvester/getcitationmetadata?pid='+pid+'&token=test'\n",
    "                 \n",
    "#             print (turl)\n",
    "            with urllib.request.urlopen(turl) as url:\n",
    "                res_j=json.load(url)\n",
    "            indcsrepo=[]\n",
    "            indcsra=[]\n",
    "            \n",
    "            #search for license info in the result returned by the service\n",
    "            \n",
    "            if(res_j and 'jsonld_properties' in res_j):\n",
    "#                 res_j['jsonld_properties'] =  {k.lower(): v for k, v in res_j['jsonld_properties'].items()}\n",
    "                if ('license' in res_j['jsonld_properties']):\n",
    "                    indcsrepo.append(res_j['jsonld_properties']['license'])\n",
    "            if(res_j and 'ra_properties' in res_j):\n",
    "#                 res_j['ra_properties'] =  {k.lower(): v for k, v in res_j['ra_properties'].items()}\n",
    "                if ('copyright' in res_j['ra_properties']):\n",
    "                    indcsra.append(res_j['ra_properties']['copyright'])\n",
    "                if ('license' in res_j['ra_properties']):\n",
    "                    indcsra.append(res_j['ra_properties']['license'])\n",
    "            if(res_j and 'properties' in res_j):\n",
    "                res_j['properties'] =  {k.lower(): v for k, v in res_j['properties'].items()}\n",
    "                if ('dc.rights' in res_j['properties']):\n",
    "                    indcsrepo.append(res_j['properties']['dc.rights'])\n",
    "          \n",
    "            if (len(indcsrepo)>0 or len(indcsra)>0):\n",
    "                    d.append(\n",
    "                                {\n",
    "                                    'item': f\"{mpdata.MPserver}{row.category}/{row.persistentId}\",\n",
    "                                    'accessibleAt': aait,\n",
    "                                    'license_in_sshomp': inshomp,\n",
    "                                    'license_from_repository':  indcsrepo,\n",
    "                                    'license_from_ra': indcsra\n",
    "                                }\n",
    "                    )\n",
    "                      \n",
    "res=pd.DataFrame(d)"
   ]
  },
  {
   "cell_type": "code",
   "execution_count": 54,
   "metadata": {},
   "outputs": [
    {
     "data": {
      "text/html": [
       "<div>\n",
       "<style scoped>\n",
       "    .dataframe tbody tr th:only-of-type {\n",
       "        vertical-align: middle;\n",
       "    }\n",
       "\n",
       "    .dataframe tbody tr th {\n",
       "        vertical-align: top;\n",
       "    }\n",
       "\n",
       "    .dataframe thead th {\n",
       "        text-align: right;\n",
       "    }\n",
       "</style>\n",
       "<table border=\"1\" class=\"dataframe\">\n",
       "  <thead>\n",
       "    <tr style=\"text-align: right;\">\n",
       "      <th></th>\n",
       "      <th>item</th>\n",
       "      <th>accessibleAt</th>\n",
       "      <th>license_in_sshomp</th>\n",
       "      <th>license_from_repository</th>\n",
       "      <th>license_from_ra</th>\n",
       "    </tr>\n",
       "  </thead>\n",
       "  <tbody>\n",
       "    <tr>\n",
       "      <th>0</th>\n",
       "      <td>https://marketplace.sshopencloud.eu/publicatio...</td>\n",
       "      <td>https://doi.org/10.48550/arXiv.2304.02603</td>\n",
       "      <td>[{'license': 'CC-BY-4.0'}]</td>\n",
       "      <td>[]</td>\n",
       "      <td>[Creative Commons Attribution 4.0 International]</td>\n",
       "    </tr>\n",
       "    <tr>\n",
       "      <th>1</th>\n",
       "      <td>https://marketplace.sshopencloud.eu/publicatio...</td>\n",
       "      <td>https://run.unl.pt/handle/10362/155506</td>\n",
       "      <td>[]</td>\n",
       "      <td>[openAccess]</td>\n",
       "      <td>[]</td>\n",
       "    </tr>\n",
       "    <tr>\n",
       "      <th>2</th>\n",
       "      <td>https://marketplace.sshopencloud.eu/publicatio...</td>\n",
       "      <td>https://doi.org/10.1007/978-3-031-06555-2_34</td>\n",
       "      <td>[]</td>\n",
       "      <td>[]</td>\n",
       "      <td>[[{'content-version': 'tdm', 'start': {'date-t...</td>\n",
       "    </tr>\n",
       "    <tr>\n",
       "      <th>3</th>\n",
       "      <td>https://marketplace.sshopencloud.eu/publicatio...</td>\n",
       "      <td>https://doi.org/10.1080/01639374.2018.1543747</td>\n",
       "      <td>[]</td>\n",
       "      <td>[]</td>\n",
       "      <td>[[{'content-version': 'vor', 'start': {'date-t...</td>\n",
       "    </tr>\n",
       "    <tr>\n",
       "      <th>4</th>\n",
       "      <td>https://marketplace.sshopencloud.eu/publicatio...</td>\n",
       "      <td>https://run.unl.pt/handle/10362/144292</td>\n",
       "      <td>[]</td>\n",
       "      <td>[openAccess]</td>\n",
       "      <td>[]</td>\n",
       "    </tr>\n",
       "  </tbody>\n",
       "</table>\n",
       "</div>"
      ],
      "text/plain": [
       "                                                item  \\\n",
       "0  https://marketplace.sshopencloud.eu/publicatio...   \n",
       "1  https://marketplace.sshopencloud.eu/publicatio...   \n",
       "2  https://marketplace.sshopencloud.eu/publicatio...   \n",
       "3  https://marketplace.sshopencloud.eu/publicatio...   \n",
       "4  https://marketplace.sshopencloud.eu/publicatio...   \n",
       "\n",
       "                                    accessibleAt           license_in_sshomp  \\\n",
       "0      https://doi.org/10.48550/arXiv.2304.02603  [{'license': 'CC-BY-4.0'}]   \n",
       "1         https://run.unl.pt/handle/10362/155506                          []   \n",
       "2   https://doi.org/10.1007/978-3-031-06555-2_34                          []   \n",
       "3  https://doi.org/10.1080/01639374.2018.1543747                          []   \n",
       "4         https://run.unl.pt/handle/10362/144292                          []   \n",
       "\n",
       "  license_from_repository                                    license_from_ra  \n",
       "0                      []   [Creative Commons Attribution 4.0 International]  \n",
       "1            [openAccess]                                                 []  \n",
       "2                      []  [[{'content-version': 'tdm', 'start': {'date-t...  \n",
       "3                      []  [[{'content-version': 'vor', 'start': {'date-t...  \n",
       "4            [openAccess]                                                 []  "
      ]
     },
     "execution_count": 54,
     "metadata": {},
     "output_type": "execute_result"
    }
   ],
   "source": [
    "res.head()"
   ]
  },
  {
   "cell_type": "code",
   "execution_count": null,
   "metadata": {},
   "outputs": [],
   "source": [
    "res.to_csv('data/licenses.csv')"
   ]
  },
  {
   "cell_type": "code",
   "execution_count": null,
   "metadata": {},
   "outputs": [],
   "source": []
  }
 ],
 "metadata": {
  "celltoolbar": "Raw Cell Format",
  "kernelspec": {
   "display_name": "Python 3 (ipykernel)",
   "language": "python",
   "name": "python3"
  },
  "language_info": {
   "codemirror_mode": {
    "name": "ipython",
    "version": 3
   },
   "file_extension": ".py",
   "mimetype": "text/x-python",
   "name": "python",
   "nbconvert_exporter": "python",
   "pygments_lexer": "ipython3",
   "version": "3.11.1"
  }
 },
 "nbformat": 4,
 "nbformat_minor": 4
}
