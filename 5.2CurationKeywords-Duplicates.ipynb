{
 "cells": [
  {
   "cell_type": "markdown",
   "metadata": {},
   "source": [
    "# Notebook 5.2 - Curation Keywords: Duplicates\n",
    "\n",
    "The final release of this notebook will implement the workflow to curate duplicated dynamic properties values.\n",
    "\n",
    "The notebook works as follows:\n",
    "\n",
    "0. Imports external libraries and loads the MP dataset and the google sheet\n",
    "1. Searches for possible duplicates in dynamic properties (Experimental)\n",
    "2. Updates keywords on MP"
   ]
  },
  {
   "cell_type": "markdown",
   "metadata": {},
   "source": [
    "## 0 Requirements to run this notebook\n",
    "\n",
    "This section gives all the relevant information to \"interact\" with the MP data.\n",
    "\n",
    "### 0.1 libraries\n",
    "*There are a number of external libraries needed to run the notebook* \n",
    "\n",
    "*Furthermore, a dedicated SSH Open Marketplace library - sshmarketplacelib - with customised functions has been created and can be imported using the python import commands.* \n",
    "\n",
    "*Below the libraries import needed to run this notebook*"
   ]
  },
  {
   "cell_type": "code",
   "execution_count": 1,
   "metadata": {},
   "outputs": [],
   "source": [
    "import numpy as np\n",
    "import pandas as pd\n",
    "import requests\n",
    "#import the MarketPlace Library \n",
    "from sshmarketplacelib import MPData as mpd\n",
    "from sshmarketplacelib import  eval as eva, helper as hel"
   ]
  },
  {
   "cell_type": "markdown",
   "metadata": {},
   "source": [
    "### 0.2 Get the data\n",
    "\n"
   ]
  },
  {
   "cell_type": "markdown",
   "metadata": {},
   "source": [
    "Get the MarketPlace dataset"
   ]
  },
  {
   "cell_type": "code",
   "execution_count": 2,
   "metadata": {},
   "outputs": [
    {
     "name": "stdout",
     "output_type": "stream",
     "text": [
      "getting data from local repository...\n",
      "getting data from local repository...\n",
      "getting data from local repository...\n",
      "getting data from local repository...\n",
      "getting data from local repository...\n"
     ]
    }
   ],
   "source": [
    "mpdata = mpd()\n",
    "df_tool_flat =mpdata.getMPItems (\"toolsandservices\", True)\n",
    "df_publication_flat =mpdata.getMPItems (\"publications\", True)\n",
    "df_trainingmaterials_flat =mpdata.getMPItems (\"trainingmaterials\", True)\n",
    "df_workflows_flat =mpdata.getMPItems (\"workflows\", True)\n",
    "df_datasets_flat =mpdata.getMPItems (\"datasets\", True)"
   ]
  },
  {
   "cell_type": "code",
   "execution_count": 3,
   "metadata": {},
   "outputs": [],
   "source": [
    "utils=hel.Util()\n",
    "resultfields=['persistentId', 'MPUrl', 'category', 'label', 'type.code', 'type.label', 'concept.code', 'concept.label', 'concept.uri', 'concept.vocabulary.scheme']\n",
    "udf_alprop=utils.getAllPropertiesBySources()\n",
    "udf_alprop=udf_alprop.loc[ : ,resultfields]"
   ]
  },
  {
   "cell_type": "markdown",
   "metadata": {},
   "source": [
    "### 1 Find duplicates in properties\n",
    "\n",
    "The code below checks all items and individuate those with possible duplicated dynamic properties."
   ]
  },
  {
   "cell_type": "code",
   "execution_count": 4,
   "metadata": {},
   "outputs": [
    {
     "data": {
      "text/html": [
       "<div>\n",
       "<style scoped>\n",
       "    .dataframe tbody tr th:only-of-type {\n",
       "        vertical-align: middle;\n",
       "    }\n",
       "\n",
       "    .dataframe tbody tr th {\n",
       "        vertical-align: top;\n",
       "    }\n",
       "\n",
       "    .dataframe thead th {\n",
       "        text-align: right;\n",
       "    }\n",
       "</style>\n",
       "<table border=\"1\" class=\"dataframe\">\n",
       "  <thead>\n",
       "    <tr style=\"text-align: right;\">\n",
       "      <th></th>\n",
       "      <th>persistentId</th>\n",
       "      <th>category</th>\n",
       "      <th>label</th>\n",
       "      <th>possibleDupProps</th>\n",
       "      <th>pDProps</th>\n",
       "    </tr>\n",
       "  </thead>\n",
       "  <tbody>\n",
       "    <tr>\n",
       "      <th>0</th>\n",
       "      <td>vJ9sE6</td>\n",
       "      <td>tool-or-service</td>\n",
       "      <td>ArkeoGIS</td>\n",
       "      <td>keyword:csv, standard:csv</td>\n",
       "      <td>[keyword:csv, standard:csv]</td>\n",
       "    </tr>\n",
       "    <tr>\n",
       "      <th>1</th>\n",
       "      <td>ysUiV1</td>\n",
       "      <td>tool-or-service</td>\n",
       "      <td>Gallica</td>\n",
       "      <td>keyword:iiif, standard:iiif</td>\n",
       "      <td>[keyword:iiif, standard:iiif]</td>\n",
       "    </tr>\n",
       "    <tr>\n",
       "      <th>2</th>\n",
       "      <td>Ctd5u5</td>\n",
       "      <td>tool-or-service</td>\n",
       "      <td>Mapping Memory Manager</td>\n",
       "      <td>keyword:cidoc-crm, standard:cidoc-crm</td>\n",
       "      <td>[standard:cidoc-crm, keyword:cidoc-crm]</td>\n",
       "    </tr>\n",
       "    <tr>\n",
       "      <th>3</th>\n",
       "      <td>SG7WGa</td>\n",
       "      <td>tool-or-service</td>\n",
       "      <td>Ontop</td>\n",
       "      <td>activity:mapping, keyword:mapping</td>\n",
       "      <td>[activity:mapping, keyword:mapping]</td>\n",
       "    </tr>\n",
       "    <tr>\n",
       "      <th>4</th>\n",
       "      <td>lxjJee</td>\n",
       "      <td>tool-or-service</td>\n",
       "      <td>Srophé App (an eXist-db publishing platform fo...</td>\n",
       "      <td>keyword:tei, standard:tei</td>\n",
       "      <td>[keyword:tei, standard:tei]</td>\n",
       "    </tr>\n",
       "  </tbody>\n",
       "</table>\n",
       "</div>"
      ],
      "text/plain": [
       "  persistentId         category  \\\n",
       "0       vJ9sE6  tool-or-service   \n",
       "1       ysUiV1  tool-or-service   \n",
       "2       Ctd5u5  tool-or-service   \n",
       "3       SG7WGa  tool-or-service   \n",
       "4       lxjJee  tool-or-service   \n",
       "\n",
       "                                               label  \\\n",
       "0                                           ArkeoGIS   \n",
       "1                                           Gallica    \n",
       "2                             Mapping Memory Manager   \n",
       "3                                              Ontop   \n",
       "4  Srophé App (an eXist-db publishing platform fo...   \n",
       "\n",
       "                        possibleDupProps  \\\n",
       "0              keyword:csv, standard:csv   \n",
       "1            keyword:iiif, standard:iiif   \n",
       "2  keyword:cidoc-crm, standard:cidoc-crm   \n",
       "3      activity:mapping, keyword:mapping   \n",
       "4              keyword:tei, standard:tei   \n",
       "\n",
       "                                   pDProps  \n",
       "0              [keyword:csv, standard:csv]  \n",
       "1            [keyword:iiif, standard:iiif]  \n",
       "2  [standard:cidoc-crm, keyword:cidoc-crm]  \n",
       "3      [activity:mapping, keyword:mapping]  \n",
       "4              [keyword:tei, standard:tei]  "
      ]
     },
     "execution_count": 4,
     "metadata": {},
     "output_type": "execute_result"
    }
   ],
   "source": [
    "df_dupl_props = pd.DataFrame (columns = ['persistentId','category', 'label', 'possibleDupProps','pDProps'])\n",
    "duplKW={\"persistentId\": [], \"category\":[], \"label\":[], \"possibleDupProps\":[],\"pDProps\":[]}\n",
    "df_all_items=pd.concat([df_tool_flat, df_publication_flat, df_trainingmaterials_flat, df_workflows_flat, df_datasets_flat])\n",
    "for item in df_all_items.itertuples():\n",
    "    seen = set()\n",
    "    dupes = [x['concept']['code'].lower() for x in item.properties \n",
    "             if ((\"concept\" in x) and (x['concept']['code'].lower() in seen or seen.add(x['concept']['code'].lower())))]    \n",
    "    dupllist=[(f\"{x['type']['code'].lower()}:{x['concept']['code'].lower()}\") for x in item.properties \n",
    "              if (\"concept\" in x and x['concept']['code'].lower() in dupes)]\n",
    "    if (dupllist):\n",
    "        #print(dupes)\n",
    "        duplKW[\"persistentId\"].append(item.persistentId)\n",
    "        duplKW[\"category\"].append(item.category)\n",
    "        duplKW[\"label\"].append(item.label)\n",
    "        duplKW[\"possibleDupProps\"].append(\", \".join(dupllist))\n",
    "        duplKW[\"pDProps\"].append(dupllist)\n",
    "\n",
    "df_dupl_props = pd.DataFrame(duplKW)\n",
    "df_dupl_props.pDProps=df_dupl_props.pDProps.apply(lambda y: list(set(y)))\n",
    "df_dupl_props.head()"
   ]
  },
  {
   "cell_type": "markdown",
   "metadata": {},
   "source": [
    "#### Example: a set of items with possible duplicated properties"
   ]
  },
  {
   "cell_type": "code",
   "execution_count": 5,
   "metadata": {},
   "outputs": [
    {
     "data": {
      "text/html": [
       "<style type=\"text/css\">\n",
       "</style>\n",
       "<table id=\"T_f0ea5\">\n",
       "  <thead>\n",
       "    <tr>\n",
       "      <th class=\"blank level0\" >&nbsp;</th>\n",
       "      <th id=\"T_f0ea5_level0_col0\" class=\"col_heading level0 col0\" >persistentId</th>\n",
       "      <th id=\"T_f0ea5_level0_col1\" class=\"col_heading level0 col1\" >category</th>\n",
       "      <th id=\"T_f0ea5_level0_col2\" class=\"col_heading level0 col2\" >label</th>\n",
       "      <th id=\"T_f0ea5_level0_col3\" class=\"col_heading level0 col3\" >possibleDupProps</th>\n",
       "      <th id=\"T_f0ea5_level0_col4\" class=\"col_heading level0 col4\" >pDProps</th>\n",
       "      <th id=\"T_f0ea5_level0_col5\" class=\"col_heading level0 col5\" >MPUrl</th>\n",
       "    </tr>\n",
       "  </thead>\n",
       "  <tbody>\n",
       "    <tr>\n",
       "      <th id=\"T_f0ea5_level0_row0\" class=\"row_heading level0 row0\" >0</th>\n",
       "      <td id=\"T_f0ea5_row0_col0\" class=\"data row0 col0\" >vJ9sE6</td>\n",
       "      <td id=\"T_f0ea5_row0_col1\" class=\"data row0 col1\" >tool-or-service</td>\n",
       "      <td id=\"T_f0ea5_row0_col2\" class=\"data row0 col2\" >ArkeoGIS</td>\n",
       "      <td id=\"T_f0ea5_row0_col3\" class=\"data row0 col3\" >keyword:csv, standard:csv</td>\n",
       "      <td id=\"T_f0ea5_row0_col4\" class=\"data row0 col4\" >['keyword:csv', 'standard:csv']</td>\n",
       "      <td id=\"T_f0ea5_row0_col5\" class=\"data row0 col5\" ><a target=\"_blank\" href=\"https://marketplace.sshopencloud.eu/tool-or-service/vJ9sE6\">tool-or-service/vJ9sE6</a></td>\n",
       "    </tr>\n",
       "    <tr>\n",
       "      <th id=\"T_f0ea5_level0_row1\" class=\"row_heading level0 row1\" >1</th>\n",
       "      <td id=\"T_f0ea5_row1_col0\" class=\"data row1 col0\" >ysUiV1</td>\n",
       "      <td id=\"T_f0ea5_row1_col1\" class=\"data row1 col1\" >tool-or-service</td>\n",
       "      <td id=\"T_f0ea5_row1_col2\" class=\"data row1 col2\" >Gallica </td>\n",
       "      <td id=\"T_f0ea5_row1_col3\" class=\"data row1 col3\" >keyword:iiif, standard:iiif</td>\n",
       "      <td id=\"T_f0ea5_row1_col4\" class=\"data row1 col4\" >['keyword:iiif', 'standard:iiif']</td>\n",
       "      <td id=\"T_f0ea5_row1_col5\" class=\"data row1 col5\" ><a target=\"_blank\" href=\"https://marketplace.sshopencloud.eu/tool-or-service/ysUiV1\">tool-or-service/ysUiV1</a></td>\n",
       "    </tr>\n",
       "    <tr>\n",
       "      <th id=\"T_f0ea5_level0_row2\" class=\"row_heading level0 row2\" >2</th>\n",
       "      <td id=\"T_f0ea5_row2_col0\" class=\"data row2 col0\" >Ctd5u5</td>\n",
       "      <td id=\"T_f0ea5_row2_col1\" class=\"data row2 col1\" >tool-or-service</td>\n",
       "      <td id=\"T_f0ea5_row2_col2\" class=\"data row2 col2\" >Mapping Memory Manager</td>\n",
       "      <td id=\"T_f0ea5_row2_col3\" class=\"data row2 col3\" >keyword:cidoc-crm, standard:cidoc-crm</td>\n",
       "      <td id=\"T_f0ea5_row2_col4\" class=\"data row2 col4\" >['standard:cidoc-crm', 'keyword:cidoc-crm']</td>\n",
       "      <td id=\"T_f0ea5_row2_col5\" class=\"data row2 col5\" ><a target=\"_blank\" href=\"https://marketplace.sshopencloud.eu/tool-or-service/Ctd5u5\">tool-or-service/Ctd5u5</a></td>\n",
       "    </tr>\n",
       "    <tr>\n",
       "      <th id=\"T_f0ea5_level0_row3\" class=\"row_heading level0 row3\" >3</th>\n",
       "      <td id=\"T_f0ea5_row3_col0\" class=\"data row3 col0\" >SG7WGa</td>\n",
       "      <td id=\"T_f0ea5_row3_col1\" class=\"data row3 col1\" >tool-or-service</td>\n",
       "      <td id=\"T_f0ea5_row3_col2\" class=\"data row3 col2\" >Ontop</td>\n",
       "      <td id=\"T_f0ea5_row3_col3\" class=\"data row3 col3\" >activity:mapping, keyword:mapping</td>\n",
       "      <td id=\"T_f0ea5_row3_col4\" class=\"data row3 col4\" >['activity:mapping', 'keyword:mapping']</td>\n",
       "      <td id=\"T_f0ea5_row3_col5\" class=\"data row3 col5\" ><a target=\"_blank\" href=\"https://marketplace.sshopencloud.eu/tool-or-service/SG7WGa\">tool-or-service/SG7WGa</a></td>\n",
       "    </tr>\n",
       "    <tr>\n",
       "      <th id=\"T_f0ea5_level0_row4\" class=\"row_heading level0 row4\" >4</th>\n",
       "      <td id=\"T_f0ea5_row4_col0\" class=\"data row4 col0\" >lxjJee</td>\n",
       "      <td id=\"T_f0ea5_row4_col1\" class=\"data row4 col1\" >tool-or-service</td>\n",
       "      <td id=\"T_f0ea5_row4_col2\" class=\"data row4 col2\" >Srophé App (an eXist-db publishing platform for TEI datasets)</td>\n",
       "      <td id=\"T_f0ea5_row4_col3\" class=\"data row4 col3\" >keyword:tei, standard:tei</td>\n",
       "      <td id=\"T_f0ea5_row4_col4\" class=\"data row4 col4\" >['keyword:tei', 'standard:tei']</td>\n",
       "      <td id=\"T_f0ea5_row4_col5\" class=\"data row4 col5\" ><a target=\"_blank\" href=\"https://marketplace.sshopencloud.eu/tool-or-service/lxjJee\">tool-or-service/lxjJee</a></td>\n",
       "    </tr>\n",
       "    <tr>\n",
       "      <th id=\"T_f0ea5_level0_row5\" class=\"row_heading level0 row5\" >5</th>\n",
       "      <td id=\"T_f0ea5_row5_col0\" class=\"data row5 col0\" >gvthYy</td>\n",
       "      <td id=\"T_f0ea5_row5_col1\" class=\"data row5 col1\" >publication</td>\n",
       "      <td id=\"T_f0ea5_row5_col2\" class=\"data row5 col2\" >Extracting melodies for analysis: What SPARQL can do on Music-XML</td>\n",
       "      <td id=\"T_f0ea5_row5_col3\" class=\"data row5 col3\" >keyword:xml, standard:xml</td>\n",
       "      <td id=\"T_f0ea5_row5_col4\" class=\"data row5 col4\" >['keyword:xml', 'standard:xml']</td>\n",
       "      <td id=\"T_f0ea5_row5_col5\" class=\"data row5 col5\" ><a target=\"_blank\" href=\"https://marketplace.sshopencloud.eu/publication/gvthYy\">publication/gvthYy</a></td>\n",
       "    </tr>\n",
       "    <tr>\n",
       "      <th id=\"T_f0ea5_level0_row6\" class=\"row_heading level0 row6\" >6</th>\n",
       "      <td id=\"T_f0ea5_row6_col0\" class=\"data row6 col0\" >l1xtpH</td>\n",
       "      <td id=\"T_f0ea5_row6_col1\" class=\"data row6 col1\" >training-material</td>\n",
       "      <td id=\"T_f0ea5_row6_col2\" class=\"data row6 col2\" >Aligner des données XML avec une ontologie avec 3M</td>\n",
       "      <td id=\"T_f0ea5_row6_col3\" class=\"data row6 col3\" >keyword:cidoc-crm, standard:cidoc-crm</td>\n",
       "      <td id=\"T_f0ea5_row6_col4\" class=\"data row6 col4\" >['standard:cidoc-crm', 'keyword:cidoc-crm']</td>\n",
       "      <td id=\"T_f0ea5_row6_col5\" class=\"data row6 col5\" ><a target=\"_blank\" href=\"https://marketplace.sshopencloud.eu/training-material/l1xtpH\">training-material/l1xtpH</a></td>\n",
       "    </tr>\n",
       "    <tr>\n",
       "      <th id=\"T_f0ea5_level0_row7\" class=\"row_heading level0 row7\" >7</th>\n",
       "      <td id=\"T_f0ea5_row7_col0\" class=\"data row7 col0\" >R8Uj9l</td>\n",
       "      <td id=\"T_f0ea5_row7_col1\" class=\"data row7 col1\" >training-material</td>\n",
       "      <td id=\"T_f0ea5_row7_col2\" class=\"data row7 col2\" >Aligner une base de données avec une ontologie avec Protégé- Ontop</td>\n",
       "      <td id=\"T_f0ea5_row7_col3\" class=\"data row7 col3\" >activity:mapping, keyword:mapping</td>\n",
       "      <td id=\"T_f0ea5_row7_col4\" class=\"data row7 col4\" >['activity:mapping', 'keyword:mapping']</td>\n",
       "      <td id=\"T_f0ea5_row7_col5\" class=\"data row7 col5\" ><a target=\"_blank\" href=\"https://marketplace.sshopencloud.eu/training-material/R8Uj9l\">training-material/R8Uj9l</a></td>\n",
       "    </tr>\n",
       "    <tr>\n",
       "      <th id=\"T_f0ea5_level0_row8\" class=\"row_heading level0 row8\" >8</th>\n",
       "      <td id=\"T_f0ea5_row8_col0\" class=\"data row8 col0\" >vAbBMG</td>\n",
       "      <td id=\"T_f0ea5_row8_col1\" class=\"data row8 col1\" >training-material</td>\n",
       "      <td id=\"T_f0ea5_row8_col2\" class=\"data row8 col2\" >Onto Match Game</td>\n",
       "      <td id=\"T_f0ea5_row8_col3\" class=\"data row8 col3\" >standard:cidoc-crm, keyword:cidoc-crm</td>\n",
       "      <td id=\"T_f0ea5_row8_col4\" class=\"data row8 col4\" >['standard:cidoc-crm', 'keyword:cidoc-crm']</td>\n",
       "      <td id=\"T_f0ea5_row8_col5\" class=\"data row8 col5\" ><a target=\"_blank\" href=\"https://marketplace.sshopencloud.eu/training-material/vAbBMG\">training-material/vAbBMG</a></td>\n",
       "    </tr>\n",
       "    <tr>\n",
       "      <th id=\"T_f0ea5_level0_row9\" class=\"row_heading level0 row9\" >9</th>\n",
       "      <td id=\"T_f0ea5_row9_col0\" class=\"data row9 col0\" >DYykZw</td>\n",
       "      <td id=\"T_f0ea5_row9_col1\" class=\"data row9 col1\" >training-material</td>\n",
       "      <td id=\"T_f0ea5_row9_col2\" class=\"data row9 col2\" >Train-the-Trainers Package</td>\n",
       "      <td id=\"T_f0ea5_row9_col3\" class=\"data row9 col3\" >keyword:trainer, intended-audience:trainer</td>\n",
       "      <td id=\"T_f0ea5_row9_col4\" class=\"data row9 col4\" >['keyword:trainer', 'intended-audience:trainer']</td>\n",
       "      <td id=\"T_f0ea5_row9_col5\" class=\"data row9 col5\" ><a target=\"_blank\" href=\"https://marketplace.sshopencloud.eu/training-material/DYykZw\">training-material/DYykZw</a></td>\n",
       "    </tr>\n",
       "  </tbody>\n",
       "</table>\n"
      ],
      "text/plain": [
       "<pandas.io.formats.style.Styler at 0x131535e10>"
      ]
     },
     "execution_count": 5,
     "metadata": {},
     "output_type": "execute_result"
    }
   ],
   "source": [
    "df_dupl_props['MPUrl']=df_dupl_props['category']+'/'+df_dupl_props['persistentId']\n",
    "clickable_duplproptable = df_dupl_props.iloc[0:30].style.format({'MPUrl': utils.make_clickable})\n",
    "clickable_duplproptable"
   ]
  },
  {
   "cell_type": "markdown",
   "metadata": {},
   "source": [
    "#### 2. Updates keywords on MP"
   ]
  },
  {
   "cell_type": "code",
   "execution_count": null,
   "metadata": {},
   "outputs": [],
   "source": [
    "mpdata.removeDuplicatedProperties(df_dupl_props)"
   ]
  },
  {
   "cell_type": "code",
   "execution_count": null,
   "metadata": {},
   "outputs": [],
   "source": [
    "cases_df=df_dupl_props.groupby(['possibleDupProps'])['label'].count().reset_index(name='numberofcases')"
   ]
  },
  {
   "cell_type": "code",
   "execution_count": null,
   "metadata": {},
   "outputs": [],
   "source": [
    "\n",
    "cases_df.head(20)"
   ]
  },
  {
   "cell_type": "code",
   "execution_count": null,
   "metadata": {},
   "outputs": [],
   "source": []
  }
 ],
 "metadata": {
  "kernelspec": {
   "display_name": "Python 3 (ipykernel)",
   "language": "python",
   "name": "python3"
  },
  "language_info": {
   "codemirror_mode": {
    "name": "ipython",
    "version": 3
   },
   "file_extension": ".py",
   "mimetype": "text/x-python",
   "name": "python",
   "nbconvert_exporter": "python",
   "pygments_lexer": "ipython3",
   "version": "3.11.1"
  }
 },
 "nbformat": 4,
 "nbformat_minor": 4
}
