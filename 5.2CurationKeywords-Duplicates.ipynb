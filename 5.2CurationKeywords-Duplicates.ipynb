{
 "cells": [
  {
   "cell_type": "markdown",
   "metadata": {},
   "source": [
    "# Notebook 5.2 - Curation Keywords: Duplicates\n",
    "\n",
    "The final release of this notebook will implement the workflow to curate duplicated dynamic properties values.\n",
    "\n",
    "The notebook works as follows:\n",
    "\n",
    "0. Imports external libraries and loads the MP dataset and the google sheet\n",
    "1. Searches for possible duplicates in dynamic properties\n",
    "2. Removes duplicates and write data on MP dataset"
   ]
  },
  {
   "cell_type": "markdown",
   "metadata": {},
   "source": [
    "## 0 Requirements to run this notebook\n",
    "\n",
    "This section gives all the relevant information to \"interact\" with the MP data.\n",
    "\n",
    "### 0.1 libraries\n",
    "*There are a number of external libraries needed to run the notebook* \n",
    "\n",
    "*Furthermore, a dedicated SSH Open Marketplace library - sshmarketplacelib - with customised functions has been created and can be imported using the python import commands.* \n",
    "\n",
    "*Below the libraries import needed to run this notebook*"
   ]
  },
  {
   "cell_type": "code",
   "execution_count": null,
   "metadata": {},
   "outputs": [],
   "source": [
    "import numpy as np\n",
    "import pandas as pd\n",
    "import requests\n",
    "#import the MarketPlace Library \n",
    "from sshmarketplacelib import MPData as mpd\n",
    "from sshmarketplacelib import  eval as eva, helper as hel"
   ]
  },
  {
   "cell_type": "markdown",
   "metadata": {},
   "source": [
    "### 0.2 Get the data\n",
    "\n"
   ]
  },
  {
   "cell_type": "markdown",
   "metadata": {},
   "source": [
    "Get the MarketPlace dataset"
   ]
  },
  {
   "cell_type": "code",
   "execution_count": null,
   "metadata": {},
   "outputs": [],
   "source": [
    "mpdata = mpd()\n",
    "df_tool_flat =mpdata.getMPItems (\"toolsandservices\", True)\n",
    "df_publication_flat =mpdata.getMPItems (\"publications\", True)\n",
    "df_trainingmaterials_flat =mpdata.getMPItems (\"trainingmaterials\", True)\n",
    "df_workflows_flat =mpdata.getMPItems (\"workflows\", True)\n",
    "df_datasets_flat =mpdata.getMPItems (\"datasets\", True)"
   ]
  },
  {
   "cell_type": "code",
   "execution_count": null,
   "metadata": {},
   "outputs": [],
   "source": [
    "utils=hel.Util()\n",
    "resultfields=['persistentId', 'MPUrl', 'category', 'label', 'type.code', 'type.label', 'concept.code', 'concept.label', 'concept.uri', 'concept.vocabulary.scheme']\n",
    "udf_alprop=utils.getAllPropertiesBySources()\n",
    "udf_alprop=udf_alprop.loc[ : ,resultfields]"
   ]
  },
  {
   "cell_type": "markdown",
   "metadata": {},
   "source": [
    "### 1 Find duplicates in properties\n",
    "\n",
    "The code below checks all items and individuate those with possible duplicated dynamic properties."
   ]
  },
  {
   "cell_type": "code",
   "execution_count": null,
   "metadata": {},
   "outputs": [],
   "source": [
    "df_dupl_props = pd.DataFrame (columns = ['persistentId','category', 'label', 'possibleDupProps','pDProps'])\n",
    "duplKW={\"persistentId\": [], \"category\":[], \"label\":[], \"possibleDupProps\":[],\"pDProps\":[]}\n",
    "df_all_items=pd.concat([df_tool_flat, df_publication_flat, df_trainingmaterials_flat, df_workflows_flat, df_datasets_flat])\n",
    "for item in df_all_items.itertuples():\n",
    "    seen = set()\n",
    "    dupes = [x['concept']['code'].lower() for x in item.properties \n",
    "             if ((\"concept\" in x) and (x['concept']['code'].lower() in seen or seen.add(x['concept']['code'].lower())))]    \n",
    "    dupllist=[(f\"{x['type']['code'].lower()}:{x['concept']['code'].lower()}\") for x in item.properties \n",
    "              if (\"concept\" in x and x['concept']['code'].lower() in dupes)]\n",
    "    if (dupllist):\n",
    "        #print(dupes)\n",
    "        duplKW[\"persistentId\"].append(item.persistentId)\n",
    "        duplKW[\"category\"].append(item.category)\n",
    "        duplKW[\"label\"].append(item.label)\n",
    "        duplKW[\"possibleDupProps\"].append(\", \".join(dupllist))\n",
    "        duplKW[\"pDProps\"].append(dupllist)\n",
    "\n",
    "df_dupl_props = pd.DataFrame(duplKW)\n",
    "df_dupl_props.pDProps=df_dupl_props.pDProps.apply(lambda y: list(set(y)))\n",
    "df_dupl_props.head()"
   ]
  },
  {
   "cell_type": "code",
   "execution_count": null,
   "metadata": {},
   "outputs": [],
   "source": [
    "df_all_items.iloc[1].properties"
   ]
  },
  {
   "cell_type": "markdown",
   "metadata": {},
   "source": [
    "#### Example: a set of items with possible duplicated properties"
   ]
  },
  {
   "cell_type": "code",
   "execution_count": null,
   "metadata": {},
   "outputs": [],
   "source": [
    "df_dupl_props['MPUrl']=df_dupl_props['category']+'/'+df_dupl_props['persistentId']\n",
    "clickable_duplproptable = df_dupl_props.iloc[0:30].style.format({'MPUrl': utils.make_clickable})\n",
    "clickable_duplproptable"
   ]
  },
  {
   "cell_type": "markdown",
   "metadata": {},
   "source": [
    "#### 2. Removes duplicates and write data on MP dataset"
   ]
  },
  {
   "cell_type": "code",
   "execution_count": null,
   "metadata": {},
   "outputs": [],
   "source": [
    "mpdata.removeDuplicatedProperties(df_dupl_props)"
   ]
  },
  {
   "cell_type": "code",
   "execution_count": null,
   "metadata": {},
   "outputs": [],
   "source": [
    "#cases_df=df_dupl_props.groupby(['possibleDupProps'])['label'].count().reset_index(name='numberofcases')"
   ]
  },
  {
   "cell_type": "code",
   "execution_count": null,
   "metadata": {},
   "outputs": [],
   "source": [
    "\n",
    "#cases_df.head(20)"
   ]
  },
  {
   "cell_type": "code",
   "execution_count": null,
   "metadata": {},
   "outputs": [],
   "source": []
  }
 ],
 "metadata": {
  "kernelspec": {
   "display_name": "Python 3 (ipykernel)",
   "language": "python",
   "name": "python3"
  },
  "language_info": {
   "codemirror_mode": {
    "name": "ipython",
    "version": 3
   },
   "file_extension": ".py",
   "mimetype": "text/x-python",
   "name": "python",
   "nbconvert_exporter": "python",
   "pygments_lexer": "ipython3",
   "version": "3.11.1"
  }
 },
 "nbformat": 4,
 "nbformat_minor": 4
}
