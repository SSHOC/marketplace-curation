{
 "cells": [
  {
   "cell_type": "markdown",
   "metadata": {},
   "source": [
    "# Notebook 5.2 - Curation Keywords: Duplicates\n",
    "\n",
    "The final release of this notebook will implement the workflow to curate duplicated dynamic properties values.\n",
    "\n",
    "The notebook works as follows:\n",
    "\n",
    "0. Imports external libraries and loads the MP dataset and the google sheet\n",
    "1. Searches for possible duplicates in dynamic properties (Experimental)\n",
    "2. Updates keywords on MP as follows: _TBD_"
   ]
  },
  {
   "cell_type": "markdown",
   "metadata": {},
   "source": [
    "## 0 Requirements to run this notebook\n",
    "\n",
    "This section gives all the relevant information to \"interact\" with the MP data.\n",
    "\n",
    "### 0.1 libraries\n",
    "*There are a number of external libraries needed to run the notebook* \n",
    "\n",
    "*Furthermore, a dedicated SSH Open Marketplace library - sshmarketplacelib - with customised functions has been created and can be imported using the python import commands.* \n",
    "\n",
    "*Below the libraries import needed to run this notebook*"
   ]
  },
  {
   "cell_type": "code",
   "execution_count": 1,
   "metadata": {},
   "outputs": [],
   "source": [
    "import numpy as np\n",
    "import pandas as pd\n",
    "import requests\n",
    "#import the MarketPlace Library \n",
    "from sshmarketplacelib import MPData as mpd\n",
    "from sshmarketplacelib import  eval as eva, helper as hel"
   ]
  },
  {
   "cell_type": "markdown",
   "metadata": {},
   "source": [
    "### 0.2 Get the data\n",
    "\n"
   ]
  },
  {
   "cell_type": "markdown",
   "metadata": {},
   "source": [
    "Get the MarketPlace dataset"
   ]
  },
  {
   "cell_type": "code",
   "execution_count": 2,
   "metadata": {},
   "outputs": [
    {
     "name": "stdout",
     "output_type": "stream",
     "text": [
      "getting data from local repository...\n",
      "getting data from local repository...\n",
      "getting data from local repository...\n",
      "getting data from local repository...\n",
      "getting data from local repository...\n"
     ]
    }
   ],
   "source": [
    "mpdata = mpd()\n",
    "df_tool_flat =mpdata.getMPItems (\"toolsandservices\", True)\n",
    "df_publication_flat =mpdata.getMPItems (\"publications\", True)\n",
    "df_trainingmaterials_flat =mpdata.getMPItems (\"trainingmaterials\", True)\n",
    "df_workflows_flat =mpdata.getMPItems (\"workflows\", True)\n",
    "df_datasets_flat =mpdata.getMPItems (\"datasets\", True)"
   ]
  },
  {
   "cell_type": "markdown",
   "metadata": {},
   "source": [
    "Get the list of keywords from the [gsheet](https://docs.google.com/spreadsheets/d/1-Oh9_SxIhfMAT6KNJrMf4LetCpy5s1fHZEyTL__TUVA/edit#gid=0)"
   ]
  },
  {
   "cell_type": "code",
   "execution_count": 3,
   "metadata": {
    "scrolled": true
   },
   "outputs": [],
   "source": [
    "sheet_id = '1-Oh9_SxIhfMAT6KNJrMf4LetCpy5s1fHZEyTL__TUVA'\n",
    "sheet_name = 'Mappings'\n",
    "url = f'https://docs.google.com/spreadsheets/d/{sheet_id}/gviz/tq?tqx=out:csv&sheet={sheet_name}'\n",
    "df_keywords=pd.read_csv(url)"
   ]
  },
  {
   "cell_type": "markdown",
   "metadata": {},
   "source": [
    "The function *getMPConcepts()* is a custum function that uses the API entry: \n",
    "\n",
    "GET https://marketplace-api.sshopencloud.eu/api/concept-search?perpage=100&q=URI\n",
    "\n",
    "to get all the *concepts* from the MarketPlace dataset. \n",
    "\n",
    "**Note that executing this function may require some time, currently 14995 records are returned**\n",
    "\n"
   ]
  },
  {
   "cell_type": "code",
   "execution_count": 4,
   "metadata": {},
   "outputs": [],
   "source": [
    "#df_concepts=mpdata.getMPConcepts()"
   ]
  },
  {
   "cell_type": "code",
   "execution_count": 5,
   "metadata": {},
   "outputs": [],
   "source": [
    "utils=hel.Util()\n",
    "resultfields=['persistentId', 'MPUrl', 'category', 'label', 'type.code', 'type.label', 'concept.code', 'concept.label', 'concept.uri', 'concept.vocabulary.scheme']\n",
    "udf_alprop=utils.getAllPropertiesBySources()\n",
    "udf_alprop=udf_alprop.loc[ : ,resultfields]"
   ]
  },
  {
   "cell_type": "markdown",
   "metadata": {},
   "source": [
    "A few lines of the gsheet"
   ]
  },
  {
   "cell_type": "code",
   "execution_count": 6,
   "metadata": {},
   "outputs": [
    {
     "data": {
      "text/html": [
       "<div>\n",
       "<style scoped>\n",
       "    .dataframe tbody tr th:only-of-type {\n",
       "        vertical-align: middle;\n",
       "    }\n",
       "\n",
       "    .dataframe tbody tr th {\n",
       "        vertical-align: top;\n",
       "    }\n",
       "\n",
       "    .dataframe thead th {\n",
       "        text-align: right;\n",
       "    }\n",
       "</style>\n",
       "<table border=\"1\" class=\"dataframe\">\n",
       "  <thead>\n",
       "    <tr style=\"text-align: right;\">\n",
       "      <th></th>\n",
       "      <th>Keyword to map</th>\n",
       "      <th>Map to</th>\n",
       "      <th>Comment</th>\n",
       "      <th>Discussion</th>\n",
       "    </tr>\n",
       "  </thead>\n",
       "  <tbody>\n",
       "    <tr>\n",
       "      <th>0</th>\n",
       "      <td>Linguistics</td>\n",
       "      <td>https://vocabs.acdh.oeaw.ac.at/oefosdiscipline...</td>\n",
       "      <td>Sprach- und Literaturwissenschaften</td>\n",
       "      <td>NaN</td>\n",
       "    </tr>\n",
       "    <tr>\n",
       "      <th>1</th>\n",
       "      <td>History</td>\n",
       "      <td>https://vocabs.acdh.oeaw.ac.at/oefosdiscipline...</td>\n",
       "      <td>Geschichte, Archäologie</td>\n",
       "      <td>NaN</td>\n",
       "    </tr>\n",
       "    <tr>\n",
       "      <th>2</th>\n",
       "      <td>Literature</td>\n",
       "      <td>https://vocabs.acdh.oeaw.ac.at/oefosdiscipline...</td>\n",
       "      <td>Sprach- und Literaturwissenschaften</td>\n",
       "      <td>NaN</td>\n",
       "    </tr>\n",
       "    <tr>\n",
       "      <th>3</th>\n",
       "      <td>Video</td>\n",
       "      <td>https://vocabs.sshopencloud.eu/vocabularies/me...</td>\n",
       "      <td>video</td>\n",
       "      <td>NaN</td>\n",
       "    </tr>\n",
       "    <tr>\n",
       "      <th>4</th>\n",
       "      <td>Text</td>\n",
       "      <td>https://vocabs.sshopencloud.eu/vocabularies/me...</td>\n",
       "      <td>text</td>\n",
       "      <td>NaN</td>\n",
       "    </tr>\n",
       "  </tbody>\n",
       "</table>\n",
       "</div>"
      ],
      "text/plain": [
       "  Keyword to map                                             Map to  \\\n",
       "0    Linguistics  https://vocabs.acdh.oeaw.ac.at/oefosdiscipline...   \n",
       "1        History  https://vocabs.acdh.oeaw.ac.at/oefosdiscipline...   \n",
       "2     Literature  https://vocabs.acdh.oeaw.ac.at/oefosdiscipline...   \n",
       "3          Video  https://vocabs.sshopencloud.eu/vocabularies/me...   \n",
       "4           Text  https://vocabs.sshopencloud.eu/vocabularies/me...   \n",
       "\n",
       "                               Comment Discussion  \n",
       "0  Sprach- und Literaturwissenschaften        NaN  \n",
       "1              Geschichte, Archäologie        NaN  \n",
       "2  Sprach- und Literaturwissenschaften        NaN  \n",
       "3                                video        NaN  \n",
       "4                                 text        NaN  "
      ]
     },
     "execution_count": 6,
     "metadata": {},
     "output_type": "execute_result"
    }
   ],
   "source": [
    "df_keywords.head()"
   ]
  },
  {
   "cell_type": "markdown",
   "metadata": {},
   "source": [
    "### 1 Find duplicates in properties\n",
    "\n",
    "The code below checks all items and individuate those with possible duplicated dynamic properties."
   ]
  },
  {
   "cell_type": "code",
   "execution_count": 7,
   "metadata": {},
   "outputs": [
    {
     "data": {
      "text/html": [
       "<div>\n",
       "<style scoped>\n",
       "    .dataframe tbody tr th:only-of-type {\n",
       "        vertical-align: middle;\n",
       "    }\n",
       "\n",
       "    .dataframe tbody tr th {\n",
       "        vertical-align: top;\n",
       "    }\n",
       "\n",
       "    .dataframe thead th {\n",
       "        text-align: right;\n",
       "    }\n",
       "</style>\n",
       "<table border=\"1\" class=\"dataframe\">\n",
       "  <thead>\n",
       "    <tr style=\"text-align: right;\">\n",
       "      <th></th>\n",
       "      <th>persistentId</th>\n",
       "      <th>category</th>\n",
       "      <th>label</th>\n",
       "      <th>possibleDupProps</th>\n",
       "    </tr>\n",
       "  </thead>\n",
       "  <tbody>\n",
       "    <tr>\n",
       "      <th>1044</th>\n",
       "      <td>xIrlJz</td>\n",
       "      <td>dataset</td>\n",
       "      <td>Corpus of Soqotri Oral Literature</td>\n",
       "      <td>discipline: 6020, discipline: 6020</td>\n",
       "    </tr>\n",
       "    <tr>\n",
       "      <th>1045</th>\n",
       "      <td>sw65vM</td>\n",
       "      <td>dataset</td>\n",
       "      <td>Data for \"The Life Cycles of Genres\"</td>\n",
       "      <td>keyword: fiction, keyword: fiction</td>\n",
       "    </tr>\n",
       "    <tr>\n",
       "      <th>1046</th>\n",
       "      <td>Ihbwts</td>\n",
       "      <td>dataset</td>\n",
       "      <td>English Language Stop Words</td>\n",
       "      <td>object-format: text, object-format: text</td>\n",
       "    </tr>\n",
       "    <tr>\n",
       "      <th>1047</th>\n",
       "      <td>LRAZDl</td>\n",
       "      <td>dataset</td>\n",
       "      <td>ParIce</td>\n",
       "      <td>keyword: alignment, keyword: alignment</td>\n",
       "    </tr>\n",
       "    <tr>\n",
       "      <th>1048</th>\n",
       "      <td>dnEWZ8</td>\n",
       "      <td>dataset</td>\n",
       "      <td>The Sign Language Analyses (SLAY) Database</td>\n",
       "      <td>keyword: sign-languages, keyword: sign-languages</td>\n",
       "    </tr>\n",
       "  </tbody>\n",
       "</table>\n",
       "</div>"
      ],
      "text/plain": [
       "     persistentId category                                       label  \\\n",
       "1044       xIrlJz  dataset           Corpus of Soqotri Oral Literature   \n",
       "1045       sw65vM  dataset        Data for \"The Life Cycles of Genres\"   \n",
       "1046       Ihbwts  dataset                 English Language Stop Words   \n",
       "1047       LRAZDl  dataset                                      ParIce   \n",
       "1048       dnEWZ8  dataset  The Sign Language Analyses (SLAY) Database   \n",
       "\n",
       "                                      possibleDupProps  \n",
       "1044                discipline: 6020, discipline: 6020  \n",
       "1045                keyword: fiction, keyword: fiction  \n",
       "1046          object-format: text, object-format: text  \n",
       "1047            keyword: alignment, keyword: alignment  \n",
       "1048  keyword: sign-languages, keyword: sign-languages  "
      ]
     },
     "execution_count": 7,
     "metadata": {},
     "output_type": "execute_result"
    }
   ],
   "source": [
    "df_dupl_props = pd.DataFrame (columns = ['persistentId','category', 'label', 'possibleDupProps'])\n",
    "duplKW={\"persistentId\": [], \"category\":[], \"label\":[], \"possibleDupProps\":[]}\n",
    "df_all_items=pd.concat([df_tool_flat, df_publication_flat, df_trainingmaterials_flat, df_workflows_flat, df_datasets_flat])\n",
    "for item in df_all_items.itertuples():\n",
    "    seen = set()\n",
    "    dupes = [x['concept']['code'].lower() for x in item.properties \n",
    "             if ((\"concept\" in x) and (x['concept']['code'].lower() in seen or seen.add(x['concept']['code'].lower())))]    \n",
    "    dupllist=[(f\"{x['type']['code'].lower()}: {x['concept']['code'].lower()}\") for x in item.properties \n",
    "              if (\"concept\" in x and x['concept']['code'].lower() in dupes)]\n",
    "    if (dupllist):\n",
    "        duplKW[\"persistentId\"].append(item.persistentId)\n",
    "        duplKW[\"category\"].append(item.category)\n",
    "        duplKW[\"label\"].append(item.label)\n",
    "        duplKW[\"possibleDupProps\"].append(\", \".join(dupllist))\n",
    "\n",
    "df_dupl_props = pd.DataFrame(duplKW)\n",
    "      \n",
    "df_dupl_props.tail()"
   ]
  },
  {
   "cell_type": "markdown",
   "metadata": {},
   "source": [
    "#### Example: a set of items with possible duplicated properties"
   ]
  },
  {
   "cell_type": "code",
   "execution_count": 8,
   "metadata": {},
   "outputs": [
    {
     "data": {
      "text/html": [
       "<style type=\"text/css\">\n",
       "</style>\n",
       "<table id=\"T_6847a_\">\n",
       "  <thead>\n",
       "    <tr>\n",
       "      <th class=\"blank level0\" >&nbsp;</th>\n",
       "      <th class=\"col_heading level0 col0\" >persistentId</th>\n",
       "      <th class=\"col_heading level0 col1\" >category</th>\n",
       "      <th class=\"col_heading level0 col2\" >label</th>\n",
       "      <th class=\"col_heading level0 col3\" >possibleDupProps</th>\n",
       "      <th class=\"col_heading level0 col4\" >MPUrl</th>\n",
       "    </tr>\n",
       "  </thead>\n",
       "  <tbody>\n",
       "    <tr>\n",
       "      <th id=\"T_6847a_level0_row0\" class=\"row_heading level0 row0\" >0</th>\n",
       "      <td id=\"T_6847a_row0_col0\" class=\"data row0 col0\" >SIU1nO</td>\n",
       "      <td id=\"T_6847a_row0_col1\" class=\"data row0 col1\" >tool-or-service</td>\n",
       "      <td id=\"T_6847a_row0_col2\" class=\"data row0 col2\" >140kit</td>\n",
       "      <td id=\"T_6847a_row0_col3\" class=\"data row0 col3\" >activity: capturing, activity: analyzing, activity: analyzing, activity: capturing, activity: gathering, activity: gathering</td>\n",
       "      <td id=\"T_6847a_row0_col4\" class=\"data row0 col4\" ><a target=\"_blank\" href=\"https://marketplace.sshopencloud.eu/tool-or-service/SIU1nO\">tool-or-service/SIU1nO</a></td>\n",
       "    </tr>\n",
       "    <tr>\n",
       "      <th id=\"T_6847a_level0_row1\" class=\"row_heading level0 row1\" >1</th>\n",
       "      <td id=\"T_6847a_row1_col0\" class=\"data row1 col0\" >rdwzoM</td>\n",
       "      <td id=\"T_6847a_row1_col1\" class=\"data row1 col1\" >tool-or-service</td>\n",
       "      <td id=\"T_6847a_row1_col2\" class=\"data row1 col2\" >4th Dimension</td>\n",
       "      <td id=\"T_6847a_row1_col3\" class=\"data row1 col3\" >activity: webdevelopment, activity: webdevelopment</td>\n",
       "      <td id=\"T_6847a_row1_col4\" class=\"data row1 col4\" ><a target=\"_blank\" href=\"https://marketplace.sshopencloud.eu/tool-or-service/rdwzoM\">tool-or-service/rdwzoM</a></td>\n",
       "    </tr>\n",
       "    <tr>\n",
       "      <th id=\"T_6847a_level0_row2\" class=\"row_heading level0 row2\" >2</th>\n",
       "      <td id=\"T_6847a_row2_col0\" class=\"data row2 col0\" >XsXzlp</td>\n",
       "      <td id=\"T_6847a_row2_col1\" class=\"data row2 col1\" >tool-or-service</td>\n",
       "      <td id=\"T_6847a_row2_col2\" class=\"data row2 col2\" >80legs</td>\n",
       "      <td id=\"T_6847a_row2_col3\" class=\"data row2 col3\" >activity: analyzing, activity: discovering, activity: analyzing, activity: discovering, activity: analyzing</td>\n",
       "      <td id=\"T_6847a_row2_col4\" class=\"data row2 col4\" ><a target=\"_blank\" href=\"https://marketplace.sshopencloud.eu/tool-or-service/XsXzlp\">tool-or-service/XsXzlp</a></td>\n",
       "    </tr>\n",
       "    <tr>\n",
       "      <th id=\"T_6847a_level0_row3\" class=\"row_heading level0 row3\" >3</th>\n",
       "      <td id=\"T_6847a_row3_col0\" class=\"data row3 col0\" >uo4gCA</td>\n",
       "      <td id=\"T_6847a_row3_col1\" class=\"data row3 col1\" >tool-or-service</td>\n",
       "      <td id=\"T_6847a_row3_col2\" class=\"data row3 col2\" >960 Grid System</td>\n",
       "      <td id=\"T_6847a_row3_col3\" class=\"data row3 col3\" >activity: creating, activity: creating, activity: webdevelopment, activity: webdevelopment</td>\n",
       "      <td id=\"T_6847a_row3_col4\" class=\"data row3 col4\" ><a target=\"_blank\" href=\"https://marketplace.sshopencloud.eu/tool-or-service/uo4gCA\">tool-or-service/uo4gCA</a></td>\n",
       "    </tr>\n",
       "    <tr>\n",
       "      <th id=\"T_6847a_level0_row4\" class=\"row_heading level0 row4\" >4</th>\n",
       "      <td id=\"T_6847a_row4_col0\" class=\"data row4 col0\" >MXsRM1</td>\n",
       "      <td id=\"T_6847a_row4_col1\" class=\"data row4 col1\" >tool-or-service</td>\n",
       "      <td id=\"T_6847a_row4_col2\" class=\"data row4 col2\" >Abbot</td>\n",
       "      <td id=\"T_6847a_row4_col3\" class=\"data row4 col3\" >keyword: uncategorized, keyword: uncategorized</td>\n",
       "      <td id=\"T_6847a_row4_col4\" class=\"data row4 col4\" ><a target=\"_blank\" href=\"https://marketplace.sshopencloud.eu/tool-or-service/MXsRM1\">tool-or-service/MXsRM1</a></td>\n",
       "    </tr>\n",
       "    <tr>\n",
       "      <th id=\"T_6847a_level0_row5\" class=\"row_heading level0 row5\" >5</th>\n",
       "      <td id=\"T_6847a_row5_col0\" class=\"data row5 col0\" >gpYKo6</td>\n",
       "      <td id=\"T_6847a_row5_col1\" class=\"data row5 col1\" >tool-or-service</td>\n",
       "      <td id=\"T_6847a_row5_col2\" class=\"data row5 col2\" >ABBYY FineReader</td>\n",
       "      <td id=\"T_6847a_row5_col3\" class=\"data row5 col3\" >activity: capturing, activity: capturing</td>\n",
       "      <td id=\"T_6847a_row5_col4\" class=\"data row5 col4\" ><a target=\"_blank\" href=\"https://marketplace.sshopencloud.eu/tool-or-service/gpYKo6\">tool-or-service/gpYKo6</a></td>\n",
       "    </tr>\n",
       "    <tr>\n",
       "      <th id=\"T_6847a_level0_row6\" class=\"row_heading level0 row6\" >6</th>\n",
       "      <td id=\"T_6847a_row6_col0\" class=\"data row6 col0\" >LtXDGc</td>\n",
       "      <td id=\"T_6847a_row6_col1\" class=\"data row6 col1\" >tool-or-service</td>\n",
       "      <td id=\"T_6847a_row6_col2\" class=\"data row6 col2\" >ABFREQ</td>\n",
       "      <td id=\"T_6847a_row6_col3\" class=\"data row6 col3\" >activity: analyzing, activity: analyzing, activity: analyzing</td>\n",
       "      <td id=\"T_6847a_row6_col4\" class=\"data row6 col4\" ><a target=\"_blank\" href=\"https://marketplace.sshopencloud.eu/tool-or-service/LtXDGc\">tool-or-service/LtXDGc</a></td>\n",
       "    </tr>\n",
       "    <tr>\n",
       "      <th id=\"T_6847a_level0_row7\" class=\"row_heading level0 row7\" >7</th>\n",
       "      <td id=\"T_6847a_row7_col0\" class=\"data row7 col0\" >y2dwph</td>\n",
       "      <td id=\"T_6847a_row7_col1\" class=\"data row7 col1\" >tool-or-service</td>\n",
       "      <td id=\"T_6847a_row7_col2\" class=\"data row7 col2\" >Academia.edu</td>\n",
       "      <td id=\"T_6847a_row7_col3\" class=\"data row7 col3\" >activity: capturing, activity: collaborating, activity: publishing, activity: publishing, activity: collaborating, activity: capturing, activity: gathering, activity: gathering, activity: disseminating, activity: disseminating</td>\n",
       "      <td id=\"T_6847a_row7_col4\" class=\"data row7 col4\" ><a target=\"_blank\" href=\"https://marketplace.sshopencloud.eu/tool-or-service/y2dwph\">tool-or-service/y2dwph</a></td>\n",
       "    </tr>\n",
       "    <tr>\n",
       "      <th id=\"T_6847a_level0_row8\" class=\"row_heading level0 row8\" >8</th>\n",
       "      <td id=\"T_6847a_row8_col0\" class=\"data row8 col0\" >j4uXG0</td>\n",
       "      <td id=\"T_6847a_row8_col1\" class=\"data row8 col1\" >tool-or-service</td>\n",
       "      <td id=\"T_6847a_row8_col2\" class=\"data row8 col2\" >Acronym Finder - Beta (TAPoRware)</td>\n",
       "      <td id=\"T_6847a_row8_col3\" class=\"data row8 col3\" >keyword: uncategorized, keyword: uncategorized</td>\n",
       "      <td id=\"T_6847a_row8_col4\" class=\"data row8 col4\" ><a target=\"_blank\" href=\"https://marketplace.sshopencloud.eu/tool-or-service/j4uXG0\">tool-or-service/j4uXG0</a></td>\n",
       "    </tr>\n",
       "    <tr>\n",
       "      <th id=\"T_6847a_level0_row9\" class=\"row_heading level0 row9\" >9</th>\n",
       "      <td id=\"T_6847a_row9_col0\" class=\"data row9 col0\" >j8MRN1</td>\n",
       "      <td id=\"T_6847a_row9_col1\" class=\"data row9 col1\" >tool-or-service</td>\n",
       "      <td id=\"T_6847a_row9_col2\" class=\"data row9 col2\" >Active Server Pages (ASP)</td>\n",
       "      <td id=\"T_6847a_row9_col3\" class=\"data row9 col3\" >activity: publishing, activity: publishing, activity: webdevelopment, activity: webdevelopment</td>\n",
       "      <td id=\"T_6847a_row9_col4\" class=\"data row9 col4\" ><a target=\"_blank\" href=\"https://marketplace.sshopencloud.eu/tool-or-service/j8MRN1\">tool-or-service/j8MRN1</a></td>\n",
       "    </tr>\n",
       "  </tbody>\n",
       "</table>\n"
      ],
      "text/plain": [
       "<pandas.io.formats.style.Styler at 0x11503ee90>"
      ]
     },
     "execution_count": 8,
     "metadata": {},
     "output_type": "execute_result"
    }
   ],
   "source": [
    "df_dupl_props['MPUrl']=df_dupl_props['category']+'/'+df_dupl_props['persistentId']\n",
    "clickable_duplproptable = df_dupl_props.iloc[0:10].style.format({'MPUrl': utils.make_clickable})\n",
    "clickable_duplproptable"
   ]
  },
  {
   "cell_type": "code",
   "execution_count": null,
   "metadata": {},
   "outputs": [],
   "source": []
  }
 ],
 "metadata": {
  "kernelspec": {
   "display_name": "Python 3 (ipykernel)",
   "language": "python",
   "name": "python3"
  },
  "language_info": {
   "codemirror_mode": {
    "name": "ipython",
    "version": 3
   },
   "file_extension": ".py",
   "mimetype": "text/x-python",
   "name": "python",
   "nbconvert_exporter": "python",
   "pygments_lexer": "ipython3",
   "version": "3.10.0"
  }
 },
 "nbformat": 4,
 "nbformat_minor": 4
}
