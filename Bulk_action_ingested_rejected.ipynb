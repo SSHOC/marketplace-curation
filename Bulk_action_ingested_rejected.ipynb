{
 "cells": [
  {
   "cell_type": "markdown",
   "metadata": {},
   "source": [
    "This notebook explores possibilities to perform bulk actions on the SSH Open Marketplace. Start with mass rejection of ingested items (CLARIN resource families)."
   ]
  },
  {
   "cell_type": "code",
   "execution_count": null,
   "metadata": {},
   "outputs": [],
   "source": [
    "import pandas as pd #to manage dataframes\n",
    "import json #to manage json objects\n",
    "import requests #to interact with the API\n",
    "#import the MarketPlace Library \n",
    "from sshmarketplacelib import MPData as mpd\n",
    "from sshmarketplacelib import eval as eva, helper as hel"
   ]
  },
  {
   "cell_type": "code",
   "execution_count": null,
   "metadata": {},
   "outputs": [],
   "source": [
    "mpdata = mpd()\n",
    "utils=hel.Util()\n",
    "check=eva.URLCheck()"
   ]
  },
  {
   "cell_type": "code",
   "execution_count": null,
   "metadata": {},
   "outputs": [],
   "source": [
    "\n",
    "bearer=mpdata.checkCredentials()\n",
    "headers = {'Authorization':bearer}\n",
    "status = 'ingested'\n",
    "source = 'CLARIN Resource Families'\n",
    "url = 'https://sshoc-marketplace-api-stage.acdh-dev.oeaw.ac.at/api/item-search?d.status='+status+'&f.source='+source\n",
    "r2 = requests.get(url, headers=headers).json()\n",
    "\n",
    "items =[]\n",
    "for page in range(0, r2['pages']+1):\n",
    "    dataclarin = requests.get(url, headers=headers).json()\n",
    "    number_items = len(dataclarin['items'])\n",
    "    for x in range(0, number_items):\n",
    "        items.append(dataclarin['items'][x])\n",
    "    \n",
    "df = pd.DataFrame(items)\n",
    "df"
   ]
  },
  {
   "cell_type": "code",
   "execution_count": null,
   "metadata": {},
   "outputs": [],
   "source": [
    "bearer=mpdata.checkCredentials()\n",
    "headers = {'Authorization':bearer}\n",
    "for row in df.index:\n",
    "    ID = df['persistentId'][row]\n",
    "    url = 'https://sshoc-marketplace-api-stage.acdh-dev.oeaw.ac.at/api/datasets/'+ID\n",
    "    delete_item = requests.delete(url, headers=headers)\n",
    "    print(delete_item)"
   ]
  }
 ],
 "metadata": {
  "kernelspec": {
   "display_name": "Python 3",
   "language": "python",
   "name": "python3"
  },
  "language_info": {
   "codemirror_mode": {
    "name": "ipython",
    "version": 3
   },
   "file_extension": ".py",
   "mimetype": "text/x-python",
   "name": "python",
   "nbconvert_exporter": "python",
   "pygments_lexer": "ipython3",
   "version": "3.8.5"
  }
 },
 "nbformat": 4,
 "nbformat_minor": 4
}
