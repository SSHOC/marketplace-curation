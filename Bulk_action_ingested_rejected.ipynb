{
 "cells": [
  {
   "cell_type": "markdown",
   "metadata": {},
   "source": [
    "This notebook explores possibilities to perform bulk actions on the SSH Open Marketplace. Start with mass rejection of ingested items (CLARIN resource families)."
   ]
  },
  {
   "cell_type": "code",
   "execution_count": null,
   "metadata": {},
   "outputs": [],
   "source": [
    "import pandas as pd #to manage dataframes\n",
    "import json #to manage json objects\n",
    "import requests #to interact with the API\n",
    "#import the MarketPlace Library \n",
    "from sshmarketplacelib import MPData as mpd\n",
    "from sshmarketplacelib import eval as eva, helper as hel"
   ]
  },
  {
   "cell_type": "code",
   "execution_count": null,
   "metadata": {},
   "outputs": [],
   "source": [
    "mpdata = mpd()\n",
    "utils=hel.Util()\n",
    "check=eva.URLCheck()"
   ]
  },
  {
   "cell_type": "code",
   "execution_count": null,
   "metadata": {},
   "outputs": [],
   "source": [
    "import urllib\n",
    "from urllib.parse import urlparse\n",
    "bearer=mpdata.checkCredentials()\n",
    "headers = {'Authorization':bearer}\n",
    "status = 'ingested'\n",
    "source = 'CLARIN Resource Families'\n",
    "\n",
    "# The 'urllib.parse.quote(source)' added for the value of 'f.source' is not mandatory, \n",
    "# but it is a good pratice to encode strings used to build URLs\n",
    "# when it may contain blanks, as it is in this case, or other special characters.\n",
    "\n",
    "url = 'https://sshoc-marketplace-api-stage.acdh-dev.oeaw.ac.at/api/item-search?d.status='+status+'&f.source='+urllib.parse.quote(source)\n",
    "\n",
    "r2 = requests.get(url, headers=headers).json()\n",
    "items =[]\n",
    "for page in range(1, r2['pages']+1): # page numbers start from 1\n",
    "    \n",
    "    # The value of the 'page' parameter in the URL must be changed, otherwise\n",
    "    # the same set of items is returned in every iteration\n",
    "    \n",
    "    dataclarin = requests.get(url+'&page='+str(page), headers=headers).json()\n",
    "    \n",
    "    number_items = len(dataclarin['items']) #good\n",
    "    for x in range(0, number_items):\n",
    "        items.append(dataclarin['items'][x])\n",
    "    \n",
    "df = pd.DataFrame(items)\n",
    "df.head()"
   ]
  },
  {
   "cell_type": "markdown",
   "metadata": {},
   "source": [
    "#### The code below seems ok! \n",
    "\n",
    "Just one suggestion, a faster code to iterate over the dataframe would be:\n",
    "\n",
    "    for item in df.itertuples():\n",
    "        ID = item.persistentId\n",
    "        url = 'https://sshoc-marketplace-api-stage.acdh-dev.oeaw.ac.at/api/datasets/'+ID\n",
    "        ...\n",
    " \n",
    "When possible it is better to use 'itertuples()' over 'index'"
   ]
  },
  {
   "cell_type": "code",
   "execution_count": null,
   "metadata": {},
   "outputs": [],
   "source": [
    "bearer=mpdata.checkCredentials()\n",
    "headers = {'Authorization':bearer}\n",
    "for row in df.index:\n",
    "    ID = df['persistentId'][row]\n",
    "    url = 'https://sshoc-marketplace-api-stage.acdh-dev.oeaw.ac.at/api/datasets/'+ID\n",
    "    #delete_item = requests.delete(url, headers=headers)\n",
    "    #print(delete_item)"
   ]
  },
  {
   "cell_type": "code",
   "execution_count": null,
   "metadata": {},
   "outputs": [],
   "source": []
  }
 ],
 "metadata": {
  "kernelspec": {
   "display_name": "Python 3 (ipykernel)",
   "language": "python",
   "name": "python3"
  },
  "language_info": {
   "codemirror_mode": {
    "name": "ipython",
    "version": 3
   },
   "file_extension": ".py",
   "mimetype": "text/x-python",
   "name": "python",
   "nbconvert_exporter": "python",
   "pygments_lexer": "ipython3",
   "version": "3.11.1"
  }
 },
 "nbformat": 4,
 "nbformat_minor": 4
}
