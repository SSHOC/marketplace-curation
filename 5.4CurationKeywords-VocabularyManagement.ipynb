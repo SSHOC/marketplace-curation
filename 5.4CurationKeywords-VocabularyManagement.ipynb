{
 "cells": [
  {
   "cell_type": "code",
   "execution_count": null,
   "id": "d083b188",
   "metadata": {},
   "outputs": [],
   "source": [
    "import numpy as np\n",
    "import pandas as pd\n",
    "import requests\n",
    "#The SKOS Graph management libraries\n",
    "import rdflib\n",
    "from rdflib import URIRef, BNode, Literal\n",
    "from rdflib.namespace import RDF, SKOS\n",
    "#import the MarketPlace Library \n",
    "from sshmarketplacelib import MPData as mpd\n",
    "from sshmarketplacelib import  eval as eva, helper as hel"
   ]
  },
  {
   "cell_type": "code",
   "execution_count": null,
   "id": "b0de2d49",
   "metadata": {},
   "outputs": [],
   "source": [
    "mpdata = mpd()\n",
    "df_tool_flat =mpdata.getMPItems (\"toolsandservices\", True)\n",
    "df_publication_flat =mpdata.getMPItems (\"publications\", True)\n",
    "df_trainingmaterials_flat =mpdata.getMPItems (\"trainingmaterials\", True)\n",
    "df_workflows_flat =mpdata.getMPItems (\"workflows\", True)\n",
    "df_datasets_flat =mpdata.getMPItems (\"datasets\", True)"
   ]
  },
  {
   "cell_type": "markdown",
   "id": "32050055",
   "metadata": {},
   "source": [
    "#### Get the dataframe containing items and their properties"
   ]
  },
  {
   "cell_type": "code",
   "execution_count": null,
   "id": "9eea3da4",
   "metadata": {},
   "outputs": [],
   "source": [
    "utils=hel.Util()\n",
    "resultfields=['persistentId', 'MPUrl', 'category', 'label', 'type.code', 'type.label', 'concept.code', 'concept.label', 'concept.uri', 'concept.vocabulary.scheme']\n",
    "udf_alprop=utils.getAllPropertiesBySources()\n",
    "udf_alprop=udf_alprop.loc[ : ,resultfields]"
   ]
  },
  {
   "cell_type": "markdown",
   "id": "4e6ab296",
   "metadata": {},
   "source": [
    "#### Get the keywords vocabulary as RDF graph\n",
    "\n",
    "The following cell creates an RDF Graph containing the [vocabulary of the SSHOC keywords](https://vocabs-downloads.acdh.oeaw.ac.at/vocabs-common/SSHOpenMarketplace/sshomp-keyword/sshomp-keyword.ttl), downloaded in ttl format."
   ]
  },
  {
   "cell_type": "code",
   "execution_count": null,
   "id": "ea01d1f1",
   "metadata": {},
   "outputs": [],
   "source": [
    "#create an RDF Graph\n",
    "keywords_rdf = rdflib.Graph() \n",
    "#insert in the graph the SKOS vocabulary file obtained from the SSH Vocabulary Commons server\n",
    "keywords_rdf.parse(\"https://vocabs-downloads.acdh.oeaw.ac.at/vocabs-common/SSHOpenMarketplace/sshomp-keyword/sshomp-keyword.ttl\", format=\"turtle\")"
   ]
  },
  {
   "cell_type": "markdown",
   "id": "3bfcb45a",
   "metadata": {},
   "source": [
    "Test if the voabulary is correctly downloaded by checking if two keywords are present in it"
   ]
  },
  {
   "cell_type": "code",
   "execution_count": null,
   "id": "ff64b15a",
   "metadata": {},
   "outputs": [],
   "source": [
    "k = URIRef(\"https://vocabs.sshopencloud.eu/vocabularies/sshomp-keyword/mushrooms\")\n",
    "if (k, RDF.type, SKOS.Concept) in keywords_rdf:\n",
    "    print(f\"This graph knows that {k} is a Concept!\")\n",
    "kl=Literal('media', lang='en')\n",
    "if (None, SKOS.prefLabel, kl) in keywords_rdf:\n",
    "    print(f\"This graph knows that {kl} is a preferred label for a Concept!\")"
   ]
  },
  {
   "cell_type": "markdown",
   "id": "eca5e68a",
   "metadata": {},
   "source": [
    "Filter the dataframe of items selecting only keywords"
   ]
  },
  {
   "cell_type": "code",
   "execution_count": null,
   "id": "c217cca9",
   "metadata": {},
   "outputs": [],
   "source": [
    "itemswkws=udf_alprop[udf_alprop['type.label']=='Keyword']\n",
    "#itemswkws.head()"
   ]
  },
  {
   "cell_type": "markdown",
   "id": "35b2be97",
   "metadata": {},
   "source": [
    "#### Navigate the RDF Graph and for every Concept print if it has a 'label', a 'notation' or neither"
   ]
  },
  {
   "cell_type": "code",
   "execution_count": null,
   "id": "b8ee78f2",
   "metadata": {},
   "outputs": [],
   "source": [
    "for s, p, o in keywords_rdf.triples((None, RDF.type, SKOS.Concept)):\n",
    "    if (s, SKOS.prefLabel, None) in keywords_rdf:\n",
    "        print(f\"The Concept {s} has a label property, value is:\")\n",
    "        print(keywords_rdf.value(s, SKOS.prefLabel, None))\n",
    "        continue;\n",
    "    if (s, SKOS.notation, None) in keywords_rdf:\n",
    "        print(f\"The Concept {s} has a notation property, value is:\")\n",
    "        print(keywords_rdf.value(s, SKOS.notation, None))\n",
    "        continue\n",
    "    else:\n",
    "        print(f\"The Concept: \\n{s}\\ndoes not have label or notation\")"
   ]
  },
  {
   "cell_type": "markdown",
   "id": "c2a045d7",
   "metadata": {},
   "source": [
    "#### Iterate on the dataframe containing keywords to check if they have a Vocabulary entry with a label or a notation, create a dataframe of keywords not having such entries"
   ]
  },
  {
   "cell_type": "code",
   "execution_count": null,
   "id": "c909579c",
   "metadata": {},
   "outputs": [],
   "source": [
    "itemsnokw=pd.DataFrame()\n",
    "for n, row in itemswkws.iterrows():\n",
    "    pk=row['concept.label']\n",
    "    if ('http' in pk):\n",
    "        continue\n",
    "    kl=Literal(pk, lang='en')\n",
    "    kn=Literal(pk)\n",
    "    if (None, SKOS.prefLabel, kl) in keywords_rdf:\n",
    "        continue\n",
    "    if (None, SKOS.notation, kn) in keywords_rdf:\n",
    "#         s=keywords_rdf.value(None, SKOS.notation, kn)\n",
    "#         print(s)\n",
    "#         sub=URIRef(s)\n",
    "#         myLabel=Literal(kn, lang='en')\n",
    "#         keywords_rdf.add((sub, SKOS.prefLabel, myLabel))\n",
    "        continue\n",
    "          \n",
    "    print (f\"Warning {pk} is a Concept URI not having label or notation\")\n",
    "#     pku=pk.replace(\" \",\"+\")\n",
    "#     ku=URIRef(f'https://vocabs.sshopencloud.eu/vocabularies/sshomp-keyword/{pku}')\n",
    "#     myLabel=Literal(pk.replace('+', ' '), lang='en')\n",
    "#     keywords_rdf.add((ku, SKOS.prefLabel, myLabel))\n",
    "    muit={}\n",
    "    muit['MPUrl']=row.MPUrl\n",
    "    muit['label']=row.label\n",
    "    muit['code']=row['concept.code']\n",
    "    muit['code.uri']=row['concept.uri']\n",
    "    itemsnokw=itemsnokw.append(muit,  ignore_index=True)"
   ]
  },
  {
   "cell_type": "code",
   "execution_count": null,
   "id": "148fe561",
   "metadata": {},
   "outputs": [],
   "source": [
    "itemsnokw.head()"
   ]
  },
  {
   "cell_type": "code",
   "execution_count": null,
   "id": "092097c9",
   "metadata": {},
   "outputs": [],
   "source": []
  }
 ],
 "metadata": {
  "kernelspec": {
   "display_name": "Python 3 (ipykernel)",
   "language": "python",
   "name": "python3"
  },
  "language_info": {
   "codemirror_mode": {
    "name": "ipython",
    "version": 3
   },
   "file_extension": ".py",
   "mimetype": "text/x-python",
   "name": "python",
   "nbconvert_exporter": "python",
   "pygments_lexer": "ipython3",
   "version": "3.11.1"
  }
 },
 "nbformat": 4,
 "nbformat_minor": 5
}
