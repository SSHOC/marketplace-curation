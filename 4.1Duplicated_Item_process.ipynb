{
 "cells": [
  {
   "cell_type": "markdown",
   "metadata": {},
   "source": [
    "# Notebook 4.1 - Process duplicated items\n",
    "\n",
    "the same entity should only be referenced once in the SSH Open Marketplace. Duplicate items should be merged to ensure the coherence of the items showcased in the portal. This notebook is used to identify duplicates and to create merged items in the MP."
   ]
  },
  {
   "cell_type": "markdown",
   "metadata": {},
   "source": [
    "### Libraries"
   ]
  },
  {
   "cell_type": "code",
   "execution_count": 1,
   "metadata": {},
   "outputs": [],
   "source": [
    "import pandas as pd #to manage dataframes\n",
    "import json #to manage json objects\n",
    "#import the MarketPlace Library \n",
    "from sshmarketplacelib import MPData as mpd\n",
    "from sshmarketplacelib import  eval as eva, helper as hel"
   ]
  },
  {
   "cell_type": "markdown",
   "metadata": {},
   "source": [
    "### Data(frames) download"
   ]
  },
  {
   "cell_type": "code",
   "execution_count": 3,
   "metadata": {},
   "outputs": [
    {
     "name": "stdout",
     "output_type": "stream",
     "text": [
      "getting data from local repository...\n",
      "getting data from local repository...\n",
      "getting data from local repository...\n",
      "getting data from local repository...\n"
     ]
    }
   ],
   "source": [
    "mpdata = mpd()\n",
    "df_tool_flat =mpdata.getMPItems (\"toolsandservices\", True)\n",
    "df_publication_flat =mpdata.getMPItems (\"publications\", True)\n",
    "df_trainingmaterials_flat =mpdata.getMPItems (\"trainingmaterials\", False)\n",
    "df_workflows_flat =mpdata.getMPItems (\"workflows\", True)\n",
    "df_datasets_flat =mpdata.getMPItems (\"datasets\", True)"
   ]
  },
  {
   "cell_type": "markdown",
   "metadata": {},
   "source": [
    "### Identify the duplicates\n",
    "\n",
    "Duplicates are individuated for every category by defining the attributes that should be inspected to identify equal items. In the next cell the function __getDuplicates(category, attributes)__ is invoked to get for every category the subset of items having the same value in the 'attribute' `label`, each set of duplicated items is stored in a variable."
   ]
  },
  {
   "cell_type": "code",
   "execution_count": null,
   "metadata": {},
   "outputs": [],
   "source": [
    "utils=hel.Util()\n",
    "filter_attribute='label'\n",
    "df_tool_duplicates=utils.getDuplicates(df_tool_flat, filter_attribute)\n",
    "df_publication_duplicates=utils.getDuplicates(df_publication_flat, filter_attribute)\n",
    "df_trainingmaterials_duplicates=utils.getDuplicates(df_trainingmaterials_flat, filter_attribute)\n",
    "df_workflows_duplicates=utils.getDuplicates(df_workflows_flat, filter_attribute)\n",
    "df_datasets_duplicates=utils.getDuplicates(df_datasets_flat, filter_attribute)"
   ]
  },
  {
   "cell_type": "code",
   "execution_count": null,
   "metadata": {},
   "outputs": [],
   "source": [
    "print (f'Using the attribute \"{filter_attribute}\" as filter, there are: {df_tool_duplicates.shape[0]} duplicated tools, {df_publication_duplicates.shape[0]} duplicated publications,'\n",
    "       +f' {df_trainingmaterials_duplicates.shape[0]} duplicated training materials,'+\n",
    "      f' {df_workflows_duplicates.shape[0]} duplicated workflows,'+\n",
    "      f' {df_datasets_duplicates.shape[0]} duplicated datasets')"
   ]
  },
  {
   "cell_type": "code",
   "execution_count": null,
   "metadata": {},
   "outputs": [],
   "source": [
    "item_vis_mask=['MPUrl','persistentId', 'label', 'accessibleAt', 'source.label']\n",
    "df_tool_duplicates[item_vis_mask].head(6)"
   ]
  },
  {
   "cell_type": "code",
   "execution_count": null,
   "metadata": {},
   "outputs": [],
   "source": [
    "clickable_cmp_table = df_tool_duplicates[item_vis_mask].style.format({'MPUrl': utils.make_clickable})\n",
    "clickable_cmp_table"
   ]
  },
  {
   "cell_type": "markdown",
   "metadata": {},
   "source": [
    "### Obtain the merged item and view it\n",
    "The function __getMergedItem(category, pids)__ takes the category of the items to be merged and the list of *persistentId* of the items to be merged.  \n",
    "It returns two values: \n",
    "<ul><li>a dataframe that can be print to inspect the merged items</li><li>a JSon that must be used as parameter in the function that writes back the merged item to the MP dataset</li></ul>\n",
    "In the next two cells the function is invoked and the result is printed "
   ]
  },
  {
   "cell_type": "code",
   "execution_count": null,
   "metadata": {},
   "outputs": [],
   "source": [
    "category=\"toolsandservices\"\n",
    "#persistentId of duplicated items\n",
    "#pids=\"C75gkx, XE6Spj\"\n",
    "pids=\"bKefY4, mTDlTo\"\n",
    "#create the data frame\n",
    "persistentids=pids.replace(\" \", \"\").split(',')\n",
    "compareitems=df_tool_duplicates[df_tool_duplicates.persistentId.isin(persistentids)]"
   ]
  },
  {
   "cell_type": "code",
   "execution_count": null,
   "metadata": {},
   "outputs": [],
   "source": [
    "css_equal=\"font-size:1.5rem; border: 2px solid silver;background-color: white; padding: 10px 20px\"\n",
    "css_diff=\"background-color: lightyellow;  font-size:1.5rem; border: 2px solid silver; padding: 10px 20px\""
   ]
  },
  {
   "cell_type": "code",
   "execution_count": null,
   "metadata": {},
   "outputs": [],
   "source": [
    "#view items\n",
    "showdiff = compareitems.T.style.apply(lambda x: [css_equal if ((len(utils.lists_to_list(x.values))==1)) else css_diff for i in x],\n",
    "                    axis=1)\n",
    "showdiff"
   ]
  },
  {
   "cell_type": "code",
   "execution_count": null,
   "metadata": {},
   "outputs": [],
   "source": [
    "#get the merged item\n",
    "mergeditem=mpdata.getMergedItem(category, pids)"
   ]
  },
  {
   "cell_type": "markdown",
   "metadata": {},
   "source": [
    "check the merged item"
   ]
  },
  {
   "cell_type": "code",
   "execution_count": null,
   "metadata": {},
   "outputs": [],
   "source": [
    "mergeditem[0].head(30).style.set_properties(**{'width': '75% ; border: 1px solid silver;background-color: lightblue; padding: 10px 20px'})"
   ]
  },
  {
   "cell_type": "markdown",
   "metadata": {},
   "source": [
    "The function __postMergedItem(JSonItem, pids)__ stores the merged item into the MP dataset. It takes the merged item as a JSon object, and the list of *persistentId* ids of the merged items.\n"
   ]
  },
  {
   "cell_type": "code",
   "execution_count": null,
   "metadata": {},
   "outputs": [],
   "source": [
    "mpdata.postMergedItem(mergeditem[1], pids)"
   ]
  },
  {
   "cell_type": "code",
   "execution_count": null,
   "metadata": {},
   "outputs": [],
   "source": []
  }
 ],
 "metadata": {
  "kernelspec": {
   "display_name": "Python 3",
   "language": "python",
   "name": "python3"
  },
  "language_info": {
   "codemirror_mode": {
    "name": "ipython",
    "version": 3
   },
   "file_extension": ".py",
   "mimetype": "text/x-python",
   "name": "python",
   "nbconvert_exporter": "python",
   "pygments_lexer": "ipython3",
   "version": "3.8.5"
  }
 },
 "nbformat": 4,
 "nbformat_minor": 5
}
