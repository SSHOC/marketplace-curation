{
 "cells": [
  {
   "cell_type": "markdown",
   "metadata": {},
   "source": [
    "# Notebook 5.1 - Curation-Keywords (alpha release)\n",
    "\n",
    "The final release of this notebook will implement the workflow defined in:\n",
    "\n",
    "[Curating keywords](https://gitlab.gwdg.de/sshoc/marketplace-curation/-/issues/1#note_71056) GitLab issue\n",
    "\n",
    "The notebook is composed of 4 sections:\n",
    "\n",
    "0. Import external libraries and loads the MP dataset and the google sheet\n",
    "1. Look for vocabulary terms with the value from the column *Keyword to map*\n",
    "2. Look for the term in the column *Map to*\n",
    "3. Go through all MP items to look for the *keywords-to-map* in the keyword-dynamic-property\n"
   ]
  },
  {
   "cell_type": "markdown",
   "metadata": {},
   "source": [
    "## 0 Requirements to run this notebook\n",
    "\n",
    "This section gives all the relevant information to \"interact\" with the MP data.\n",
    "\n",
    "### 0.1 libraries\n",
    "*There are a number of external libraries needed to run the notebook* \n",
    "\n",
    "*Furthermore, a dedicated SSH Open Marketplace library - sshmarketplacelib - with customised functions has been created and can be imported using the python import commands.* \n",
    "\n",
    "*Below the libraries import needed to run this notebook*"
   ]
  },
  {
   "cell_type": "code",
   "execution_count": 1,
   "metadata": {},
   "outputs": [],
   "source": [
    "import numpy as np\n",
    "import pandas as pd\n",
    "import requests\n",
    "#import the MarketPlace Library \n",
    "from sshmarketplacelib import MPData as mpd\n",
    "from sshmarketplacelib import  eval as eva, helper as hel"
   ]
  },
  {
   "cell_type": "markdown",
   "metadata": {},
   "source": [
    "### 0.2 Get the data\n",
    "\n"
   ]
  },
  {
   "cell_type": "markdown",
   "metadata": {},
   "source": [
    "Get the MarketPlace dataset"
   ]
  },
  {
   "cell_type": "code",
   "execution_count": 2,
   "metadata": {},
   "outputs": [
    {
     "name": "stdout",
     "output_type": "stream",
     "text": [
      "getting data from local repository...\n",
      "getting data from local repository...\n",
      "getting data from local repository...\n",
      "getting data from local repository...\n",
      "getting data from local repository...\n"
     ]
    }
   ],
   "source": [
    "mpdata = mpd()\n",
    "df_tool_flat =mpdata.getMPItems (\"toolsandservices\", True)\n",
    "df_publication_flat =mpdata.getMPItems (\"publications\", True)\n",
    "df_trainingmaterials_flat =mpdata.getMPItems (\"trainingmaterials\", True)\n",
    "df_workflows_flat =mpdata.getMPItems (\"workflows\", True)\n",
    "df_datasets_flat =mpdata.getMPItems (\"datasets\", True)"
   ]
  },
  {
   "cell_type": "markdown",
   "metadata": {},
   "source": [
    "Get the list of keywords from the [gsheet](https://docs.google.com/spreadsheets/d/1-Oh9_SxIhfMAT6KNJrMf4LetCpy5s1fHZEyTL__TUVA/edit#gid=0)"
   ]
  },
  {
   "cell_type": "code",
   "execution_count": 3,
   "metadata": {
    "scrolled": true
   },
   "outputs": [],
   "source": [
    "sheet_id = '1-Oh9_SxIhfMAT6KNJrMf4LetCpy5s1fHZEyTL__TUVA'\n",
    "sheet_name = 'Mappings'\n",
    "url = f'https://docs.google.com/spreadsheets/d/{sheet_id}/gviz/tq?tqx=out:csv&sheet={sheet_name}'\n",
    "df_keywords=pd.read_csv(url)"
   ]
  },
  {
   "cell_type": "markdown",
   "metadata": {},
   "source": [
    "### 0.3 A look at the data"
   ]
  },
  {
   "cell_type": "markdown",
   "metadata": {},
   "source": [
    "A few lines of the gsheet"
   ]
  },
  {
   "cell_type": "code",
   "execution_count": 4,
   "metadata": {},
   "outputs": [
    {
     "data": {
      "text/html": [
       "<div>\n",
       "<style scoped>\n",
       "    .dataframe tbody tr th:only-of-type {\n",
       "        vertical-align: middle;\n",
       "    }\n",
       "\n",
       "    .dataframe tbody tr th {\n",
       "        vertical-align: top;\n",
       "    }\n",
       "\n",
       "    .dataframe thead th {\n",
       "        text-align: right;\n",
       "    }\n",
       "</style>\n",
       "<table border=\"1\" class=\"dataframe\">\n",
       "  <thead>\n",
       "    <tr style=\"text-align: right;\">\n",
       "      <th></th>\n",
       "      <th>Keyword to map</th>\n",
       "      <th>Map to</th>\n",
       "      <th>Comment</th>\n",
       "    </tr>\n",
       "  </thead>\n",
       "  <tbody>\n",
       "    <tr>\n",
       "      <th>0</th>\n",
       "      <td>Linguistics</td>\n",
       "      <td>https://vocabs.acdh.oeaw.ac.at/oefosdiscipline...</td>\n",
       "      <td>Sprach- und Literaturwissenschaften</td>\n",
       "    </tr>\n",
       "    <tr>\n",
       "      <th>1</th>\n",
       "      <td>History</td>\n",
       "      <td>https://vocabs.acdh.oeaw.ac.at/oefosdiscipline...</td>\n",
       "      <td>Geschichte, Archäologie</td>\n",
       "    </tr>\n",
       "    <tr>\n",
       "      <th>2</th>\n",
       "      <td>Literature</td>\n",
       "      <td>https://vocabs.acdh.oeaw.ac.at/oefosdiscipline...</td>\n",
       "      <td>Sprach- und Literaturwissenschaften</td>\n",
       "    </tr>\n",
       "    <tr>\n",
       "      <th>3</th>\n",
       "      <td>Video</td>\n",
       "      <td>https://vocabs.sshopencloud.eu/vocabularies/me...</td>\n",
       "      <td>video</td>\n",
       "    </tr>\n",
       "    <tr>\n",
       "      <th>4</th>\n",
       "      <td>Text</td>\n",
       "      <td>https://vocabs.sshopencloud.eu/vocabularies/me...</td>\n",
       "      <td>text</td>\n",
       "    </tr>\n",
       "  </tbody>\n",
       "</table>\n",
       "</div>"
      ],
      "text/plain": [
       "  Keyword to map                                             Map to  \\\n",
       "0    Linguistics  https://vocabs.acdh.oeaw.ac.at/oefosdiscipline...   \n",
       "1        History  https://vocabs.acdh.oeaw.ac.at/oefosdiscipline...   \n",
       "2     Literature  https://vocabs.acdh.oeaw.ac.at/oefosdiscipline...   \n",
       "3          Video  https://vocabs.sshopencloud.eu/vocabularies/me...   \n",
       "4           Text  https://vocabs.sshopencloud.eu/vocabularies/me...   \n",
       "\n",
       "                               Comment  \n",
       "0  Sprach- und Literaturwissenschaften  \n",
       "1              Geschichte, Archäologie  \n",
       "2  Sprach- und Literaturwissenschaften  \n",
       "3                                video  \n",
       "4                                 text  "
      ]
     },
     "execution_count": 4,
     "metadata": {},
     "output_type": "execute_result"
    }
   ],
   "source": [
    "df_keywords.head()"
   ]
  },
  {
   "cell_type": "markdown",
   "metadata": {},
   "source": [
    "## 1 Look for vocabulary terms with the value from the column *Keyword to map*  \n",
    "\n",
    "The function *getMPKeywordProperies(mKey)* is a custum function that uses the API entry \n",
    "\n",
    "    GET https://marketplace-api.sshopencloud.eu/api/concept-search?types=keyword&q=VALUE\n",
    "\n",
    "and returns the vocabulary terms for *mKey*.  \n",
    "\n",
    "In the cell below, the returned dataset is filtered to individuate those values coming from the vocabulary *sshoc-keyword* (vocabulary[code]=sshoc-keyword), then the resulting dataset is shown.\n"
   ]
  },
  {
   "cell_type": "code",
   "execution_count": 5,
   "metadata": {},
   "outputs": [
    {
     "data": {
      "text/html": [
       "<div>\n",
       "<style scoped>\n",
       "    .dataframe tbody tr th:only-of-type {\n",
       "        vertical-align: middle;\n",
       "    }\n",
       "\n",
       "    .dataframe tbody tr th {\n",
       "        vertical-align: top;\n",
       "    }\n",
       "\n",
       "    .dataframe thead th {\n",
       "        text-align: right;\n",
       "    }\n",
       "</style>\n",
       "<table border=\"1\" class=\"dataframe\">\n",
       "  <thead>\n",
       "    <tr style=\"text-align: right;\">\n",
       "      <th></th>\n",
       "      <th>code</th>\n",
       "      <th>vocabulary</th>\n",
       "      <th>label</th>\n",
       "      <th>notation</th>\n",
       "      <th>uri</th>\n",
       "      <th>types</th>\n",
       "      <th>candidate</th>\n",
       "    </tr>\n",
       "  </thead>\n",
       "  <tbody>\n",
       "    <tr>\n",
       "      <th>0</th>\n",
       "      <td>linguistics</td>\n",
       "      <td>{'code': 'sshoc-keyword'}</td>\n",
       "      <td>linguistics</td>\n",
       "      <td></td>\n",
       "      <td>https://vocabs.dariah.eu/sshoc-keyword/linguis...</td>\n",
       "      <td>[{'code': 'keyword'}]</td>\n",
       "      <td>False</td>\n",
       "    </tr>\n",
       "    <tr>\n",
       "      <th>1</th>\n",
       "      <td>computational-linguistics</td>\n",
       "      <td>{'code': 'sshoc-keyword'}</td>\n",
       "      <td>computational-linguistics</td>\n",
       "      <td></td>\n",
       "      <td>https://vocabs.dariah.eu/sshoc-keyword/computa...</td>\n",
       "      <td>[{'code': 'keyword'}]</td>\n",
       "      <td>False</td>\n",
       "    </tr>\n",
       "    <tr>\n",
       "      <th>2</th>\n",
       "      <td>historical-linguistics</td>\n",
       "      <td>{'code': 'sshoc-keyword'}</td>\n",
       "      <td>historical-linguistics</td>\n",
       "      <td></td>\n",
       "      <td>https://vocabs.dariah.eu/sshoc-keyword/histori...</td>\n",
       "      <td>[{'code': 'keyword'}]</td>\n",
       "      <td>False</td>\n",
       "    </tr>\n",
       "    <tr>\n",
       "      <th>3</th>\n",
       "      <td>Corpus+linguistics</td>\n",
       "      <td>{'code': 'sshoc-keyword'}</td>\n",
       "      <td>Corpus linguistics</td>\n",
       "      <td></td>\n",
       "      <td>https://vocabs.dariah.eu/sshoc-keyword/Corpus+...</td>\n",
       "      <td>[{'code': 'keyword'}]</td>\n",
       "      <td>True</td>\n",
       "    </tr>\n",
       "    <tr>\n",
       "      <th>4</th>\n",
       "      <td>linguistic-variation</td>\n",
       "      <td>{'code': 'sshoc-keyword'}</td>\n",
       "      <td>linguistic-variation</td>\n",
       "      <td></td>\n",
       "      <td>https://vocabs.dariah.eu/sshoc-keyword/linguis...</td>\n",
       "      <td>[{'code': 'keyword'}]</td>\n",
       "      <td>False</td>\n",
       "    </tr>\n",
       "    <tr>\n",
       "      <th>5</th>\n",
       "      <td>linguistic+resources</td>\n",
       "      <td>{'code': 'sshoc-keyword'}</td>\n",
       "      <td>linguistic resources</td>\n",
       "      <td></td>\n",
       "      <td>https://vocabs.dariah.eu/sshoc-keyword/linguis...</td>\n",
       "      <td>[{'code': 'keyword'}]</td>\n",
       "      <td>True</td>\n",
       "    </tr>\n",
       "    <tr>\n",
       "      <th>6</th>\n",
       "      <td>linguistic+technologies</td>\n",
       "      <td>{'code': 'sshoc-keyword'}</td>\n",
       "      <td>linguistic technologies</td>\n",
       "      <td></td>\n",
       "      <td>https://vocabs.dariah.eu/sshoc-keyword/linguis...</td>\n",
       "      <td>[{'code': 'keyword'}]</td>\n",
       "      <td>True</td>\n",
       "    </tr>\n",
       "    <tr>\n",
       "      <th>7</th>\n",
       "      <td>linguistic+analysis</td>\n",
       "      <td>{'code': 'sshoc-keyword'}</td>\n",
       "      <td>linguistic analysis</td>\n",
       "      <td></td>\n",
       "      <td>https://vocabs.dariah.eu/sshoc-keyword/linguis...</td>\n",
       "      <td>[{'code': 'keyword'}]</td>\n",
       "      <td>True</td>\n",
       "    </tr>\n",
       "    <tr>\n",
       "      <th>8</th>\n",
       "      <td>MSD-tags%2C+linguistic+standardness</td>\n",
       "      <td>{'code': 'sshoc-keyword'}</td>\n",
       "      <td>MSD-tags, linguistic standardness</td>\n",
       "      <td></td>\n",
       "      <td>https://vocabs.dariah.eu/sshoc-keyword/MSD-tag...</td>\n",
       "      <td>[{'code': 'keyword'}]</td>\n",
       "      <td>True</td>\n",
       "    </tr>\n",
       "    <tr>\n",
       "      <th>9</th>\n",
       "      <td>TEI+Lite+markup%2C+no+linguistic+annotation</td>\n",
       "      <td>{'code': 'sshoc-keyword'}</td>\n",
       "      <td>TEI Lite markup, no linguistic annotation</td>\n",
       "      <td></td>\n",
       "      <td>https://vocabs.dariah.eu/sshoc-keyword/TEI+Lit...</td>\n",
       "      <td>[{'code': 'keyword'}]</td>\n",
       "      <td>True</td>\n",
       "    </tr>\n",
       "    <tr>\n",
       "      <th>10</th>\n",
       "      <td>+syntactically+parsed%3B+Swedish+subset%3A+no+...</td>\n",
       "      <td>{'code': 'sshoc-keyword'}</td>\n",
       "      <td>syntactically parsed; Swedish subset: no ling...</td>\n",
       "      <td></td>\n",
       "      <td>https://vocabs.dariah.eu/sshoc-keyword/+syntac...</td>\n",
       "      <td>[{'code': 'keyword'}]</td>\n",
       "      <td>True</td>\n",
       "    </tr>\n",
       "    <tr>\n",
       "      <th>11</th>\n",
       "      <td>Finnish+subset%3A+MSD-tagged%2C+syntactically+...</td>\n",
       "      <td>{'code': 'sshoc-keyword'}</td>\n",
       "      <td>Finnish subset: MSD-tagged, syntactically pars...</td>\n",
       "      <td></td>\n",
       "      <td>https://vocabs.dariah.eu/sshoc-keyword/Finnish...</td>\n",
       "      <td>[{'code': 'keyword'}]</td>\n",
       "      <td>True</td>\n",
       "    </tr>\n",
       "    <tr>\n",
       "      <th>12</th>\n",
       "      <td>sociolinguistics</td>\n",
       "      <td>{'code': 'sshoc-keyword'}</td>\n",
       "      <td>sociolinguistics</td>\n",
       "      <td></td>\n",
       "      <td>https://vocabs.dariah.eu/sshoc-keyword/socioli...</td>\n",
       "      <td>[{'code': 'keyword'}]</td>\n",
       "      <td>False</td>\n",
       "    </tr>\n",
       "  </tbody>\n",
       "</table>\n",
       "</div>"
      ],
      "text/plain": [
       "                                                 code  \\\n",
       "0                                         linguistics   \n",
       "1                           computational-linguistics   \n",
       "2                              historical-linguistics   \n",
       "3                                  Corpus+linguistics   \n",
       "4                                linguistic-variation   \n",
       "5                                linguistic+resources   \n",
       "6                             linguistic+technologies   \n",
       "7                                 linguistic+analysis   \n",
       "8                 MSD-tags%2C+linguistic+standardness   \n",
       "9         TEI+Lite+markup%2C+no+linguistic+annotation   \n",
       "10  +syntactically+parsed%3B+Swedish+subset%3A+no+...   \n",
       "11  Finnish+subset%3A+MSD-tagged%2C+syntactically+...   \n",
       "12                                   sociolinguistics   \n",
       "\n",
       "                   vocabulary  \\\n",
       "0   {'code': 'sshoc-keyword'}   \n",
       "1   {'code': 'sshoc-keyword'}   \n",
       "2   {'code': 'sshoc-keyword'}   \n",
       "3   {'code': 'sshoc-keyword'}   \n",
       "4   {'code': 'sshoc-keyword'}   \n",
       "5   {'code': 'sshoc-keyword'}   \n",
       "6   {'code': 'sshoc-keyword'}   \n",
       "7   {'code': 'sshoc-keyword'}   \n",
       "8   {'code': 'sshoc-keyword'}   \n",
       "9   {'code': 'sshoc-keyword'}   \n",
       "10  {'code': 'sshoc-keyword'}   \n",
       "11  {'code': 'sshoc-keyword'}   \n",
       "12  {'code': 'sshoc-keyword'}   \n",
       "\n",
       "                                                label notation  \\\n",
       "0                                         linguistics            \n",
       "1                           computational-linguistics            \n",
       "2                              historical-linguistics            \n",
       "3                                  Corpus linguistics            \n",
       "4                                linguistic-variation            \n",
       "5                                linguistic resources            \n",
       "6                             linguistic technologies            \n",
       "7                                 linguistic analysis            \n",
       "8                   MSD-tags, linguistic standardness            \n",
       "9           TEI Lite markup, no linguistic annotation            \n",
       "10   syntactically parsed; Swedish subset: no ling...            \n",
       "11  Finnish subset: MSD-tagged, syntactically pars...            \n",
       "12                                   sociolinguistics            \n",
       "\n",
       "                                                  uri                  types  \\\n",
       "0   https://vocabs.dariah.eu/sshoc-keyword/linguis...  [{'code': 'keyword'}]   \n",
       "1   https://vocabs.dariah.eu/sshoc-keyword/computa...  [{'code': 'keyword'}]   \n",
       "2   https://vocabs.dariah.eu/sshoc-keyword/histori...  [{'code': 'keyword'}]   \n",
       "3   https://vocabs.dariah.eu/sshoc-keyword/Corpus+...  [{'code': 'keyword'}]   \n",
       "4   https://vocabs.dariah.eu/sshoc-keyword/linguis...  [{'code': 'keyword'}]   \n",
       "5   https://vocabs.dariah.eu/sshoc-keyword/linguis...  [{'code': 'keyword'}]   \n",
       "6   https://vocabs.dariah.eu/sshoc-keyword/linguis...  [{'code': 'keyword'}]   \n",
       "7   https://vocabs.dariah.eu/sshoc-keyword/linguis...  [{'code': 'keyword'}]   \n",
       "8   https://vocabs.dariah.eu/sshoc-keyword/MSD-tag...  [{'code': 'keyword'}]   \n",
       "9   https://vocabs.dariah.eu/sshoc-keyword/TEI+Lit...  [{'code': 'keyword'}]   \n",
       "10  https://vocabs.dariah.eu/sshoc-keyword/+syntac...  [{'code': 'keyword'}]   \n",
       "11  https://vocabs.dariah.eu/sshoc-keyword/Finnish...  [{'code': 'keyword'}]   \n",
       "12  https://vocabs.dariah.eu/sshoc-keyword/socioli...  [{'code': 'keyword'}]   \n",
       "\n",
       "    candidate  \n",
       "0       False  \n",
       "1       False  \n",
       "2       False  \n",
       "3        True  \n",
       "4       False  \n",
       "5        True  \n",
       "6        True  \n",
       "7        True  \n",
       "8        True  \n",
       "9        True  \n",
       "10       True  \n",
       "11       True  \n",
       "12      False  "
      ]
     },
     "execution_count": 5,
     "metadata": {},
     "output_type": "execute_result"
    }
   ],
   "source": [
    "#In this example the key value searched is the one in the rown of the google sheet\n",
    "rown=0\n",
    "myKey=df_keywords.iloc[rown]['Keyword to map']\n",
    "df_vocterms=mpdata.getMPKeywordProperties(myKey)\n",
    "df_vocterms=df_vocterms[df_vocterms.vocabulary=={'code': 'sshoc-keyword'}]\n",
    "df_vocterms"
   ]
  },
  {
   "cell_type": "markdown",
   "metadata": {},
   "source": [
    "The set of vocabulary terms is filterd to individuate those with the exact match (case-insensitive) "
   ]
  },
  {
   "cell_type": "code",
   "execution_count": 6,
   "metadata": {},
   "outputs": [
    {
     "data": {
      "text/html": [
       "<div>\n",
       "<style scoped>\n",
       "    .dataframe tbody tr th:only-of-type {\n",
       "        vertical-align: middle;\n",
       "    }\n",
       "\n",
       "    .dataframe tbody tr th {\n",
       "        vertical-align: top;\n",
       "    }\n",
       "\n",
       "    .dataframe thead th {\n",
       "        text-align: right;\n",
       "    }\n",
       "</style>\n",
       "<table border=\"1\" class=\"dataframe\">\n",
       "  <thead>\n",
       "    <tr style=\"text-align: right;\">\n",
       "      <th></th>\n",
       "      <th>code</th>\n",
       "      <th>vocabulary</th>\n",
       "      <th>label</th>\n",
       "      <th>notation</th>\n",
       "      <th>uri</th>\n",
       "      <th>types</th>\n",
       "      <th>candidate</th>\n",
       "    </tr>\n",
       "  </thead>\n",
       "  <tbody>\n",
       "    <tr>\n",
       "      <th>0</th>\n",
       "      <td>linguistics</td>\n",
       "      <td>{'code': 'sshoc-keyword'}</td>\n",
       "      <td>linguistics</td>\n",
       "      <td></td>\n",
       "      <td>https://vocabs.dariah.eu/sshoc-keyword/linguis...</td>\n",
       "      <td>[{'code': 'keyword'}]</td>\n",
       "      <td>False</td>\n",
       "    </tr>\n",
       "  </tbody>\n",
       "</table>\n",
       "</div>"
      ],
      "text/plain": [
       "          code                 vocabulary        label notation  \\\n",
       "0  linguistics  {'code': 'sshoc-keyword'}  linguistics            \n",
       "\n",
       "                                                 uri                  types  \\\n",
       "0  https://vocabs.dariah.eu/sshoc-keyword/linguis...  [{'code': 'keyword'}]   \n",
       "\n",
       "   candidate  \n",
       "0      False  "
      ]
     },
     "execution_count": 6,
     "metadata": {},
     "output_type": "execute_result"
    }
   ],
   "source": [
    "df_vocterms=df_vocterms[(df_vocterms.code).str.lower()==myKey.lower()]\n",
    "df_vocterms"
   ]
  },
  {
   "cell_type": "markdown",
   "metadata": {},
   "source": [
    "## 2 Look for the term in the column *Map to*  \n",
    "\n",
    "The function *getMPConcepts()* is a custum function that uses the API entry: \n",
    "\n",
    "GET https://marketplace-api.sshopencloud.eu/api/concept-search?perpage=100&q=URI\n",
    "\n",
    "to get all the *concepts* from the MarketPlace dataset. \n",
    "\n",
    "**Note that executing this function may require some time, currently 14995 records are returned**\n",
    "\n"
   ]
  },
  {
   "cell_type": "code",
   "execution_count": null,
   "metadata": {},
   "outputs": [],
   "source": [
    "df_concepts=mpdata.getMPConcepts()\n",
    "df_concepts.count()"
   ]
  },
  {
   "cell_type": "markdown",
   "metadata": {},
   "source": [
    "a look at few of the returned records"
   ]
  },
  {
   "cell_type": "code",
   "execution_count": null,
   "metadata": {},
   "outputs": [],
   "source": [
    "#df_concepts.tail()"
   ]
  },
  {
   "cell_type": "markdown",
   "metadata": {},
   "source": [
    "Search for the one concept that has in the *uri* column the value of the *Map to*. There should be only one such concept."
   ]
  },
  {
   "cell_type": "code",
   "execution_count": null,
   "metadata": {},
   "outputs": [],
   "source": [
    "test3=df_concepts[df_concepts.uri==df_keywords.iloc[rown]['Map to']]\n",
    "test3.head()"
   ]
  },
  {
   "cell_type": "markdown",
   "metadata": {},
   "source": [
    "The attribute *types* contains the value of the type code\n",
    "\n",
    "{\n",
    "      \"type\": {\n",
    "        \"code\": \"discipline\"\n",
    "      },\n",
    "      \"concept\": {\n",
    "        \"code\": \"6020\",\n",
    "        \"vocabulary\": {\n",
    "          \"code\": \"discipline\"\n",
    "        },\n",
    "        \"uri\": \"https://vocabs.acdh.oeaw.ac.at/oefosdisciplines/6020\"\n",
    "      }\n",
    "    }"
   ]
  },
  {
   "cell_type": "code",
   "execution_count": null,
   "metadata": {},
   "outputs": [],
   "source": [
    "jsonType={}\n",
    "jsonConceptVal={}\n",
    "jsonConcept={}\n",
    "jsonType[\"type\"]=test3.iloc[0].vocabulary\n",
    "jsonConceptVal[\"code\"]=test3.iloc[0].code\n",
    "jsonConceptVal[\"vocabulary\"]=test3.iloc[0].vocabulary\n",
    "jsonConceptVal[\"uri\"]=test3.iloc[0].uri\n",
    "jsonConcept[\"concept\"]=jsonConceptVal\n",
    "jsonConcept"
   ]
  },
  {
   "cell_type": "markdown",
   "metadata": {},
   "source": [
    "## 3 Go through all MP items to look for the *keywords-to-map* in the keyword-dynamic-property\n",
    "\n",
    "For this we use the *getAllPropertiesBySources()* custom functions that returns all dynamic properties; for every property it is reported also the main attributes and the PID of the item whom it belongs."
   ]
  },
  {
   "cell_type": "code",
   "execution_count": null,
   "metadata": {},
   "outputs": [],
   "source": [
    "utils=hel.Util()\n",
    "resultfields=['persistentId', 'MPUrl', 'category', 'label', 'type.code', 'type.label', 'concept.code', 'concept.label', 'concept.uri', 'concept.vocabulary.scheme']\n",
    "udf_alprop=utils.getAllPropertiesBySources()\n",
    "udf_alprop=udf_alprop[resultfields]"
   ]
  },
  {
   "cell_type": "markdown",
   "metadata": {},
   "source": [
    "Filter the dataset using the *Keyword to Map* and show the result (or part of the result)"
   ]
  },
  {
   "cell_type": "code",
   "execution_count": null,
   "metadata": {},
   "outputs": [],
   "source": [
    "udf_alprop.reset_index(inplace=True)\n",
    "test=udf_alprop[udf_alprop['concept.label'].str.lower()==myKey.lower()]\n"
   ]
  },
  {
   "cell_type": "code",
   "execution_count": null,
   "metadata": {},
   "outputs": [],
   "source": [
    "test.iloc[0:1]"
   ]
  },
  {
   "cell_type": "code",
   "execution_count": null,
   "metadata": {},
   "outputs": [],
   "source": [
    "\n",
    "jsonConceptVal={}\n",
    "jsonConceptVal[\"code\"]=test3.iloc[0].code\n",
    "jsonConceptVal[\"vocabulary\"]=test3.iloc[0].vocabulary\n",
    "jsonConceptVal[\"uri\"]=test3.iloc[0].uri\n",
    "jsonConcept\n",
    "attrList={}\n",
    "attrList[\"type\"]=test3.iloc[0].vocabulary\n",
    "attrList[\"concept\"]=jsonConceptVal\n",
    "filterList={}\n",
    "filterList[\"concept\"]=myKey.lower()\n",
    "attrList\n",
    "mpdata.updateItems(test.iloc[0:1], attrList, filterList)"
   ]
  },
  {
   "cell_type": "markdown",
   "metadata": {},
   "source": [
    "To be completed"
   ]
  }
 ],
 "metadata": {
  "kernelspec": {
   "display_name": "Python 3 (ipykernel)",
   "language": "python",
   "name": "python3"
  },
  "language_info": {
   "codemirror_mode": {
    "name": "ipython",
    "version": 3
   },
   "file_extension": ".py",
   "mimetype": "text/x-python",
   "name": "python",
   "nbconvert_exporter": "python",
   "pygments_lexer": "ipython3",
   "version": "3.10.0"
  }
 },
 "nbformat": 4,
 "nbformat_minor": 4
}
