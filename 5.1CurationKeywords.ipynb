{
 "cells": [
  {
   "cell_type": "markdown",
   "metadata": {},
   "source": [
    "# Notebook 5.1 - Curation-Keywords\n",
    "\n",
    "This notebook implements the workflow defined in:\n",
    "\n",
    "[Curating keywords](https://gitlab.gwdg.de/sshoc/marketplace-curation/-/issues/1#note_71056) GitLab issue\n",
    "\n",
    "The notebook works as follows:\n",
    "\n",
    "0. Imports external libraries and loads the MP dataset and the google sheet\n",
    "2. Updates keywords on MP as follows:\n",
    "    1. Looks for vocabulary terms with the value from the column *Keyword to map*\n",
    "    2. Looks for the term in the column *Map to*\n",
    "    3. Goes through all MP items to look for the *keywords-to-map* in the keyword-dynamic-property\n",
    "    4. Replaces the  the *keywords-to-map* in the MP dataset.\n"
   ]
  },
  {
   "cell_type": "markdown",
   "metadata": {},
   "source": [
    "## 0 Requirements to run this notebook\n",
    "\n",
    "This section gives all the relevant information to \"interact\" with the MP data.\n",
    "\n",
    "### 0.1 libraries\n",
    "*There are a number of external libraries needed to run the notebook* \n",
    "\n",
    "*Furthermore, a dedicated SSH Open Marketplace library - sshmarketplacelib - with customised functions has been created and can be imported using the python import commands.* \n",
    "\n",
    "*Below the libraries import needed to run this notebook*"
   ]
  },
  {
   "cell_type": "code",
   "execution_count": 1,
   "metadata": {},
   "outputs": [],
   "source": [
    "import numpy as np\n",
    "import pandas as pd\n",
    "import requests\n",
    "#import the MarketPlace Library \n",
    "from sshmarketplacelib import MPData as mpd\n",
    "from sshmarketplacelib import  eval as eva, helper as hel"
   ]
  },
  {
   "cell_type": "markdown",
   "metadata": {},
   "source": [
    "### 0.2 Get the data\n",
    "\n"
   ]
  },
  {
   "cell_type": "markdown",
   "metadata": {},
   "source": [
    "Get the MarketPlace dataset"
   ]
  },
  {
   "cell_type": "code",
   "execution_count": 2,
   "metadata": {},
   "outputs": [
    {
     "name": "stdout",
     "output_type": "stream",
     "text": [
      "getting data from local repository...\n",
      "getting data from local repository...\n",
      "getting data from local repository...\n",
      "getting data from local repository...\n",
      "getting data from local repository...\n"
     ]
    }
   ],
   "source": [
    "mpdata = mpd()\n",
    "df_tool_flat =mpdata.getMPItems (\"toolsandservices\", True)\n",
    "df_publication_flat =mpdata.getMPItems (\"publications\", True)\n",
    "df_trainingmaterials_flat =mpdata.getMPItems (\"trainingmaterials\", True)\n",
    "df_workflows_flat =mpdata.getMPItems (\"workflows\", True)\n",
    "df_datasets_flat =mpdata.getMPItems (\"datasets\", True)"
   ]
  },
  {
   "cell_type": "markdown",
   "metadata": {},
   "source": [
    "Get the list of keywords from the [gsheet](https://docs.google.com/spreadsheets/d/1-Oh9_SxIhfMAT6KNJrMf4LetCpy5s1fHZEyTL__TUVA/edit#gid=0)"
   ]
  },
  {
   "cell_type": "code",
   "execution_count": 3,
   "metadata": {
    "scrolled": true
   },
   "outputs": [],
   "source": [
    "sheet_id = '1-Oh9_SxIhfMAT6KNJrMf4LetCpy5s1fHZEyTL__TUVA'\n",
    "sheet_name = 'Mappings'\n",
    "url = f'https://docs.google.com/spreadsheets/d/{sheet_id}/gviz/tq?tqx=out:csv&sheet={sheet_name}'\n",
    "df_keywords=pd.read_csv(url)"
   ]
  },
  {
   "cell_type": "markdown",
   "metadata": {},
   "source": [
    "The function *getMPConcepts()* is a custum function that uses the API entry: \n",
    "\n",
    "GET https://marketplace-api.sshopencloud.eu/api/concept-search?perpage=100&q=URI\n",
    "\n",
    "to get all the *concepts* from the MarketPlace dataset. \n",
    "\n",
    "**Note that executing this function may require some time, currently 14995 records are returned**\n",
    "\n"
   ]
  },
  {
   "cell_type": "code",
   "execution_count": 4,
   "metadata": {},
   "outputs": [],
   "source": [
    "df_concepts=mpdata.getMPConcepts()"
   ]
  },
  {
   "cell_type": "code",
   "execution_count": 5,
   "metadata": {},
   "outputs": [],
   "source": [
    "utils=hel.Util()\n",
    "resultfields=['persistentId', 'MPUrl', 'category', 'label', 'type.code', 'type.label', 'concept.code', 'concept.label', 'concept.uri', 'concept.vocabulary.scheme']\n",
    "udf_alprop=utils.getAllPropertiesBySources()\n",
    "udf_alprop=udf_alprop.loc[ : ,resultfields]"
   ]
  },
  {
   "cell_type": "markdown",
   "metadata": {},
   "source": [
    "A few lines of the gsheet"
   ]
  },
  {
   "cell_type": "code",
   "execution_count": 7,
   "metadata": {},
   "outputs": [
    {
     "data": {
      "text/html": [
       "<div>\n",
       "<style scoped>\n",
       "    .dataframe tbody tr th:only-of-type {\n",
       "        vertical-align: middle;\n",
       "    }\n",
       "\n",
       "    .dataframe tbody tr th {\n",
       "        vertical-align: top;\n",
       "    }\n",
       "\n",
       "    .dataframe thead th {\n",
       "        text-align: right;\n",
       "    }\n",
       "</style>\n",
       "<table border=\"1\" class=\"dataframe\">\n",
       "  <thead>\n",
       "    <tr style=\"text-align: right;\">\n",
       "      <th></th>\n",
       "      <th>Keyword to map</th>\n",
       "      <th>Map to</th>\n",
       "      <th>Comment</th>\n",
       "      <th>Discussion</th>\n",
       "    </tr>\n",
       "  </thead>\n",
       "  <tbody>\n",
       "    <tr>\n",
       "      <th>0</th>\n",
       "      <td>Linguistics</td>\n",
       "      <td>https://vocabs.acdh.oeaw.ac.at/oefosdiscipline...</td>\n",
       "      <td>Sprach- und Literaturwissenschaften</td>\n",
       "      <td>NaN</td>\n",
       "    </tr>\n",
       "    <tr>\n",
       "      <th>1</th>\n",
       "      <td>History</td>\n",
       "      <td>https://vocabs.acdh.oeaw.ac.at/oefosdiscipline...</td>\n",
       "      <td>Geschichte, Archäologie</td>\n",
       "      <td>NaN</td>\n",
       "    </tr>\n",
       "    <tr>\n",
       "      <th>2</th>\n",
       "      <td>Literature</td>\n",
       "      <td>https://vocabs.acdh.oeaw.ac.at/oefosdiscipline...</td>\n",
       "      <td>Sprach- und Literaturwissenschaften</td>\n",
       "      <td>NaN</td>\n",
       "    </tr>\n",
       "    <tr>\n",
       "      <th>3</th>\n",
       "      <td>Video</td>\n",
       "      <td>https://vocabs.sshopencloud.eu/vocabularies/me...</td>\n",
       "      <td>video</td>\n",
       "      <td>NaN</td>\n",
       "    </tr>\n",
       "    <tr>\n",
       "      <th>4</th>\n",
       "      <td>Text</td>\n",
       "      <td>https://vocabs.sshopencloud.eu/vocabularies/me...</td>\n",
       "      <td>text</td>\n",
       "      <td>NaN</td>\n",
       "    </tr>\n",
       "  </tbody>\n",
       "</table>\n",
       "</div>"
      ],
      "text/plain": [
       "  Keyword to map                                             Map to  \\\n",
       "0    Linguistics  https://vocabs.acdh.oeaw.ac.at/oefosdiscipline...   \n",
       "1        History  https://vocabs.acdh.oeaw.ac.at/oefosdiscipline...   \n",
       "2     Literature  https://vocabs.acdh.oeaw.ac.at/oefosdiscipline...   \n",
       "3          Video  https://vocabs.sshopencloud.eu/vocabularies/me...   \n",
       "4           Text  https://vocabs.sshopencloud.eu/vocabularies/me...   \n",
       "\n",
       "                               Comment Discussion  \n",
       "0  Sprach- und Literaturwissenschaften        NaN  \n",
       "1              Geschichte, Archäologie        NaN  \n",
       "2  Sprach- und Literaturwissenschaften        NaN  \n",
       "3                                video        NaN  \n",
       "4                                 text        NaN  "
      ]
     },
     "execution_count": 7,
     "metadata": {},
     "output_type": "execute_result"
    }
   ],
   "source": [
    "df_keywords.head()"
   ]
  },
  {
   "cell_type": "markdown",
   "metadata": {},
   "source": [
    "### 1 Update keywords\n",
    "\n",
    "The function *getMPKeywordProperies(mKey)* used below is a custum function that uses the API entry \n",
    "\n",
    "    GET https://marketplace-api.sshopencloud.eu/api/concept-search?types=keyword&q=VALUE\n",
    "\n",
    "and returns the vocabulary terms for *mKey*.  \n",
    "\n",
    "The returned dataset is filtered to individuate those values coming from the vocabulary *sshoc-keyword* (vocabulary[code]=sshoc-keyword), then the resulting dataset is shown.\n"
   ]
  },
  {
   "cell_type": "code",
   "execution_count": null,
   "metadata": {
    "scrolled": false
   },
   "outputs": [],
   "source": [
    "\n",
    "\n",
    "selectedItems=pd.DataFrame()\n",
    "for rown, row in df_keywords.iterrows():\n",
    "    myKey=df_keywords.iloc[rown]['Keyword to map']\n",
    "    #df_vocterms=pd.DataFrame()\n",
    "    df_vocterms=mpdata.getMPKeywordProperties(myKey).loc[:]\n",
    "    print(f'\\n***** checked {myKey}')\n",
    "    if (df_vocterms.empty):\n",
    "        print (f\"#####  No vocabulary terms found for {myKey}\")\n",
    "        continue;\n",
    "    df_vocterms=df_vocterms.loc[(df_vocterms.vocabulary=={'code': 'sshoc-keyword'}), ]\n",
    "    #The set of vocabulary terms is filterd to individuate those with the exact match (case-insensitive) \n",
    "    df_vocterms=df_vocterms.loc[(df_vocterms.code).str.lower()==myKey.lower()]\n",
    "\n",
    "    #Search for the one concept that has in the uri column the value of the Map to. There should be only one such concept.\n",
    "  \n",
    "    df_mapto=df_concepts.loc[(df_concepts.uri==df_keywords.iloc[rown]['Map to']),]\n",
    "\n",
    "    #Filter the dataset using the Keyword to Map\n",
    "\n",
    "    df_items=udf_alprop.loc[(udf_alprop['concept.label'].str.lower()==myKey.lower()), ]#& (udf_alprop['type.code'].str.lower()=='keyword')]\n",
    "    \n",
    "    if (df_items.empty):\n",
    "        print (f\"%%%%%  No Items found for {myKey}\")\n",
    "        continue;\n",
    "    print (f'&&&&&  Found as {df_items.iloc[0][\"type.code\"]}')\n",
    "    #update the MP\n",
    "    jsonConcept={}\n",
    "    jsonConceptVal={}\n",
    "    jsonConceptVal[\"code\"]=df_mapto.iloc[0].code\n",
    "    jsonConceptVal[\"vocabulary\"]=df_mapto.iloc[0].vocabulary\n",
    "    jsonConceptVal[\"uri\"]=df_mapto.iloc[0].uri\n",
    "    #jsonConcept\n",
    "    attrList={}\n",
    "    attrList[\"type\"]=df_mapto.iloc[0].types[0]\n",
    "    attrList[\"concept\"]=jsonConceptVal\n",
    "    filterList={}\n",
    "    filterList[\"concept\"]=myKey.lower()\n",
    "   \n",
    "    df_items.loc[ : ,'updateList']=[attrList for _ in range(df_items.shape[0])]\n",
    "    \n",
    "    df_items.loc[ : ,'filterList']=[filterList for _ in range(df_items.shape[0])]\n",
    "   \n",
    "    selectedItems=selectedItems.append(df_items)\n",
    "    \n",
    "\n",
    "attrList={}\n",
    "filterList={}\n",
    "mpdata.updateItemsProperties(selectedItems)\n"
   ]
  },
  {
   "cell_type": "code",
   "execution_count": null,
   "metadata": {},
   "outputs": [],
   "source": [
    "selectedItems.count()"
   ]
  },
  {
   "cell_type": "code",
   "execution_count": null,
   "metadata": {},
   "outputs": [],
   "source": []
  }
 ],
 "metadata": {
  "kernelspec": {
   "display_name": "Python 3 (ipykernel)",
   "language": "python",
   "name": "python3"
  },
  "language_info": {
   "codemirror_mode": {
    "name": "ipython",
    "version": 3
   },
   "file_extension": ".py",
   "mimetype": "text/x-python",
   "name": "python",
   "nbconvert_exporter": "python",
   "pygments_lexer": "ipython3",
   "version": "3.10.0"
  }
 },
 "nbformat": 4,
 "nbformat_minor": 4
}
